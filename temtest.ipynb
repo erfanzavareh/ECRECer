{
 "cells": [
  {
   "cell_type": "code",
   "execution_count": 1,
   "id": "a94ce490-e7bb-4e65-ba3a-f09797b2e905",
   "metadata": {},
   "outputs": [
    {
     "name": "stdout",
     "output_type": "stream",
     "text": [
      "INFO: Pandarallel will run on 104 workers.\n",
      "INFO: Pandarallel will use Memory file system to transfer data between the main process and workers.\n"
     ]
    }
   ],
   "source": [
    "import pandas as pd\n",
    "import numpy as np\n",
    "import joblib\n",
    "import os\n",
    "import benchmark_common as bcommon\n",
    "import config as cfg\n",
    "import benchmark_test as btest\n",
    "import benchmark_train as btrain\n",
    "import benchmark_evaluation as eva\n",
    "from sklearn import metrics\n",
    "import argparse\n",
    "import tools.funclib as funclib\n",
    "import tools.embedding_esm as esmebd\n",
    "import time\n",
    "import benchmark_evaluation as eva\n",
    "from tqdm import tqdm\n",
    "from pandarallel import pandarallel #  import pandaralle\n",
    "pandarallel.initialize() \n",
    "\n",
    "%load_ext autoreload\n",
    "%autoreload 2"
   ]
  },
  {
   "cell_type": "code",
   "execution_count": 3,
   "id": "cfebb39d",
   "metadata": {},
   "outputs": [],
   "source": [
    "from email import header\n",
    "import json\n",
    "import numpy as np\n",
    "import pandas as pd\n",
    "from sklearn.preprocessing import MultiLabelBinarizer\n",
    "from keras.models import Model\n",
    "from keras.optimizers import Adam\n",
    "from keras.layers import Input, Dense\n",
    "from tools.Attention import Attention\n",
    "from keras.layers import GRU, Bidirectional\n",
    "from tqdm import tqdm\n",
    "import matplotlib.pyplot as plt\n",
    "import logging\n",
    "from sklearn.model_selection import train_test_split"
   ]
  },
  {
   "cell_type": "code",
   "execution_count": 4,
   "id": "122abc01",
   "metadata": {},
   "outputs": [
    {
     "name": "stdout",
     "output_type": "stream",
     "text": [
      "step 1 loading task data\n",
      "step 2: Loading features, embdding method=esm32\n"
     ]
    }
   ],
   "source": [
    "EMBEDDING_METHOD = 'esm32'\n",
    "print('step 1 loading task data')\n",
    "\n",
    "data_task1_train = pd.read_feather(cfg.FILE_TASK1_TRAIN)\n",
    "data_task2_train = pd.read_feather(cfg.FILE_TASK2_TRAIN)\n",
    "data_task3_train = pd.read_feather(cfg.FILE_TASK3_TRAIN)\n",
    "\n",
    "data_task1_test = pd.read_feather(cfg.FILE_TASK1_TEST)\n",
    "data_task2_test = pd.read_feather(cfg.FILE_TASK2_TEST)\n",
    "data_task3_test = pd.read_feather(cfg.FILE_TASK3_TEST)\n",
    "\n",
    "print(f'step 2: Loading features, embdding method={EMBEDDING_METHOD}')\n",
    "feature_df = bcommon.load_data_embedding(embedding_type=EMBEDDING_METHOD)"
   ]
  },
  {
   "cell_type": "code",
   "execution_count": 109,
   "id": "50202ef7",
   "metadata": {},
   "outputs": [
    {
     "name": "stdout",
     "output_type": "stream",
     "text": [
      "step 3: train isEnzyme model\n"
     ]
    }
   ],
   "source": [
    "print('step 3: train isEnzyme model')\n",
    "task1_train_X, task1_train_Y = btrain.get_train_X_Y(traindata=data_task1_train, feature_bankfile=feature_df, task=1)\n",
    "task1_test_X, task1_test_Y = btrain.get_train_X_Y(traindata=data_task1_test, feature_bankfile=feature_df, task=1)\n",
    "t1_x_train, t1_x_vali, t1_y_train, t1_y_vali = train_test_split(task1_train_X,np.array(task1_train_Y).ravel(),test_size=cfg.VALIDATION_RATE,random_state=1)\n",
    "\n",
    "\n",
    "t1_x_train = np.reshape(np.array(t1_x_train),(-1,1,1280))\n",
    "t1_x_vali =np.reshape(np.array(t1_x_vali),(-1,1,1280))\n",
    "task1_test_X =np.reshape(np.array(task1_test_X),(-1,1,1280))\n",
    "\n",
    "\n",
    "t1_eval_set = [(t1_x_train, t1_y_train), (t1_x_vali, t1_y_vali), (task1_test_X, task1_test_Y)]"
   ]
  },
  {
   "cell_type": "code",
   "execution_count": 128,
   "id": "051f88b5",
   "metadata": {},
   "outputs": [
    {
     "name": "stdout",
     "output_type": "stream",
     "text": [
      "[name: \"/device:CPU:0\"\n",
      "device_type: \"CPU\"\n",
      "memory_limit: 268435456\n",
      "locality {\n",
      "}\n",
      "incarnation: 4155592230932309280\n",
      "xla_global_id: -1\n",
      "]\n"
     ]
    },
    {
     "name": "stderr",
     "output_type": "stream",
     "text": [
      "2022-10-10 13:38:24.350935: W tensorflow/core/common_runtime/gpu/gpu_device.cc:1934] Cannot dlopen some GPU libraries. Please make sure the missing libraries mentioned above are installed properly if you would like to use GPU. Follow the guide at https://www.tensorflow.org/install/gpu for how to download and setup the required libraries for your platform.\n",
      "Skipping registering GPU devices...\n"
     ]
    }
   ],
   "source": [
    "from tensorflow.python.client import device_lib\n",
    "print(device_lib.list_local_devices())"
   ]
  },
  {
   "cell_type": "code",
   "execution_count": 127,
   "id": "1cf2d44d",
   "metadata": {},
   "outputs": [],
   "source": [
    "inputs = Input(shape=(1, 1280, ), name=\"input\")\n",
    "gru = Bidirectional(GRU(128, dropout=0.2, return_sequences=True), name=\"bi-gru\")(inputs)\n",
    "attention = Attention(32, name=\"attention\")(gru)    \n",
    "num_class = 1\n",
    "output = Dense(num_class, activation='sigmoid', name=\"dense\")(attention)\n",
    "model = Model(inputs, output)"
   ]
  },
  {
   "cell_type": "code",
   "execution_count": 125,
   "id": "6f36246b",
   "metadata": {},
   "outputs": [
    {
     "name": "stdout",
     "output_type": "stream",
     "text": [
      "Epoch 1/5\n",
      "5/5 [==============================] - 4s 250ms/step - loss: 0.5529 - accuracy: 0.7094 - val_loss: 0.5584 - val_accuracy: 0.6559\n",
      "Epoch 2/5\n",
      "5/5 [==============================] - 0s 99ms/step - loss: 0.5674 - accuracy: 0.6812 - val_loss: 0.5281 - val_accuracy: 0.7418\n",
      "Epoch 3/5\n",
      "5/5 [==============================] - 0s 100ms/step - loss: 0.5511 - accuracy: 0.7312 - val_loss: 0.5266 - val_accuracy: 0.7538\n",
      "Epoch 4/5\n",
      "5/5 [==============================] - 0s 98ms/step - loss: 0.5753 - accuracy: 0.6781 - val_loss: 0.5759 - val_accuracy: 0.6214\n",
      "Epoch 5/5\n",
      "5/5 [==============================] - 0s 97ms/step - loss: 0.5448 - accuracy: 0.7219 - val_loss: 0.5242 - val_accuracy: 0.7642\n"
     ]
    }
   ],
   "source": [
    "model.compile(loss='binary_crossentropy',\n",
    "              optimizer=Adam(),\n",
    "              metrics=['accuracy'])\n",
    "\n",
    "\n",
    "history = model.fit(\n",
    "                        x=t1_x_train, \n",
    "                        y=t1_y_train, \n",
    "                        validation_data=(task1_test_X, task1_test_Y),\n",
    "                        batch_size=128, \n",
    "                        epochs=5,\n",
    "                        steps_per_epoch=5\n",
    "                    )"
   ]
  },
  {
   "cell_type": "code",
   "execution_count": null,
   "id": "0914139b",
   "metadata": {},
   "outputs": [],
   "source": []
  },
  {
   "cell_type": "code",
   "execution_count": 62,
   "id": "3a62b130",
   "metadata": {},
   "outputs": [],
   "source": [
    "\n",
    "\n",
    "# t1_y_train = np.reshape(np.array(t1_y_train),(-1,1))\n",
    "# t1_y_vali = np.reshape(np.array(t1_y_vali),(-1,1))\n",
    "# task1_test_Y = np.reshape(np.array(task1_test_Y),(-1,1))"
   ]
  },
  {
   "cell_type": "code",
   "execution_count": 126,
   "id": "fc1ae3d0",
   "metadata": {},
   "outputs": [
    {
     "data": {
      "image/png": "[encoded data removed]",
      "text/plain": [
       "<Figure size 432x288 with 2 Axes>"
      ]
     },
     "metadata": {
      "needs_background": "light"
     },
     "output_type": "display_data"
    }
   ],
   "source": [
    "plt.subplot(2, 1, 1)\n",
    "epochs = len(history.history['loss'])\n",
    "plt.plot(range(epochs), history.history['loss'], label='loss')\n",
    "plt.plot(range(epochs), history.history['val_loss'], label='val_loss')\n",
    "plt.legend()\n",
    "\n",
    "plt.subplot(2, 1, 2)\n",
    "epochs = len(history.history['accuracy'])\n",
    "plt.plot(range(epochs), history.history['accuracy'], label='acc')\n",
    "plt.plot(range(epochs), history.history['val_accuracy'], label='val_acc')\n",
    "plt.legend()\n",
    "plt.savefig(\"loss_acc.png\")"
   ]
  },
  {
   "cell_type": "code",
   "execution_count": null,
   "id": "fde7b96e",
   "metadata": {},
   "outputs": [],
   "source": []
  },
  {
   "cell_type": "code",
   "execution_count": null,
   "id": "665add2d",
   "metadata": {},
   "outputs": [],
   "source": []
  },
  {
   "cell_type": "code",
   "execution_count": 97,
   "id": "b068eed9",
   "metadata": {},
   "outputs": [],
   "source": [
    "model.save(cfg.MODELDIR+'m_task1.h5')"
   ]
  },
  {
   "cell_type": "code",
   "execution_count": 107,
   "id": "c3d33cfe",
   "metadata": {},
   "outputs": [
    {
     "name": "stdout",
     "output_type": "stream",
     "text": [
      "332/332 [==============================] - 1s 2ms/step\n"
     ]
    },
    {
     "data": {
      "text/html": [
       "<div>\n",
       "<style scoped>\n",
       "    .dataframe tbody tr th:only-of-type {\n",
       "        vertical-align: middle;\n",
       "    }\n",
       "\n",
       "    .dataframe tbody tr th {\n",
       "        vertical-align: top;\n",
       "    }\n",
       "\n",
       "    .dataframe thead th {\n",
       "        text-align: right;\n",
       "    }\n",
       "</style>\n",
       "<table border=\"1\" class=\"dataframe\">\n",
       "  <thead>\n",
       "    <tr style=\"text-align: right;\">\n",
       "      <th></th>\n",
       "      <th>groundtruth</th>\n",
       "      <th>pred_prob</th>\n",
       "      <th>predict</th>\n",
       "    </tr>\n",
       "  </thead>\n",
       "  <tbody>\n",
       "    <tr>\n",
       "      <th>0</th>\n",
       "      <td>0</td>\n",
       "      <td>4.202201e-02</td>\n",
       "      <td>0</td>\n",
       "    </tr>\n",
       "    <tr>\n",
       "      <th>1</th>\n",
       "      <td>0</td>\n",
       "      <td>2.109072e-04</td>\n",
       "      <td>0</td>\n",
       "    </tr>\n",
       "    <tr>\n",
       "      <th>2</th>\n",
       "      <td>0</td>\n",
       "      <td>1.140410e-01</td>\n",
       "      <td>0</td>\n",
       "    </tr>\n",
       "    <tr>\n",
       "      <th>3</th>\n",
       "      <td>0</td>\n",
       "      <td>3.089896e-02</td>\n",
       "      <td>0</td>\n",
       "    </tr>\n",
       "    <tr>\n",
       "      <th>4</th>\n",
       "      <td>0</td>\n",
       "      <td>4.774848e-01</td>\n",
       "      <td>0</td>\n",
       "    </tr>\n",
       "    <tr>\n",
       "      <th>...</th>\n",
       "      <td>...</td>\n",
       "      <td>...</td>\n",
       "      <td>...</td>\n",
       "    </tr>\n",
       "    <tr>\n",
       "      <th>10609</th>\n",
       "      <td>1</td>\n",
       "      <td>7.675893e-01</td>\n",
       "      <td>1</td>\n",
       "    </tr>\n",
       "    <tr>\n",
       "      <th>10610</th>\n",
       "      <td>1</td>\n",
       "      <td>9.958066e-01</td>\n",
       "      <td>1</td>\n",
       "    </tr>\n",
       "    <tr>\n",
       "      <th>10611</th>\n",
       "      <td>0</td>\n",
       "      <td>8.044339e-02</td>\n",
       "      <td>0</td>\n",
       "    </tr>\n",
       "    <tr>\n",
       "      <th>10612</th>\n",
       "      <td>0</td>\n",
       "      <td>1.114186e-07</td>\n",
       "      <td>0</td>\n",
       "    </tr>\n",
       "    <tr>\n",
       "      <th>10613</th>\n",
       "      <td>1</td>\n",
       "      <td>8.546276e-01</td>\n",
       "      <td>1</td>\n",
       "    </tr>\n",
       "  </tbody>\n",
       "</table>\n",
       "<p>10614 rows × 3 columns</p>\n",
       "</div>"
      ],
      "text/plain": [
       "       groundtruth     pred_prob  predict\n",
       "0                0  4.202201e-02        0\n",
       "1                0  2.109072e-04        0\n",
       "2                0  1.140410e-01        0\n",
       "3                0  3.089896e-02        0\n",
       "4                0  4.774848e-01        0\n",
       "...            ...           ...      ...\n",
       "10609            1  7.675893e-01        1\n",
       "10610            1  9.958066e-01        1\n",
       "10611            0  8.044339e-02        0\n",
       "10612            0  1.114186e-07        0\n",
       "10613            1  8.546276e-01        1\n",
       "\n",
       "[10614 rows x 3 columns]"
      ]
     },
     "execution_count": 107,
     "metadata": {},
     "output_type": "execute_result"
    }
   ],
   "source": [
    "import keras\n",
    "from keras.models import load_model\n",
    "load_model = load_model(cfg.MODELDIR+'m_task1.h5', custom_objects={\"Attention\": Attention},compile=False)\n",
    "predicted = load_model.predict(task1_test_X)\n",
    "\n",
    "res=pd.DataFrame({'groundtruth':task1_test_Y, 'pred_prob':predicted.flatten()})\n",
    "res['predict']=res.pred_prob.apply(lambda x: 1 if x>=0.5 else 0)\n",
    "res"
   ]
  },
  {
   "cell_type": "code",
   "execution_count": 118,
   "id": "1e3004e7",
   "metadata": {},
   "outputs": [
    {
     "name": "stdout",
     "output_type": "stream",
     "text": [
      "baslineName \t\t accuracy \t precision(PPV) \t NPV \t\t recall \t f1 \t\t \t confusion Matrix\n",
      "GRU \t\t0.827021 \t0.831814 \t\t0.822856 \t0.803170 \t0.817241 \t tp: 4105 fp: 830 fn: 1006 tn: 4673\n"
     ]
    }
   ],
   "source": [
    "print('baslineName', '\\t\\t', 'accuracy','\\t', 'precision(PPV) \\t NPV \\t\\t', 'recall','\\t', 'f1', '\\t\\t', '\\t confusion Matrix')\n",
    "eva.caculateMetrix(groundtruth=res.groundtruth, predict=res.predict, baselineName='GRU', type='binary')"
   ]
  },
  {
   "cell_type": "code",
   "execution_count": null,
   "id": "5b240b66",
   "metadata": {},
   "outputs": [],
   "source": []
  },
  {
   "cell_type": "code",
   "execution_count": null,
   "id": "86373dc9",
   "metadata": {},
   "outputs": [],
   "source": []
  },
  {
   "cell_type": "code",
   "execution_count": 75,
   "id": "07808ad5",
   "metadata": {},
   "outputs": [
    {
     "data": {
      "text/plain": [
       "array([3.2466169e-02, 3.4216209e-05, 1.1147877e-01, ..., 1.7315976e-01,\n",
       "       1.3262644e-06, 8.5364836e-01], dtype=float32)"
      ]
     },
     "execution_count": 75,
     "metadata": {},
     "output_type": "execute_result"
    }
   ],
   "source": [
    "predicted.flatten()"
   ]
  }
 ],
 "metadata": {
  "kernelspec": {
   "display_name": "py38",
   "language": "python",
   "name": "py38"
  },
  "language_info": {
   "codemirror_mode": {
    "name": "ipython",
    "version": 3
   },
   "file_extension": ".py",
   "mimetype": "text/x-python",
   "name": "python",
   "nbconvert_exporter": "python",
   "pygments_lexer": "ipython3",
   "version": "3.7.10"
  },
  "widgets": {
   "application/vnd.jupyter.widget-state+json": {
    "state": {},
    "version_major": 2,
    "version_minor": 0
   }
  }
 },
 "nbformat": 4,
 "nbformat_minor": 5
}
