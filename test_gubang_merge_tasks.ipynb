{
 "cells": [
  {
   "cell_type": "markdown",
   "id": "2438c374",
   "metadata": {},
   "source": [
    "## 完整预测流程\n",
    "### 1.导入必要的包"
   ]
  },
  {
   "cell_type": "code",
   "execution_count": 1,
   "id": "c33bf107-5144-40e8-b463-8395b114edf4",
   "metadata": {},
   "outputs": [
    {
     "name": "stderr",
     "output_type": "stream",
     "text": [
      "2022-11-07 09:10:04.577372: I tensorflow/core/platform/cpu_feature_guard.cc:193] This TensorFlow binary is optimized with oneAPI Deep Neural Network Library (oneDNN) to use the following CPU instructions in performance-critical operations:  SSE4.1 SSE4.2 AVX AVX2 AVX512F AVX512_VNNI FMA\n",
      "To enable them in other operations, rebuild TensorFlow with the appropriate compiler flags.\n",
      "2022-11-07 09:10:04.672483: I tensorflow/core/util/util.cc:169] oneDNN custom operations are on. You may see slightly different numerical results due to floating-point round-off errors from different computation orders. To turn them off, set the environment variable `TF_ENABLE_ONEDNN_OPTS=0`.\n"
     ]
    },
    {
     "name": "stdout",
     "output_type": "stream",
     "text": [
      "INFO: Pandarallel will run on 52 workers.\n",
      "INFO: Pandarallel will use Memory file system to transfer data between the main process and workers.\n"
     ]
    }
   ],
   "source": [
    "from email import header\n",
    "import json\n",
    "import numpy as np\n",
    "import pandas as pd\n",
    "\n",
    "from keras.models import Model\n",
    "from keras.optimizers import Adam\n",
    "from keras.layers import Input, Dense\n",
    "from tools.Attention import Attention\n",
    "from keras.layers import GRU, Bidirectional\n",
    "from tqdm import tqdm\n",
    "from tkinter import _flatten\n",
    "\n",
    "from pandarallel import pandarallel \n",
    "from keras.models import load_model\n",
    "import config as cfg\n",
    "import sys\n",
    "sys.path.append(\"../tools/\")\n",
    "import tools.funclib as funclib\n",
    "\n",
    "pandarallel.initialize() "
   ]
  },
  {
   "cell_type": "code",
   "execution_count": 2,
   "id": "ae0f5298",
   "metadata": {},
   "outputs": [],
   "source": [
    "\n",
    "# embeddin 方法\n",
    "EMBD_METHO='esm32'\n",
    "EMBD_WH = 1280\n",
    "\n",
    "embd_feature = pd.read_feather(f\"/home/dengrui/DMLF/data/featureBank/embd_{EMBD_METHO}.feather\")\n",
    "\n",
    "ecs_2 = [True, False]\n",
    "ecs_8 = [1,2,3,4,5,6,7,8]\n",
    "label_multi = pd.read_feather('/home/dengrui/anaconda3/PyProjects/MutiLabelProjects/multi-label-classification-4-event-type/multi-label-classification-4-event-type/label_multi.feather')\n",
    "ecs_multi = label_multi['label_multi'].tolist()"
   ]
  },
  {
   "cell_type": "code",
   "execution_count": 3,
   "id": "730e3fbe-638d-41a1-ae18-3fc7c2031a70",
   "metadata": {},
   "outputs": [],
   "source": [
    "# test_task1_2022 = pd.read_feather('/home/dengrui/DMLF/data/datasets/task1/test_2022.feather')\n",
    "# test_task2_2022 = pd.read_feather('/home/dengrui/DMLF/data/datasets/task2/test_2022.feather')\n",
    "# test_task3_2022 = pd.read_feather('/home/dengrui/DMLF/data/datasets/task3/test_2022.feather')\n",
    "\n",
    "\n",
    "\n",
    "# test_set_task1= test_task1_2022.merge(embd_feature, on='id', how='left')\n",
    "# test_set_task2= test_task2_2022.merge(embd_feature, on='id', how='left')\n",
    "# test_set_task3= test_task3_2022.merge(embd_feature, on='id', how='left')\n",
    "\n",
    "# test_task1_feature = test_set_task1.iloc[:, np.r_[3:EMBD_WH+3]]\n",
    "# x_test_task1 = np.array(test_task1_feature)\n",
    "# x_test_task1 =np.reshape(x_test_task1,(x_test_task1.shape[0],1,EMBD_WH))\n",
    "\n",
    "\n",
    "# test_task2_feature = test_set_task2.iloc[:, np.r_[3:EMBD_WH+3]]\n",
    "# x_test_task2 = np.array(test_task2_feature)\n",
    "# x_test_task2 =np.reshape(x_test_task2,(x_test_task2.shape[0],1,EMBD_WH))\n",
    "\n",
    "# test_task3_feature = test_set_task3.iloc[:, np.r_[3:EMBD_WH+3]]\n",
    "# x_test_task3 = np.array(test_task3_feature)\n",
    "# x_test_task3 =np.reshape(x_test_task3,(x_test_task3.shape[0],1,EMBD_WH))\n",
    "\n"
   ]
  },
  {
   "cell_type": "code",
   "execution_count": null,
   "id": "98318f17",
   "metadata": {},
   "outputs": [],
   "source": []
  },
  {
   "cell_type": "markdown",
   "id": "4357203c-bb84-4d44-8f0e-ddced70205e5",
   "metadata": {},
   "source": [
    "## 读取测试数据"
   ]
  },
  {
   "cell_type": "code",
   "execution_count": 4,
   "id": "42bb7218-070b-4523-8ba3-0b9d9bc2c6ab",
   "metadata": {},
   "outputs": [],
   "source": [
    "# 读取测试数据\n",
    "test = pd.read_csv('/home/dengrui/DMLF/data/corynebacterium.tsv',sep='\\t')[['id','seq','ec']]\n",
    "\n",
    "\n",
    "# embeddin 方法\n",
    "EMBD_METHO='esm32'\n",
    "EMBD_WH = 1280\n",
    "\n",
    "data = pd.read_feather(f\"/home/dengrui/DMLF/data/featureBank/embd_{EMBD_METHO}.feather\")\n",
    "test= test.merge(data, on='id', how='left')\n",
    "test_feature = test.iloc[:, 3:]\n",
    "test_feature = np.array(test_feature)\n",
    "test_feature =np.reshape(test_feature,(test_feature.shape[0],1,EMBD_WH))\n",
    "\n",
    "# 测试结果\n",
    "test_res= test[['id','seq', 'ec']].copy()\n"
   ]
  },
  {
   "cell_type": "markdown",
   "id": "c213776f-f302-43dc-8f9a-26815b9472d9",
   "metadata": {},
   "source": [
    "# task1"
   ]
  },
  {
   "cell_type": "code",
   "execution_count": 5,
   "id": "26dca4ea-1b3b-49c9-80b4-407a9e8e4817",
   "metadata": {},
   "outputs": [
    {
     "name": "stderr",
     "output_type": "stream",
     "text": [
      "2022-11-07 09:10:19.493657: I tensorflow/core/platform/cpu_feature_guard.cc:193] This TensorFlow binary is optimized with oneAPI Deep Neural Network Library (oneDNN) to use the following CPU instructions in performance-critical operations:  SSE4.1 SSE4.2 AVX AVX2 AVX512F AVX512_VNNI FMA\n",
      "To enable them in other operations, rebuild TensorFlow with the appropriate compiler flags.\n",
      "2022-11-07 09:10:20.084606: I tensorflow/core/common_runtime/gpu/gpu_device.cc:1616] Created device /job:localhost/replica:0/task:0/device:GPU:0 with 46702 MB memory:  -> device: 0, name: NVIDIA RTX A6000, pci bus id: 0000:86:00.0, compute capability: 8.6\n"
     ]
    },
    {
     "name": "stdout",
     "output_type": "stream",
     "text": [
      " 1/97 [..............................] - ETA: 2:49"
     ]
    },
    {
     "name": "stderr",
     "output_type": "stream",
     "text": [
      "2022-11-07 09:10:23.277080: I tensorflow/stream_executor/cuda/cuda_dnn.cc:384] Loaded cuDNN version 8401\n",
      "2022-11-07 09:10:23.427320: I tensorflow/stream_executor/cuda/cuda_blas.cc:1614] TensorFloat-32 will be used for the matrix multiplication. This will only be logged once.\n"
     ]
    },
    {
     "name": "stdout",
     "output_type": "stream",
     "text": [
      "97/97 [==============================] - 2s 1ms/step\n"
     ]
    }
   ],
   "source": [
    "from keras.models import load_model\n",
    "listec = list()\n",
    "load_model = load_model(\"/home/dengrui/anaconda3/PyProjects/MutiLabelProjects/multi-label-classification-4-event-type/multi-label-classification-4-event-type/task1_2022.h5\",custom_objects={\"Attention\": Attention},compile=False)\n",
    "predicted = load_model.predict(test_feature)\n",
    "test_res['pred_isenzyme'] = pd.DataFrame(np.argmax(predicted, axis=-1)).astype(bool)"
   ]
  },
  {
   "cell_type": "markdown",
   "id": "dc69e758-b96f-45ad-9e79-c6fcc3470502",
   "metadata": {},
   "source": [
    "# taks2"
   ]
  },
  {
   "cell_type": "code",
   "execution_count": 6,
   "id": "3fbb9077-2dff-4d28-a815-a5abbb31a201",
   "metadata": {},
   "outputs": [
    {
     "name": "stdout",
     "output_type": "stream",
     "text": [
      "97/97 [==============================] - 1s 1ms/step\n"
     ]
    },
    {
     "name": "stderr",
     "output_type": "stream",
     "text": [
      "100%|██████████| 3098/3098 [00:00<00:00, 345961.12it/s]\n"
     ]
    }
   ],
   "source": [
    "from keras.models import load_model\n",
    "\n",
    "listec = list()\n",
    "load_model = load_model(\"/home/dengrui/anaconda3/PyProjects/MutiLabelProjects/multi-label-classification-4-event-type/multi-label-classification-4-event-type/task2_model_2022_label8.h5\",custom_objects={\"Attention\": Attention},compile=False)\n",
    "predicted = load_model.predict(test_feature)\n",
    "counter = 0\n",
    "for i in tqdm(range(len(test))):\n",
    "    listec.append(sorted(dict(zip(set(ecs_8),predicted[i])).items(),key = lambda x:x[1], reverse = True)[0][0])\n",
    "\n",
    "test_res['pred_functions']=listec"
   ]
  },
  {
   "cell_type": "markdown",
   "id": "d4ed5ad5-795e-4fd5-b1e9-d2cbe12e3d7e",
   "metadata": {},
   "source": [
    "# task3"
   ]
  },
  {
   "cell_type": "code",
   "execution_count": 7,
   "id": "b036782e",
   "metadata": {},
   "outputs": [
    {
     "name": "stdout",
     "output_type": "stream",
     "text": [
      "97/97 [==============================] - 1s 1ms/step\n"
     ]
    },
    {
     "name": "stderr",
     "output_type": "stream",
     "text": [
      "100%|██████████| 3098/3098 [00:13<00:00, 223.66it/s]\n"
     ]
    },
    {
     "data": {
      "text/html": [
       "<div>\n",
       "<style scoped>\n",
       "    .dataframe tbody tr th:only-of-type {\n",
       "        vertical-align: middle;\n",
       "    }\n",
       "\n",
       "    .dataframe tbody tr th {\n",
       "        vertical-align: top;\n",
       "    }\n",
       "\n",
       "    .dataframe thead th {\n",
       "        text-align: right;\n",
       "    }\n",
       "</style>\n",
       "<table border=\"1\" class=\"dataframe\">\n",
       "  <thead>\n",
       "    <tr style=\"text-align: right;\">\n",
       "      <th></th>\n",
       "      <th>id</th>\n",
       "      <th>seq</th>\n",
       "      <th>ec</th>\n",
       "      <th>pred_isenzyme</th>\n",
       "      <th>pred_functions</th>\n",
       "      <th>pred_ec</th>\n",
       "      <th>pred_top20</th>\n",
       "    </tr>\n",
       "  </thead>\n",
       "  <tbody>\n",
       "    <tr>\n",
       "      <th>0</th>\n",
       "      <td>Q79VD7</td>\n",
       "      <td>MTAVAPRVDGHVAPQRPEPTGHARKGSKAWLMMTTTDHKQLGIMYI...</td>\n",
       "      <td>7.1.1.9</td>\n",
       "      <td>True</td>\n",
       "      <td>1</td>\n",
       "      <td>1.9.3.1</td>\n",
       "      <td>1.9.3.1(0.9978), 1.10.3.-(0.0359), 1.10.3.10(0...</td>\n",
       "    </tr>\n",
       "    <tr>\n",
       "      <th>1</th>\n",
       "      <td>Q8NRC3</td>\n",
       "      <td>MSSASTFGQNAWLVDEMFQQFQKDPKSVDKEWRELFEAQGGPNTTP...</td>\n",
       "      <td>1.2.4.2; 2.3.1.61</td>\n",
       "      <td>True</td>\n",
       "      <td>4</td>\n",
       "      <td>1.2.4.2,2.3.1.61,2.2.1.5,4.1.1.71</td>\n",
       "      <td>1.2.4.2(0.9986), 2.3.1.61(0.9962), 2.2.1.5(0.9...</td>\n",
       "    </tr>\n",
       "    <tr>\n",
       "      <th>2</th>\n",
       "      <td>Q8NN33</td>\n",
       "      <td>MNSPQNVSTKKVTVTGAAGQISYSLLWRIANGEVFGTDTPVELKLL...</td>\n",
       "      <td>1.1.1.37</td>\n",
       "      <td>True</td>\n",
       "      <td>1</td>\n",
       "      <td>1.1.1.37</td>\n",
       "      <td>1.1.1.37(0.9992), 1.1.1.82(0.0014), 1.1.1.299(...</td>\n",
       "    </tr>\n",
       "    <tr>\n",
       "      <th>3</th>\n",
       "      <td>Q8NNJ2</td>\n",
       "      <td>MAFSVEMPELGESVTEGTITQWLKSVGDTVEVDEPLLEVSTDKVDT...</td>\n",
       "      <td>2.3.1.12</td>\n",
       "      <td>True</td>\n",
       "      <td>1</td>\n",
       "      <td>2.3.1.12</td>\n",
       "      <td>2.3.1.12(0.9444), 2.3.1.61(0.0781), 6.4.1.3(0....</td>\n",
       "    </tr>\n",
       "    <tr>\n",
       "      <th>4</th>\n",
       "      <td>P04964</td>\n",
       "      <td>MTNIRVAIVGYGNLGRSVEKLIAKQPDMDLVGIFSRRATLDTKTPV...</td>\n",
       "      <td>1.4.1.16</td>\n",
       "      <td>True</td>\n",
       "      <td>1</td>\n",
       "      <td>1.4.1.16</td>\n",
       "      <td>1.4.1.16(0.9176), 1.4.1.21(0.0804), 1.2.1.10(0...</td>\n",
       "    </tr>\n",
       "    <tr>\n",
       "      <th>...</th>\n",
       "      <td>...</td>\n",
       "      <td>...</td>\n",
       "      <td>...</td>\n",
       "      <td>...</td>\n",
       "      <td>...</td>\n",
       "      <td>...</td>\n",
       "      <td>...</td>\n",
       "    </tr>\n",
       "    <tr>\n",
       "      <th>3093</th>\n",
       "      <td>Q8NUD0</td>\n",
       "      <td>MTSLRDLLVSTNADAAIADMSAFIEETVGKQSGISGIALKGAMGAA...</td>\n",
       "      <td>NaN</td>\n",
       "      <td>False</td>\n",
       "      <td>1</td>\n",
       "      <td>-</td>\n",
       "      <td>3.-.-.-(0.0167), 2.3.2.-(0.0074), 2.3.1.-(0.00...</td>\n",
       "    </tr>\n",
       "    <tr>\n",
       "      <th>3094</th>\n",
       "      <td>Q8NUD1</td>\n",
       "      <td>MSNPNKKPLDPAQRFSLPTRWAMFFVGIFIMSFAIGITVHAGLGTT...</td>\n",
       "      <td>NaN</td>\n",
       "      <td>False</td>\n",
       "      <td>1</td>\n",
       "      <td>-</td>\n",
       "      <td>2.3.1.-(0.0111), 2.3.2.3(0.0043), 2.3.1.15(0.0...</td>\n",
       "    </tr>\n",
       "    <tr>\n",
       "      <th>3095</th>\n",
       "      <td>Q8NUD2</td>\n",
       "      <td>MIQTYILKIQSLKWAQREMLKTTLITDTLGHVTSTEPTTTAHVPLP...</td>\n",
       "      <td>NaN</td>\n",
       "      <td>True</td>\n",
       "      <td>1</td>\n",
       "      <td>3.1.1.-</td>\n",
       "      <td>3.1.1.-(0.2296), 2.3.1.-(0.1521), 3.1.1.3(0.03...</td>\n",
       "    </tr>\n",
       "    <tr>\n",
       "      <th>3096</th>\n",
       "      <td>Q8NUD7</td>\n",
       "      <td>MIVDNFVYLWIDFKVRILSPVCADVSPAYPQFLGSCAQGGKFRGIT...</td>\n",
       "      <td>NaN</td>\n",
       "      <td>False</td>\n",
       "      <td>1</td>\n",
       "      <td>-</td>\n",
       "      <td>3.1.4.35(0.0723), 3.4.21.-(0.0305), 3.2.1.35(0...</td>\n",
       "    </tr>\n",
       "    <tr>\n",
       "      <th>3097</th>\n",
       "      <td>V6C1X0</td>\n",
       "      <td>AEKSQRDYALAA</td>\n",
       "      <td>NaN</td>\n",
       "      <td>False</td>\n",
       "      <td>1</td>\n",
       "      <td>-</td>\n",
       "      <td>1.6.99.3(0.211), 1.2.4.2(0.0847), 1.6.5.3(0.06...</td>\n",
       "    </tr>\n",
       "  </tbody>\n",
       "</table>\n",
       "<p>3098 rows × 7 columns</p>\n",
       "</div>"
      ],
      "text/plain": [
       "          id                                                seq  \\\n",
       "0     Q79VD7  MTAVAPRVDGHVAPQRPEPTGHARKGSKAWLMMTTTDHKQLGIMYI...   \n",
       "1     Q8NRC3  MSSASTFGQNAWLVDEMFQQFQKDPKSVDKEWRELFEAQGGPNTTP...   \n",
       "2     Q8NN33  MNSPQNVSTKKVTVTGAAGQISYSLLWRIANGEVFGTDTPVELKLL...   \n",
       "3     Q8NNJ2  MAFSVEMPELGESVTEGTITQWLKSVGDTVEVDEPLLEVSTDKVDT...   \n",
       "4     P04964  MTNIRVAIVGYGNLGRSVEKLIAKQPDMDLVGIFSRRATLDTKTPV...   \n",
       "...      ...                                                ...   \n",
       "3093  Q8NUD0  MTSLRDLLVSTNADAAIADMSAFIEETVGKQSGISGIALKGAMGAA...   \n",
       "3094  Q8NUD1  MSNPNKKPLDPAQRFSLPTRWAMFFVGIFIMSFAIGITVHAGLGTT...   \n",
       "3095  Q8NUD2  MIQTYILKIQSLKWAQREMLKTTLITDTLGHVTSTEPTTTAHVPLP...   \n",
       "3096  Q8NUD7  MIVDNFVYLWIDFKVRILSPVCADVSPAYPQFLGSCAQGGKFRGIT...   \n",
       "3097  V6C1X0                                       AEKSQRDYALAA   \n",
       "\n",
       "                     ec  pred_isenzyme  pred_functions  \\\n",
       "0               7.1.1.9           True               1   \n",
       "1     1.2.4.2; 2.3.1.61           True               4   \n",
       "2              1.1.1.37           True               1   \n",
       "3              2.3.1.12           True               1   \n",
       "4              1.4.1.16           True               1   \n",
       "...                 ...            ...             ...   \n",
       "3093                NaN          False               1   \n",
       "3094                NaN          False               1   \n",
       "3095                NaN           True               1   \n",
       "3096                NaN          False               1   \n",
       "3097                NaN          False               1   \n",
       "\n",
       "                                pred_ec  \\\n",
       "0                               1.9.3.1   \n",
       "1     1.2.4.2,2.3.1.61,2.2.1.5,4.1.1.71   \n",
       "2                              1.1.1.37   \n",
       "3                              2.3.1.12   \n",
       "4                              1.4.1.16   \n",
       "...                                 ...   \n",
       "3093                                  -   \n",
       "3094                                  -   \n",
       "3095                            3.1.1.-   \n",
       "3096                                  -   \n",
       "3097                                  -   \n",
       "\n",
       "                                             pred_top20  \n",
       "0     1.9.3.1(0.9978), 1.10.3.-(0.0359), 1.10.3.10(0...  \n",
       "1     1.2.4.2(0.9986), 2.3.1.61(0.9962), 2.2.1.5(0.9...  \n",
       "2     1.1.1.37(0.9992), 1.1.1.82(0.0014), 1.1.1.299(...  \n",
       "3     2.3.1.12(0.9444), 2.3.1.61(0.0781), 6.4.1.3(0....  \n",
       "4     1.4.1.16(0.9176), 1.4.1.21(0.0804), 1.2.1.10(0...  \n",
       "...                                                 ...  \n",
       "3093  3.-.-.-(0.0167), 2.3.2.-(0.0074), 2.3.1.-(0.00...  \n",
       "3094  2.3.1.-(0.0111), 2.3.2.3(0.0043), 2.3.1.15(0.0...  \n",
       "3095  3.1.1.-(0.2296), 2.3.1.-(0.1521), 3.1.1.3(0.03...  \n",
       "3096  3.1.4.35(0.0723), 3.4.21.-(0.0305), 3.2.1.35(0...  \n",
       "3097  1.6.99.3(0.211), 1.2.4.2(0.0847), 1.6.5.3(0.06...  \n",
       "\n",
       "[3098 rows x 7 columns]"
      ]
     },
     "execution_count": 7,
     "metadata": {},
     "output_type": "execute_result"
    }
   ],
   "source": [
    "def make_rec_str(pred_top):\n",
    "    pred = [item[0]+'('+str(item[1])+')' for item  in pred_top]\n",
    "    pred = ', '.join(pred)\n",
    "    return pred\n",
    "\n",
    "def make_multi_ec_pred(pred_func, pred_top_list):\n",
    "    res_ecs = pred_top_list[:pred_func]\n",
    "    res_ecs = [item[0] for item in res_ecs]\n",
    "    return ','.join(res_ecs)\n",
    "\n",
    "from keras.models import load_model\n",
    "listec = list()\n",
    "listpred = list()\n",
    "model = load_model(f'/home/dengrui/anaconda3/PyProjects/MutiLabelProjects/multi-label-classification-4-event-type/multi-label-classification-4-event-type/task3_{EMBD_METHO}_2022.h5',custom_objects={\"Attention\": Attention},compile=False)\n",
    "predicted = model.predict(test_feature)\n",
    "counter = 0\n",
    "for i in tqdm(range(len(test_feature))):\n",
    "    listpred.append(sorted(dict(zip((ecs_multi),predicted[i])).items(),key = lambda x:x[1], reverse = True)[0][0])\n",
    "    listend= list()\n",
    "    sortlist = sorted(dict(zip((ecs_multi),predicted[i])).items(),key = lambda x:x[1], reverse = True)\n",
    "    # listpred.append(sortlist[0])\n",
    "    for j in range(0,len(sortlist)):\n",
    "        if j == 20:\n",
    "            break\n",
    "        listend.append([sortlist[j][0], round(sortlist[j][1],4)])\n",
    "    listec.append(listend)\n",
    "\n",
    "test_res['pred_ec']=listpred\n",
    "test_res['pred_top20'] = listec\n",
    "test_res['pred_ec'] = test_res.apply(lambda x : x.pred_ec if x.pred_functions <=1 else make_multi_ec_pred(pred_func=x.pred_functions, pred_top_list=x.pred_top20), axis=1)\n",
    "test_res['pred_top20'] = test_res['pred_top20'].apply(lambda x : make_rec_str(pred_top=x))\n",
    "test_res['pred_ec'] = test_res.apply(lambda x : x.pred_ec if x.pred_isenzyme ==True else '-', axis=1)\n",
    "test_res"
   ]
  },
  {
   "cell_type": "markdown",
   "id": "2e928bc6",
   "metadata": {},
   "source": [
    "## balst"
   ]
  },
  {
   "cell_type": "code",
   "execution_count": 8,
   "id": "802f4c02",
   "metadata": {},
   "outputs": [
    {
     "name": "stdout",
     "output_type": "stream",
     "text": [
      "Write finished\n",
      "Write finished\n",
      "diamond makedb --in /tmp/train.fasta -d /tmp/train.dmnd --quiet\n",
      "diamond blastp -d /tmp/train.dmnd  -q  /tmp/test.fasta -o /tmp/test_fasta_results.tsv -b5 -c1 -k 1 --quiet\n"
     ]
    }
   ],
   "source": [
    "sprot = pd.read_feather(cfg.DATADIR+'uniprot/snap201802.feather')\n",
    "test.ec = test.ec.fillna('-')\n",
    "ec_sprot = _flatten([item.split(',') for item in list(set(sprot.ec_number))])\n",
    "\n",
    "\n",
    "res_diamond = funclib.getblast(train=sprot[['id','seq']], test=test[['id','seq']])\n",
    "res_diamond = res_diamond [['id','sseqid','pident']].merge(sprot[['id','ec_number']], how='left', left_on='sseqid', right_on='id')\n",
    "res_diamond = res_diamond[['id_x', 'ec_number','pident']].rename(columns={'id_x':'id','ec_number':'ec_diamond'})\n",
    "test_res = test_res.merge(res_diamond, on='id', how='left').drop_duplicates().reset_index(drop=True)\n",
    "test_res.ec_diamond = test_res.ec_diamond.fillna('-')"
   ]
  },
  {
   "cell_type": "code",
   "execution_count": 12,
   "id": "3c4a2c70",
   "metadata": {},
   "outputs": [],
   "source": [
    "test_res[['id', 'pred_ec', 'pred_top20']].rename(columns={'pred_ec':'ec_ours'}).to_csv(cfg.RESULTSDIR+'case_gubang/dmlf/corynebacterium_pred.tsv', index=None, sep='\\t')"
   ]
  },
  {
   "cell_type": "code",
   "execution_count": null,
   "id": "3724cdb7",
   "metadata": {},
   "outputs": [],
   "source": []
  }
 ],
 "metadata": {
  "kernelspec": {
   "display_name": "dmlf",
   "language": "python",
   "name": "python3"
  },
  "language_info": {
   "codemirror_mode": {
    "name": "ipython",
    "version": 3
   },
   "file_extension": ".py",
   "mimetype": "text/x-python",
   "name": "python",
   "nbconvert_exporter": "python",
   "pygments_lexer": "ipython3",
   "version": "3.8.13"
  },
  "vscode": {
   "interpreter": {
    "hash": "01198cbd8e9354c2bdc2e2d750ceaa12955025c4f7059132aa2585625d50e356"
   }
  }
 },
 "nbformat": 4,
 "nbformat_minor": 5
}
