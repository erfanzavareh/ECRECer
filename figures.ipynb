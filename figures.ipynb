{
 "cells": [
  {
   "cell_type": "code",
   "execution_count": 2,
   "metadata": {},
   "outputs": [],
   "source": [
    "import plotly.graph_objects as go\n",
    "from plotly.subplots import make_subplots\n",
    "import pandas as pd\n",
    "import config as cfg"
   ]
  },
  {
   "cell_type": "code",
   "execution_count": 47,
   "metadata": {},
   "outputs": [
    {
     "name": "stdout",
     "output_type": "stream",
     "text": [
      "1.9.1\n"
     ]
    }
   ],
   "source": [
    "import pyecharts\n",
    "\n",
    "print(pyecharts.__version__)\n"
   ]
  },
  {
   "cell_type": "code",
   "execution_count": 3,
   "metadata": {},
   "outputs": [
    {
     "data": {
      "text/html": [
       "<div>\n",
       "<style scoped>\n",
       "    .dataframe tbody tr th:only-of-type {\n",
       "        vertical-align: middle;\n",
       "    }\n",
       "\n",
       "    .dataframe tbody tr th {\n",
       "        vertical-align: top;\n",
       "    }\n",
       "\n",
       "    .dataframe thead th {\n",
       "        text-align: right;\n",
       "    }\n",
       "</style>\n",
       "<table border=\"1\" class=\"dataframe\">\n",
       "  <thead>\n",
       "    <tr style=\"text-align: right;\">\n",
       "      <th></th>\n",
       "      <th>Baseline</th>\n",
       "      <th>Method</th>\n",
       "      <th>Accuracy</th>\n",
       "      <th>PPV</th>\n",
       "      <th>NPV</th>\n",
       "      <th>RECALL</th>\n",
       "      <th>F1</th>\n",
       "    </tr>\n",
       "  </thead>\n",
       "  <tbody>\n",
       "    <tr>\n",
       "      <th>0</th>\n",
       "      <td>Logistic Regression</td>\n",
       "      <td>one-hot</td>\n",
       "      <td>0.657999</td>\n",
       "      <td>0.635152</td>\n",
       "      <td>0.682376</td>\n",
       "      <td>0.680884</td>\n",
       "      <td>0.657224</td>\n",
       "    </tr>\n",
       "    <tr>\n",
       "      <th>1</th>\n",
       "      <td>Logistic Regression</td>\n",
       "      <td>Unirep</td>\n",
       "      <td>0.869324</td>\n",
       "      <td>0.899914</td>\n",
       "      <td>0.845418</td>\n",
       "      <td>0.819800</td>\n",
       "      <td>0.857991</td>\n",
       "    </tr>\n",
       "    <tr>\n",
       "      <th>2</th>\n",
       "      <td>Logistic Regression</td>\n",
       "      <td>ESM0</td>\n",
       "      <td>0.904372</td>\n",
       "      <td>0.929710</td>\n",
       "      <td>0.883721</td>\n",
       "      <td>0.866954</td>\n",
       "      <td>0.897236</td>\n",
       "    </tr>\n",
       "  </tbody>\n",
       "</table>\n",
       "</div>"
      ],
      "text/plain": [
       "              Baseline   Method  Accuracy       PPV       NPV    RECALL  \\\n",
       "0  Logistic Regression  one-hot  0.657999  0.635152  0.682376  0.680884   \n",
       "1  Logistic Regression   Unirep  0.869324  0.899914  0.845418  0.819800   \n",
       "2  Logistic Regression     ESM0  0.904372  0.929710  0.883721  0.866954   \n",
       "\n",
       "         F1  \n",
       "0  0.657224  \n",
       "1  0.857991  \n",
       "2  0.897236  "
      ]
     },
     "execution_count": 3,
     "metadata": {},
     "output_type": "execute_result"
    }
   ],
   "source": [
    "file_embedding_res=f'{cfg.RESULTSDIR}figure_data/embedding_res.xlsx'\n",
    "embdedding_res = pd.read_excel(file_embedding_res)\n",
    "embdedding_res.head(3)"
   ]
  },
  {
   "cell_type": "code",
   "execution_count": 32,
   "metadata": {},
   "outputs": [
    {
     "name": "stdout",
     "output_type": "stream",
     "text": [
      "         Baseline   Method  Accuracy       PPV       NPV    RECALL        F1\n",
      "15  Decision Tree  one-hot  0.607594  0.606197  0.608604  0.528272  0.564558\n",
      "16  Decision Tree   Unirep  0.815904  0.845329  0.793646  0.756016  0.798182\n",
      "17  Decision Tree     ESM0  0.810910  0.839309  0.789404  0.751125  0.792772\n",
      "18  Decision Tree    ESM32  0.821839  0.852606  0.798611  0.761690  0.804588\n",
      "19  Decision Tree    ESM33  0.740531  0.744350  0.737351  0.702407  0.722770\n",
      "   Baseline   Method  Accuracy       PPV       NPV    RECALL        F1\n",
      "25     GBDT  one-hot  0.638496  0.656127  0.627487  0.523772  0.582526\n",
      "26     GBDT   Unirep  0.857076  0.911778  0.818880  0.778517  0.839894\n",
      "27     GBDT     ESM0  0.869700  0.913671  0.837263  0.805518  0.856192\n",
      "28     GBDT    ESM32  0.874882  0.915440  0.844415  0.815496  0.862583\n",
      "29     GBDT    ESM33  0.820332  0.822984  0.818005  0.798670  0.810644\n",
      "  Baseline   Method  Accuracy       PPV       NPV    RECALL        F1\n",
      "5      KNN  one-hot  0.532787  0.726190  0.526464  0.047740  0.089591\n",
      "6      KNN   Unirep  0.882325  0.889943  0.875662  0.862258  0.875882\n",
      "7      KNN     ESM0  0.917939  0.937474  0.901526  0.888867  0.912524\n",
      "8      KNN    ESM32  0.917656  0.938159  0.900502  0.887498  0.912125\n",
      "9      KNN    ESM33  0.813360  0.797415  0.829036  0.820974  0.809023\n",
      "              Baseline   Method  Accuracy       PPV       NPV    RECALL  \\\n",
      "0  Logistic Regression  one-hot  0.657999  0.635152  0.682376  0.680884   \n",
      "1  Logistic Regression   Unirep  0.869324  0.899914  0.845418  0.819800   \n",
      "2  Logistic Regression     ESM0  0.904372  0.929710  0.883721  0.866954   \n",
      "3  Logistic Regression    ESM32  0.907386  0.928394  0.889924  0.875171   \n",
      "4  Logistic Regression    ESM33  0.760317  0.751027  0.768951  0.751321   \n",
      "\n",
      "         F1  \n",
      "0  0.657224  \n",
      "1  0.857991  \n",
      "2  0.897236  \n",
      "3  0.900997  \n",
      "4  0.751174  \n",
      "         Baseline   Method  Accuracy       PPV       NPV    RECALL        F1\n",
      "20  Random Forest  one-hot  0.657434  0.688860  0.639141  0.526316  0.596717\n",
      "21  Random Forest   Unirep  0.887319  0.933747  0.852975  0.824496  0.875727\n",
      "22  Random Forest     ESM0  0.904372  0.963139  0.862403  0.833301  0.893528\n",
      "23  Random Forest    ESM32  0.903335  0.964099  0.860293  0.830170  0.892136\n",
      "24  Random Forest    ESM33  0.841342  0.869687  0.819368  0.788691  0.827211\n",
      "   Baseline   Method  Accuracy       PPV       NPV    RECALL        F1\n",
      "10  Xgboost  one-hot  0.633786  0.660042  0.618999  0.493837  0.564969\n",
      "11  Xgboost   Unirep  0.866403  0.914664  0.831521  0.796909  0.851736\n",
      "12  Xgboost     ESM0  0.876767  0.914180  0.848248  0.821170  0.865182\n",
      "13  Xgboost    ESM32  0.878557  0.922788  0.845750  0.816083  0.866161\n",
      "14  Xgboost    ESM33  0.821274  0.829034  0.814660  0.792213  0.810205\n"
     ]
    }
   ],
   "source": [
    "for index, group in embdedding_res.groupby('Baseline'):\n",
    "    print(group)"
   ]
  },
  {
   "cell_type": "code",
   "execution_count": null,
   "metadata": {},
   "outputs": [],
   "source": []
  },
  {
   "cell_type": "code",
   "execution_count": 19,
   "metadata": {},
   "outputs": [
    {
     "data": {
      "text/plain": [
       "<bound method BaseFigure.print_grid of Figure({\n",
       "    'data': [{'fill': 'toself',\n",
       "              'name': 'one-hot',\n",
       "              'r': array([0.607594, 0.606197, 0.608604, 0.528272, 0.564558], dtype=object),\n",
       "              'subplot': 'polar',\n",
       "              'theta': [Accuracy, PPV, NPV, Recall, F1],\n",
       "              'type': 'scatterpolar'},\n",
       "             {'fill': 'toself',\n",
       "              'name': 'one-hot',\n",
       "              'r': array([0.815904, 0.845329, 0.793646, 0.756016, 0.798182], dtype=object),\n",
       "              'subplot': 'polar2',\n",
       "              'theta': [Accuracy, PPV, NPV, Recall, F1],\n",
       "              'type': 'scatterpolar'},\n",
       "             {'fill': 'toself',\n",
       "              'name': 'one-hot',\n",
       "              'r': array([0.81091, 0.839309, 0.789404, 0.751125, 0.792772], dtype=object),\n",
       "              'subplot': 'polar4',\n",
       "              'theta': [Accuracy, PPV, NPV, Recall, F1],\n",
       "              'type': 'scatterpolar'},\n",
       "             {'fill': 'toself',\n",
       "              'name': 'one-hot',\n",
       "              'r': array([0.821839, 0.852606, 0.798611, 0.76169, 0.804588], dtype=object),\n",
       "              'subplot': 'polar5',\n",
       "              'theta': [Accuracy, PPV, NPV, Recall, F1],\n",
       "              'type': 'scatterpolar'}],\n",
       "    'layout': {'annotations': [{'font': {'size': 16},\n",
       "                                'showarrow': False,\n",
       "                                'text': 'Decision Tree',\n",
       "                                'x': 0.14444444444444446,\n",
       "                                'xanchor': 'center',\n",
       "                                'xref': 'paper',\n",
       "                                'y': 1.0,\n",
       "                                'yanchor': 'bottom',\n",
       "                                'yref': 'paper'},\n",
       "                               {'font': {'size': 16},\n",
       "                                'showarrow': False,\n",
       "                                'text': 'GBDT',\n",
       "                                'x': 0.5,\n",
       "                                'xanchor': 'center',\n",
       "                                'xref': 'paper',\n",
       "                                'y': 1.0,\n",
       "                                'yanchor': 'bottom',\n",
       "                                'yref': 'paper'},\n",
       "                               {'font': {'size': 16},\n",
       "                                'showarrow': False,\n",
       "                                'text': 'KNN',\n",
       "                                'x': 0.8555555555555556,\n",
       "                                'xanchor': 'center',\n",
       "                                'xref': 'paper',\n",
       "                                'y': 1.0,\n",
       "                                'yanchor': 'bottom',\n",
       "                                'yref': 'paper'},\n",
       "                               {'font': {'size': 16},\n",
       "                                'showarrow': False,\n",
       "                                'text': 'Logistic Regression',\n",
       "                                'x': 0.14444444444444446,\n",
       "                                'xanchor': 'center',\n",
       "                                'xref': 'paper',\n",
       "                                'y': 0.375,\n",
       "                                'yanchor': 'bottom',\n",
       "                                'yref': 'paper'}],\n",
       "               'polar': {'domain': {'x': [0.0, 0.2888888888888889], 'y': [0.625, 1.0]}},\n",
       "               'polar2': {'domain': {'x': [0.35555555555555557, 0.6444444444444445], 'y': [0.625, 1.0]}},\n",
       "               'polar3': {'domain': {'x': [0.7111111111111111, 1.0], 'y': [0.625, 1.0]}},\n",
       "               'polar4': {'domain': {'x': [0.0, 0.2888888888888889], 'y': [0.0, 0.375]}},\n",
       "               'polar5': {'domain': {'x': [0.35555555555555557, 0.6444444444444445], 'y': [0.0, 0.375]}},\n",
       "               'polar6': {'domain': {'x': [0.7111111111111111, 1.0], 'y': [0.0, 0.375]}},\n",
       "               'template': '...'}\n",
       "})>"
      ]
     },
     "execution_count": 19,
     "metadata": {},
     "output_type": "execute_result"
    }
   ],
   "source": [
    "fig.print_grid"
   ]
  },
  {
   "cell_type": "code",
   "execution_count": 46,
   "metadata": {},
   "outputs": [
    {
     "ename": "TypeError",
     "evalue": "add_trace() got an unexpected keyword argument 'showlegend'",
     "output_type": "error",
     "traceback": [
      "\u001b[0;31m---------------------------------------------------------------------------\u001b[0m",
      "\u001b[0;31mTypeError\u001b[0m                                 Traceback (most recent call last)",
      "Cell \u001b[0;32mIn [46], line 16\u001b[0m\n\u001b[1;32m     14\u001b[0m \u001b[39mfor\u001b[39;00m index, group \u001b[39min\u001b[39;00m embdedding_res\u001b[39m.\u001b[39mgroupby(\u001b[39m'\u001b[39m\u001b[39mBaseline\u001b[39m\u001b[39m'\u001b[39m):\n\u001b[1;32m     15\u001b[0m     \u001b[39mfor\u001b[39;00m sub_index, row_item \u001b[39min\u001b[39;00m group\u001b[39m.\u001b[39miterrows():\n\u001b[0;32m---> 16\u001b[0m         fig\u001b[39m.\u001b[39;49madd_trace(go\u001b[39m.\u001b[39;49mScatterpolar(  r\u001b[39m=\u001b[39;49mrow_item\u001b[39m.\u001b[39;49mvalues[\u001b[39m2\u001b[39;49m:], \n\u001b[1;32m     17\u001b[0m                                         theta\u001b[39m=\u001b[39;49mcategories, \n\u001b[1;32m     18\u001b[0m                                         \u001b[39m# fill='toself', \u001b[39;49;00m\n\u001b[1;32m     19\u001b[0m                                         name\u001b[39m=\u001b[39;49mrow_item\u001b[39m.\u001b[39;49mvalues[\u001b[39m1\u001b[39;49m]), row\u001b[39m=\u001b[39;49mrow_pos, col\u001b[39m=\u001b[39;49mcol_pos,\n\u001b[1;32m     20\u001b[0m                                         showlegend\u001b[39m=\u001b[39;49m\u001b[39mFalse\u001b[39;49;00m\n\u001b[1;32m     21\u001b[0m                                         )\n\u001b[1;32m     22\u001b[0m         col_pos \u001b[39m=\u001b[39m col_pos \u001b[39m+\u001b[39m\u001b[39m1\u001b[39m\n\u001b[1;32m     23\u001b[0m         \u001b[39mif\u001b[39;00m (col_pos\u001b[39m%\u001b[39m\u001b[39m4\u001b[39m)\u001b[39m==\u001b[39m\u001b[39m0\u001b[39m:\n",
      "\u001b[0;31mTypeError\u001b[0m: add_trace() got an unexpected keyword argument 'showlegend'"
     ]
    }
   ],
   "source": [
    "fig = make_subplots(\n",
    "    rows=2, cols=3,\n",
    "    specs=[[{\"type\": \"Scatterpolar\"}, {\"type\": \"Scatterpolar\"}, {\"type\": \"Scatterpolar\"}],\n",
    "           [{\"type\": \"Scatterpolar\"}, {\"type\": \"Scatterpolar\"}, {\"type\": \"Scatterpolar\"}]],\n",
    "    subplot_titles=['Decision Tree', 'GBDT', 'KNN', 'Logistic Regression', 'Random Forest', 'Xgboost' ]\n",
    ")\n",
    "\n",
    "# fig.add_trace(go.Bar(y=[2, 3, 1]),\n",
    "#               row=1, col=1)\n",
    "categories = ['Accuracy','PPV','NPV', 'Recall','F1']\n",
    "counter = 0\n",
    "col_pos=1\n",
    "row_pos=1\n",
    "for index, group in embdedding_res.groupby('Baseline'):\n",
    "    for sub_index, row_item in group.iterrows():\n",
    "        fig.add_trace(go.Scatterpolar(  r=row_item.values[2:], \n",
    "                                        theta=categories, \n",
    "                                        # fill='toself', \n",
    "                                        name=row_item.values[1]), row=row_pos, col=col_pos,\n",
    "                                        showlegend=False\n",
    "                                        )\n",
    "        col_pos = col_pos +1\n",
    "        if (col_pos%4)==0:\n",
    "            col_pos = 1\n",
    "        \n",
    "    counter = counter + 1\n",
    "    if counter %4==0:\n",
    "        row_pos = row_pos + 1\n",
    "\n",
    "    # fig.add_trace(go.Scatterpolar(\n",
    "    #                                   r=embdedding_res.iloc[1,1:7].values,\n",
    "    #                                   theta=categories,\n",
    "    #                                   fill='toself',\n",
    "    #                                   name='one-hot'),\n",
    "                #   row=1, col=1)\n",
    "    \n",
    "\n",
    "# fig.add_trace(go.Barpolar(theta=[0, 45, 90], r=[2, 3, 1]),\n",
    "#               row=1, col=2)\n",
    "\n",
    "# fig.add_trace(go.Pie(values=[2, 3, 1]),\n",
    "#               row=2, col=1)\n",
    "\n",
    "# fig.add_trace(go.Scatter3d(x=[2, 3, 1], y=[0, 0, 0],\n",
    "#                            z=[0.5, 1, 2], mode=\"lines\"),\n",
    "#               row=2, col=2)\n",
    "\n",
    "fig.update_layout(height=900, showlegend=True)\n",
    "\n",
    "fig.show()"
   ]
  },
  {
   "cell_type": "code",
   "execution_count": 45,
   "metadata": {},
   "outputs": [
    {
     "ename": "ValueError",
     "evalue": "\nThe 'specs' argument to make_subplots must be a 2D list of dictionaries with dimensions (1 x 2).\n    Received value of type <class 'list'>: [[{'type': 'polar'}, {'type': 'polar'}], [{'type': 'domain'}, {'type': 'scene'}]]",
     "output_type": "error",
     "traceback": [
      "\u001b[0;31m---------------------------------------------------------------------------\u001b[0m",
      "\u001b[0;31mValueError\u001b[0m                                Traceback (most recent call last)",
      "Cell \u001b[0;32mIn [45], line 1\u001b[0m\n\u001b[0;32m----> 1\u001b[0m fig \u001b[38;5;241m=\u001b[39m \u001b[43mmake_subplots\u001b[49m\u001b[43m(\u001b[49m\u001b[43mrows\u001b[49m\u001b[38;5;241;43m=\u001b[39;49m\u001b[38;5;241;43m1\u001b[39;49m\u001b[43m,\u001b[49m\u001b[43m \u001b[49m\u001b[43mcols\u001b[49m\u001b[38;5;241;43m=\u001b[39;49m\u001b[38;5;241;43m2\u001b[39;49m\u001b[43m,\u001b[49m\u001b[43mspecs\u001b[49m\u001b[38;5;241;43m=\u001b[39;49m\u001b[43m[\u001b[49m\u001b[43m[\u001b[49m\u001b[43m{\u001b[49m\u001b[38;5;124;43m\"\u001b[39;49m\u001b[38;5;124;43mtype\u001b[39;49m\u001b[38;5;124;43m\"\u001b[39;49m\u001b[43m:\u001b[49m\u001b[43m \u001b[49m\u001b[38;5;124;43m\"\u001b[39;49m\u001b[38;5;124;43mpolar\u001b[39;49m\u001b[38;5;124;43m\"\u001b[39;49m\u001b[43m}\u001b[49m\u001b[43m,\u001b[49m\u001b[43m \u001b[49m\u001b[43m{\u001b[49m\u001b[38;5;124;43m\"\u001b[39;49m\u001b[38;5;124;43mtype\u001b[39;49m\u001b[38;5;124;43m\"\u001b[39;49m\u001b[43m:\u001b[49m\u001b[43m \u001b[49m\u001b[38;5;124;43m\"\u001b[39;49m\u001b[38;5;124;43mpolar\u001b[39;49m\u001b[38;5;124;43m\"\u001b[39;49m\u001b[43m}\u001b[49m\u001b[43m]\u001b[49m\u001b[43m,\u001b[49m\n\u001b[1;32m      2\u001b[0m \u001b[43m           \u001b[49m\u001b[43m[\u001b[49m\u001b[43m{\u001b[49m\u001b[38;5;124;43m\"\u001b[39;49m\u001b[38;5;124;43mtype\u001b[39;49m\u001b[38;5;124;43m\"\u001b[39;49m\u001b[43m:\u001b[49m\u001b[43m \u001b[49m\u001b[38;5;124;43m\"\u001b[39;49m\u001b[38;5;124;43mdomain\u001b[39;49m\u001b[38;5;124;43m\"\u001b[39;49m\u001b[43m}\u001b[49m\u001b[43m,\u001b[49m\u001b[43m \u001b[49m\u001b[43m{\u001b[49m\u001b[38;5;124;43m\"\u001b[39;49m\u001b[38;5;124;43mtype\u001b[39;49m\u001b[38;5;124;43m\"\u001b[39;49m\u001b[43m:\u001b[49m\u001b[43m \u001b[49m\u001b[38;5;124;43m\"\u001b[39;49m\u001b[38;5;124;43mscene\u001b[39;49m\u001b[38;5;124;43m\"\u001b[39;49m\u001b[43m}\u001b[49m\u001b[43m]\u001b[49m\u001b[43m]\u001b[49m\u001b[43m,\u001b[49m\u001b[43m)\u001b[49m\n\u001b[1;32m      4\u001b[0m categories \u001b[38;5;241m=\u001b[39m [\u001b[38;5;124m'\u001b[39m\u001b[38;5;124mAccuracy\u001b[39m\u001b[38;5;124m'\u001b[39m,\u001b[38;5;124m'\u001b[39m\u001b[38;5;124mPPV\u001b[39m\u001b[38;5;124m'\u001b[39m,\u001b[38;5;124m'\u001b[39m\u001b[38;5;124mNPV\u001b[39m\u001b[38;5;124m'\u001b[39m,\n\u001b[1;32m      5\u001b[0m               \u001b[38;5;124m'\u001b[39m\u001b[38;5;124mRecall\u001b[39m\u001b[38;5;124m'\u001b[39m,\u001b[38;5;124m'\u001b[39m\u001b[38;5;124mF1\u001b[39m\u001b[38;5;124m'\u001b[39m]\n\u001b[1;32m      7\u001b[0m \u001b[38;5;66;03m# fig = go.Figure()\u001b[39;00m\n",
      "File \u001b[0;32m~/anaconda3/envs/dmlf/lib/python3.8/site-packages/plotly/subplots.py:305\u001b[0m, in \u001b[0;36mmake_subplots\u001b[0;34m(rows, cols, shared_xaxes, shared_yaxes, start_cell, print_grid, horizontal_spacing, vertical_spacing, subplot_titles, column_widths, row_heights, specs, insets, column_titles, row_titles, x_title, y_title, figure, **kwargs)\u001b[0m\n\u001b[1;32m      7\u001b[0m \u001b[38;5;28;01mdef\u001b[39;00m \u001b[38;5;21mmake_subplots\u001b[39m(\n\u001b[1;32m      8\u001b[0m     rows\u001b[38;5;241m=\u001b[39m\u001b[38;5;241m1\u001b[39m,\n\u001b[1;32m      9\u001b[0m     cols\u001b[38;5;241m=\u001b[39m\u001b[38;5;241m1\u001b[39m,\n\u001b[0;32m   (...)\u001b[0m\n\u001b[1;32m     26\u001b[0m     \u001b[38;5;241m*\u001b[39m\u001b[38;5;241m*\u001b[39mkwargs,\n\u001b[1;32m     27\u001b[0m ) \u001b[38;5;241m-\u001b[39m\u001b[38;5;241m>\u001b[39m go\u001b[38;5;241m.\u001b[39mFigure:\n\u001b[1;32m     28\u001b[0m     \u001b[38;5;124;03m\"\"\"\u001b[39;00m\n\u001b[1;32m     29\u001b[0m \u001b[38;5;124;03m    Return an instance of plotly.graph_objs.Figure with predefined subplots\u001b[39;00m\n\u001b[1;32m     30\u001b[0m \u001b[38;5;124;03m    configured in 'layout'.\u001b[39;00m\n\u001b[0;32m   (...)\u001b[0m\n\u001b[1;32m    302\u001b[0m \u001b[38;5;124;03m    Figure(...)\u001b[39;00m\n\u001b[1;32m    303\u001b[0m \u001b[38;5;124;03m    \"\"\"\u001b[39;00m\n\u001b[0;32m--> 305\u001b[0m     \u001b[38;5;28;01mreturn\u001b[39;00m \u001b[43m_sub\u001b[49m\u001b[38;5;241;43m.\u001b[39;49m\u001b[43mmake_subplots\u001b[49m\u001b[43m(\u001b[49m\n\u001b[1;32m    306\u001b[0m \u001b[43m        \u001b[49m\u001b[43mrows\u001b[49m\u001b[43m,\u001b[49m\n\u001b[1;32m    307\u001b[0m \u001b[43m        \u001b[49m\u001b[43mcols\u001b[49m\u001b[43m,\u001b[49m\n\u001b[1;32m    308\u001b[0m \u001b[43m        \u001b[49m\u001b[43mshared_xaxes\u001b[49m\u001b[43m,\u001b[49m\n\u001b[1;32m    309\u001b[0m \u001b[43m        \u001b[49m\u001b[43mshared_yaxes\u001b[49m\u001b[43m,\u001b[49m\n\u001b[1;32m    310\u001b[0m \u001b[43m        \u001b[49m\u001b[43mstart_cell\u001b[49m\u001b[43m,\u001b[49m\n\u001b[1;32m    311\u001b[0m \u001b[43m        \u001b[49m\u001b[43mprint_grid\u001b[49m\u001b[43m,\u001b[49m\n\u001b[1;32m    312\u001b[0m \u001b[43m        \u001b[49m\u001b[43mhorizontal_spacing\u001b[49m\u001b[43m,\u001b[49m\n\u001b[1;32m    313\u001b[0m \u001b[43m        \u001b[49m\u001b[43mvertical_spacing\u001b[49m\u001b[43m,\u001b[49m\n\u001b[1;32m    314\u001b[0m \u001b[43m        \u001b[49m\u001b[43msubplot_titles\u001b[49m\u001b[43m,\u001b[49m\n\u001b[1;32m    315\u001b[0m \u001b[43m        \u001b[49m\u001b[43mcolumn_widths\u001b[49m\u001b[43m,\u001b[49m\n\u001b[1;32m    316\u001b[0m \u001b[43m        \u001b[49m\u001b[43mrow_heights\u001b[49m\u001b[43m,\u001b[49m\n\u001b[1;32m    317\u001b[0m \u001b[43m        \u001b[49m\u001b[43mspecs\u001b[49m\u001b[43m,\u001b[49m\n\u001b[1;32m    318\u001b[0m \u001b[43m        \u001b[49m\u001b[43minsets\u001b[49m\u001b[43m,\u001b[49m\n\u001b[1;32m    319\u001b[0m \u001b[43m        \u001b[49m\u001b[43mcolumn_titles\u001b[49m\u001b[43m,\u001b[49m\n\u001b[1;32m    320\u001b[0m \u001b[43m        \u001b[49m\u001b[43mrow_titles\u001b[49m\u001b[43m,\u001b[49m\n\u001b[1;32m    321\u001b[0m \u001b[43m        \u001b[49m\u001b[43mx_title\u001b[49m\u001b[43m,\u001b[49m\n\u001b[1;32m    322\u001b[0m \u001b[43m        \u001b[49m\u001b[43my_title\u001b[49m\u001b[43m,\u001b[49m\n\u001b[1;32m    323\u001b[0m \u001b[43m        \u001b[49m\u001b[43mfigure\u001b[49m\u001b[43m,\u001b[49m\n\u001b[1;32m    324\u001b[0m \u001b[43m        \u001b[49m\u001b[38;5;241;43m*\u001b[39;49m\u001b[38;5;241;43m*\u001b[39;49m\u001b[43mkwargs\u001b[49m\u001b[43m,\u001b[49m\n\u001b[1;32m    325\u001b[0m \u001b[43m    \u001b[49m\u001b[43m)\u001b[49m\n",
      "File \u001b[0;32m~/anaconda3/envs/dmlf/lib/python3.8/site-packages/plotly/_subplots.py:445\u001b[0m, in \u001b[0;36mmake_subplots\u001b[0;34m(rows, cols, shared_xaxes, shared_yaxes, start_cell, print_grid, horizontal_spacing, vertical_spacing, subplot_titles, column_widths, row_heights, specs, insets, column_titles, row_titles, x_title, y_title, figure, **kwargs)\u001b[0m\n\u001b[1;32m    436\u001b[0m         specs \u001b[38;5;241m=\u001b[39m [[{} \u001b[38;5;28;01mfor\u001b[39;00m c \u001b[38;5;129;01min\u001b[39;00m \u001b[38;5;28mrange\u001b[39m(cols)] \u001b[38;5;28;01mfor\u001b[39;00m r \u001b[38;5;129;01min\u001b[39;00m \u001b[38;5;28mrange\u001b[39m(rows)]\n\u001b[1;32m    437\u001b[0m     \u001b[38;5;28;01melif\u001b[39;00m \u001b[38;5;129;01mnot\u001b[39;00m (\n\u001b[1;32m    438\u001b[0m         \u001b[38;5;28misinstance\u001b[39m(specs, (\u001b[38;5;28mlist\u001b[39m, \u001b[38;5;28mtuple\u001b[39m))\n\u001b[1;32m    439\u001b[0m         \u001b[38;5;129;01mand\u001b[39;00m specs\n\u001b[0;32m   (...)\u001b[0m\n\u001b[1;32m    443\u001b[0m         \u001b[38;5;129;01mand\u001b[39;00m \u001b[38;5;28mall\u001b[39m(\u001b[38;5;28mall\u001b[39m(v \u001b[38;5;129;01mis\u001b[39;00m \u001b[38;5;28;01mNone\u001b[39;00m \u001b[38;5;129;01mor\u001b[39;00m \u001b[38;5;28misinstance\u001b[39m(v, \u001b[38;5;28mdict\u001b[39m) \u001b[38;5;28;01mfor\u001b[39;00m v \u001b[38;5;129;01min\u001b[39;00m row) \u001b[38;5;28;01mfor\u001b[39;00m row \u001b[38;5;129;01min\u001b[39;00m specs)\n\u001b[1;32m    444\u001b[0m     ):\n\u001b[0;32m--> 445\u001b[0m         \u001b[38;5;28;01mraise\u001b[39;00m \u001b[38;5;167;01mValueError\u001b[39;00m(\n\u001b[1;32m    446\u001b[0m             \u001b[38;5;124;03m\"\"\"\u001b[39;00m\n\u001b[1;32m    447\u001b[0m \u001b[38;5;124;03mThe 'specs' argument to make_subplots must be a 2D list of dictionaries with \\\u001b[39;00m\n\u001b[1;32m    448\u001b[0m \u001b[38;5;124;03mdimensions ({rows} x {cols}).\u001b[39;00m\n\u001b[1;32m    449\u001b[0m \u001b[38;5;124;03m    Received value of type {typ}: {val}\"\"\"\u001b[39;00m\u001b[38;5;241m.\u001b[39mformat(\n\u001b[1;32m    450\u001b[0m                 rows\u001b[38;5;241m=\u001b[39mrows, cols\u001b[38;5;241m=\u001b[39mcols, typ\u001b[38;5;241m=\u001b[39m\u001b[38;5;28mtype\u001b[39m(specs), val\u001b[38;5;241m=\u001b[39m\u001b[38;5;28mrepr\u001b[39m(specs)\n\u001b[1;32m    451\u001b[0m             )\n\u001b[1;32m    452\u001b[0m         )\n\u001b[1;32m    454\u001b[0m     \u001b[38;5;28;01mfor\u001b[39;00m row \u001b[38;5;129;01min\u001b[39;00m specs:\n\u001b[1;32m    455\u001b[0m         \u001b[38;5;28;01mfor\u001b[39;00m spec \u001b[38;5;129;01min\u001b[39;00m row:\n\u001b[1;32m    456\u001b[0m             \u001b[38;5;66;03m# For backward compatibility,\u001b[39;00m\n\u001b[1;32m    457\u001b[0m             \u001b[38;5;66;03m# convert is_3d flag to type='scene' kwarg\u001b[39;00m\n",
      "\u001b[0;31mValueError\u001b[0m: \nThe 'specs' argument to make_subplots must be a 2D list of dictionaries with dimensions (1 x 2).\n    Received value of type <class 'list'>: [[{'type': 'polar'}, {'type': 'polar'}], [{'type': 'domain'}, {'type': 'scene'}]]"
     ]
    }
   ],
   "source": [
    "fig = make_subplots(rows=1, cols=2,specs=[[{\"type\": \"polar\"}, {\"type\": \"polar\"}],\n",
    "           [{\"type\": \"domain\"}, {\"type\": \"scene\"}]],)\n",
    "\n",
    "categories = ['Accuracy','PPV','NPV',\n",
    "              'Recall','F1']\n",
    "\n",
    "# fig = go.Figure()\n",
    "\n",
    "fig.add_trace(go.Scatterpolar(\n",
    "      r=embdedding_res.iloc[0,1:7],\n",
    "      theta=categories,\n",
    "      fill='toself',\n",
    "      name='one-hot'\n",
    "      \n",
    "),row=1,col=1)\n",
    "\n",
    "# fig.add_trace(go.Scatterpolar(\n",
    "#       r=[0.8693 ,0.8999,0.8454,0.8198,0.8580],\n",
    "#       theta=categories,\n",
    "#       fill='toself',\n",
    "#       name='uniprep',\n",
    "#      row=1,col=1\n",
    "# ))\n",
    "\n",
    "# fig.add_trace(go.Scatterpolar(\n",
    "#       r=[0.8693 ,0.8999,0.8454,0.8198,0.8580],\n",
    "#       theta=categories,\n",
    "#       fill='toself',\n",
    "#       name='uniprep',\n",
    "#       row=1,col=1\n",
    "# ))\n",
    "\n",
    "fig.update_layout(\n",
    "  polar=dict(\n",
    "    radialaxis=dict(\n",
    "      visible=True,\n",
    "      range=[0,1]\n",
    "    )),\n",
    "    \n",
    "  showlegend=True\n",
    ")\n",
    "\n",
    "fig.show()"
   ]
  }
 ],
 "metadata": {
  "kernelspec": {
   "display_name": "dmlf",
   "language": "python",
   "name": "python3"
  },
  "language_info": {
   "codemirror_mode": {
    "name": "ipython",
    "version": 3
   },
   "file_extension": ".py",
   "mimetype": "text/x-python",
   "name": "python",
   "nbconvert_exporter": "python",
   "pygments_lexer": "ipython3",
   "version": "3.8.13"
  },
  "vscode": {
   "interpreter": {
    "hash": "01198cbd8e9354c2bdc2e2d750ceaa12955025c4f7059132aa2585625d50e356"
   }
  },
  "widgets": {
   "application/vnd.jupyter.widget-state+json": {
    "state": {},
    "version_major": 2,
    "version_minor": 0
   }
  }
 },
 "nbformat": 4,
 "nbformat_minor": 4
}
