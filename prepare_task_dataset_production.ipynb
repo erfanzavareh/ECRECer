{
 "cells": [
  {
   "cell_type": "markdown",
   "id": "2287d9df-a1b8-4fc7-8373-01ab1721225d",
   "metadata": {},
   "source": [
    "# Construct Datasets for benchmarking tasks\n",
    "\n",
    "> author: Shizhenkun   \n",
    "> email: zhenkun.shi@tib.cas.cn   \n",
    "> date: 2021-10-08  \n",
    "\n",
    "## Dataset1. Enzyme None-enzyme Dataset\n",
    "The enzyme dataset is consists of two parts: a training set and a testing set. The training set is from snapshot Feb-2018 and excludes those deleted items in snapshot Jun-2020. The training set is consists of 467,973 records, of which 222,290 are enzymes, and 245,683 are not enzymes. The testing set is from snapshot Jun-2020 and excludes these items that appeared in snapshot Feb-2018. The testing set is consists of 8033 records, of which 3579 are enzymes, and 4454 are not-enzymes. Unlike previous works,  we did not filter any sequences in terms of length and homology to make the data more inclusive. We make a label for each sequence, 1 for enzyme and 0 for not-enzyme. \n",
    "\n",
    "## Dataset2. Enzyme Quantity Dataset\n",
    "The enzyme quantity dataset only contains enzyme data, contain 13,108 records. The function quantity ranges from 2 to 10.\n",
    "\n",
    "## Dataset 3: EC number Dataset\n",
    "\n",
    "Similar to the enzyme quantity dataset, the EC number dataset is consists of 225,221 enzyme records, 221,642 are training-set, and the rest 3579 are testing-set, covering 4852 EC numbers. Up to Feb 2020, there still exist 267 EC numbers that the model can not handle in the benchmarking. Thus, we exclude the sequences with these 267 EC numbers in the evaluation process. But, this problem can be resolved in the production scenario because we use the entire data from Swiss-Prot. Now the EC coverage is 5307 and can be automatically extended, for the training is real-time based on the publication of Swiss-Prot every 8 weeks. "
   ]
  },
  {
   "cell_type": "markdown",
   "id": "6c6db9dd-5c89-423e-8131-b2e5b4c01618",
   "metadata": {},
   "source": [
    "## 1. Import packages"
   ]
  },
  {
   "cell_type": "code",
   "execution_count": 1,
   "id": "8fd276ba-aec4-4edf-a2d1-682a15233476",
   "metadata": {
    "tags": []
   },
   "outputs": [
    {
     "name": "stdout",
     "output_type": "stream",
     "text": [
      "INFO: Pandarallel will run on 80 workers.\n",
      "INFO: Pandarallel will use Memory file system to transfer data between the main process and workers.\n"
     ]
    }
   ],
   "source": [
    "import numpy as np\n",
    "import pandas as pd\n",
    "\n",
    "import os\n",
    "import re\n",
    "import time\n",
    "import datetime\n",
    "import sys\n",
    "from tqdm import tqdm\n",
    "import config as cfg\n",
    "from functools import reduce\n",
    "import matplotlib.pyplot as plt\n",
    "\n",
    "sys.path.append(\"./tools/\")\n",
    "import exact_ec_from_uniprot as exactec\n",
    "import minitools as mtool\n",
    "import embedding_esm as esmebd\n",
    "# import embedding_unirep as unirep\n",
    "\n",
    "from pandarallel import pandarallel # 导入pandaralle\n",
    "pandarallel.initialize() # 初始化该这个b...并行库\n",
    "\n",
    "\n",
    "%load_ext autoreload\n",
    "%autoreload 2"
   ]
  },
  {
   "cell_type": "markdown",
   "id": "50dbdc9d-92cc-4281-be25-95e37097f43f",
   "metadata": {},
   "source": [
    "## 2. Define Functions"
   ]
  },
  {
   "cell_type": "code",
   "execution_count": 2,
   "id": "0da378c0-edf0-45b0-8aaa-e909dae794f2",
   "metadata": {
    "tags": []
   },
   "outputs": [],
   "source": [
    "# install axel for download dataset\n",
    "def install_axel():\n",
    "    isExists = !which axel\n",
    "    if 'axel' in str(isExists[0]):\n",
    "        return True\n",
    "    else:\n",
    "        !sudo apt install axel -y\n",
    "\n",
    "# add missing '-' for ec number\n",
    "def refill_ec(ec):   \n",
    "    if ec == '-':\n",
    "        return ec\n",
    "    levelArray = ec.split('.')\n",
    "    if  levelArray[3]=='':\n",
    "        levelArray[3] ='-'\n",
    "    ec = '.'.join(levelArray)\n",
    "    return ec\n",
    "\n",
    "def specific_ecs(ecstr):\n",
    "    if '-' not in ecstr or len(ecstr)<4:\n",
    "        return ecstr\n",
    "    ecs = ecstr.split(',')\n",
    "    if len(ecs)==1:\n",
    "        return ecstr\n",
    "    \n",
    "    reslist=[]\n",
    "    \n",
    "    for ec in ecs:\n",
    "        recs = ecs.copy()\n",
    "        recs.remove(ec)\n",
    "        ecarray = np.array([x.split('.') for x in recs])\n",
    "        \n",
    "        if '-' not in ec:\n",
    "            reslist +=[ec]\n",
    "            continue\n",
    "        linearray= ec.split('.')\n",
    "        if linearray[1] == '-':\n",
    "            #l1 in l1s and l2 not empty\n",
    "            if (linearray[0] in  ecarray[:,0]) and (len(set(ecarray[:,0]) - set({'-'}))>0):\n",
    "                continue\n",
    "        if linearray[2] == '-':\n",
    "            # l1, l2 in l1s l2s, l3 not empty\n",
    "            if (linearray[0] in  ecarray[:,0]) and (linearray[1] in  ecarray[:,1]) and (len(set(ecarray[:,2]) - set({'-'}))>0):\n",
    "                continue\n",
    "        if linearray[3] == '-':\n",
    "            # l1, l2, l3 in l1s l2s l3s, l4 not empty\n",
    "            if (linearray[0] in  ecarray[:,0]) and (linearray[1] in  ecarray[:,1]) and (linearray[2] in  ecarray[:,2]) and (len(set(ecarray[:,3]) - set({'-'}))>0):\n",
    "                continue\n",
    "                \n",
    "        reslist +=[ec]\n",
    "    return ','.join(reslist)\n",
    "\n",
    "#format ec\n",
    "def format_ec(ecstr):\n",
    "    ecArray= ecstr.split(',')\n",
    "    ecArray=[x.strip() for x in ecArray] #strip blank\n",
    "    ecArray=[refill_ec(x) for x in ecArray] #format ec to full\n",
    "    ecArray = list(set(ecArray)) # remove duplicates\n",
    "    \n",
    "    return ','.join(ecArray)"
   ]
  },
  {
   "cell_type": "markdown",
   "id": "901557a4-c496-4608-84e2-3306f6a322e3",
   "metadata": {},
   "source": [
    "## 3. Download rawdata from unisprot"
   ]
  },
  {
   "cell_type": "code",
   "execution_count": 4,
   "id": "243413dd-4ce6-40ea-a441-34b313aab6dc",
   "metadata": {
    "tags": []
   },
   "outputs": [],
   "source": [
    "# download location ./tmp\n",
    "install_axel()\n",
    "!axel -n 10 https://ftp.uniprot.org/pub/databases/uniprot/current_release/knowledgebase/complete/uniprot_sprot.dat.gz -o ./data/uniprot_sprot_latest.dat.gz -q -c"
   ]
  },
  {
   "cell_type": "markdown",
   "id": "c10cb9c0-94bc-4525-9795-1b818a977c69",
   "metadata": {},
   "source": [
    "## 4. Extract records from rawdata"
   ]
  },
  {
   "cell_type": "code",
   "execution_count": 5,
   "id": "eb6f3dd8-577a-4a13-b3dd-2d3c860c46ad",
   "metadata": {
    "collapsed": true,
    "jupyter": {
     "outputs_hidden": true
    },
    "tags": []
   },
   "outputs": [
    {
     "name": "stdout",
     "output_type": "stream",
     "text": [
      "uniprot_sprot.dat.gz\n",
      "uniprot_sprot.fasta.gz\n",
      "uniprot_sprot_varsplic.fasta.gz\n",
      "uniprot_sprot.xml.gz\n",
      "uniprot_sprot.dat.gz\n",
      "uniprot_sprot.fasta.gz\n",
      "uniprot_sprot_varsplic.fasta.gz\n",
      "uniprot_sprot.xml.gz\n"
     ]
    }
   ],
   "source": [
    "# 2018 data\n",
    "! tar -zxvf ./tmp/uniprot_sprot-only2018_02.tar.gz -C ./tmp/\n",
    "! mv ./tmp/uniprot_sprot.dat.gz ./tmp/sprot2018.data.gz\n",
    "! rm -rf ./tmp/*.fasta.gz ./tmp/*.xml.gz\n",
    "\n",
    "# 2020 data\n",
    "! tar -zxvf ./tmp/uniprot_sprot-only2020_06.tar.gz -C ./tmp/\n",
    "! mv ./tmp/uniprot_sprot.dat.gz ./tmp/sprot2020.data.gz\n",
    "! rm -rf ./tmp/*.fasta.gz ./tmp/*.xml.gz"
   ]
  },
  {
   "cell_type": "code",
   "execution_count": 5,
   "id": "616bc8ba-6902-4b66-884a-fce91b6041bb",
   "metadata": {
    "tags": []
   },
   "outputs": [
    {
     "name": "stderr",
     "output_type": "stream",
     "text": [
      "565928it [04:41, 2011.66it/s]\n"
     ]
    },
    {
     "name": "stdout",
     "output_type": "stream",
     "text": [
      "finished use time 279.099 s\n"
     ]
    }
   ],
   "source": [
    "exactec.run_exact_task(infile=cfg.DATADIR+'uniprot_sprot_latest.dat.gz', outfile=cfg.DATADIR+'sprot_latest.tsv')"
   ]
  },
  {
   "cell_type": "markdown",
   "id": "b3339787-1f45-426c-8163-e2015a746088",
   "metadata": {},
   "source": [
    "## 5. Load records"
   ]
  },
  {
   "cell_type": "code",
   "execution_count": 6,
   "id": "06b09799-fb74-4967-b764-10e6e6de375c",
   "metadata": {
    "tags": []
   },
   "outputs": [],
   "source": [
    "#加载数据并转换时间格式\n",
    "sprot_latest = pd.read_csv(cfg.DATADIR+'sprot_latest.tsv', sep='\\t',header=0) #读入文件\n",
    "sprot_latest = mtool.convert_DF_dateTime(inputdf = sprot_latest)"
   ]
  },
  {
   "cell_type": "markdown",
   "id": "4b0f9da8-aad5-40aa-bb31-3fef682bd971",
   "metadata": {},
   "source": [
    "## 6. Preprocessing\n",
    "### 6.1 Drop Duplicates"
   ]
  },
  {
   "cell_type": "code",
   "execution_count": 7,
   "id": "60c0be33-eb18-486e-993c-24e3a54484cd",
   "metadata": {},
   "outputs": [],
   "source": [
    "sprot_latest.drop_duplicates(subset=['seq'], keep='first', inplace=True)\n",
    "sprot_latest.reset_index(drop=True, inplace=True)\n"
   ]
  },
  {
   "cell_type": "markdown",
   "id": "2f5d3639-7149-4ca1-b837-239554a21733",
   "metadata": {},
   "source": [
    "### 6.2 format EC"
   ]
  },
  {
   "cell_type": "code",
   "execution_count": 8,
   "id": "1f90d9b3-f19d-4767-8d78-d54605b49971",
   "metadata": {},
   "outputs": [],
   "source": [
    "#sprot_latest\n",
    "sprot_latest['ec_number'] = sprot_latest.ec_number.parallel_apply(lambda x: format_ec(x))\n",
    "sprot_latest['ec_number'] = sprot_latest.ec_number.parallel_apply(lambda x: specific_ecs(x))\n",
    "sprot_latest['functionCounts'] = sprot_latest.ec_number.parallel_apply(lambda x: 0 if x=='-'  else len(x.split(',')))"
   ]
  },
  {
   "cell_type": "code",
   "execution_count": 9,
   "id": "6d72500a-09e7-427c-b184-5f1c337ca247",
   "metadata": {},
   "outputs": [
    {
     "data": {
      "text/html": [
       "<div>\n",
       "<style scoped>\n",
       "    .dataframe tbody tr th:only-of-type {\n",
       "        vertical-align: middle;\n",
       "    }\n",
       "\n",
       "    .dataframe tbody tr th {\n",
       "        vertical-align: top;\n",
       "    }\n",
       "\n",
       "    .dataframe thead th {\n",
       "        text-align: right;\n",
       "    }\n",
       "</style>\n",
       "<table border=\"1\" class=\"dataframe\">\n",
       "  <thead>\n",
       "    <tr style=\"text-align: right;\">\n",
       "      <th></th>\n",
       "      <th>id</th>\n",
       "      <th>name</th>\n",
       "      <th>isenzyme</th>\n",
       "      <th>isMultiFunctional</th>\n",
       "      <th>functionCounts</th>\n",
       "      <th>ec_number</th>\n",
       "      <th>ec_specific_level</th>\n",
       "      <th>date_integraged</th>\n",
       "      <th>date_sequence_update</th>\n",
       "      <th>date_annotation_update</th>\n",
       "      <th>seq</th>\n",
       "      <th>seqlength</th>\n",
       "    </tr>\n",
       "  </thead>\n",
       "  <tbody>\n",
       "    <tr>\n",
       "      <th>0</th>\n",
       "      <td>P84233</td>\n",
       "      <td>H32_XENLA</td>\n",
       "      <td>False</td>\n",
       "      <td>False</td>\n",
       "      <td>0</td>\n",
       "      <td>-</td>\n",
       "      <td>0</td>\n",
       "      <td>1986-07-21</td>\n",
       "      <td>2007-01-23</td>\n",
       "      <td>2021-09-29</td>\n",
       "      <td>MARTKQTARKSTGGKAPRKQLATKAARKSAPATGGVKKPHRYRPGT...</td>\n",
       "      <td>136</td>\n",
       "    </tr>\n",
       "    <tr>\n",
       "      <th>1</th>\n",
       "      <td>P0A7F3</td>\n",
       "      <td>PYRI_ECOLI</td>\n",
       "      <td>False</td>\n",
       "      <td>False</td>\n",
       "      <td>0</td>\n",
       "      <td>-</td>\n",
       "      <td>0</td>\n",
       "      <td>1986-07-21</td>\n",
       "      <td>2007-01-23</td>\n",
       "      <td>2021-09-29</td>\n",
       "      <td>MTHDNKLQVEAIKRGTVIDHIPAQIGFKLLSLFKLTETDQRITIGL...</td>\n",
       "      <td>153</td>\n",
       "    </tr>\n",
       "    <tr>\n",
       "      <th>2</th>\n",
       "      <td>P03212</td>\n",
       "      <td>GL_EBVB9</td>\n",
       "      <td>False</td>\n",
       "      <td>False</td>\n",
       "      <td>0</td>\n",
       "      <td>-</td>\n",
       "      <td>0</td>\n",
       "      <td>1986-07-21</td>\n",
       "      <td>1986-07-21</td>\n",
       "      <td>2021-09-29</td>\n",
       "      <td>MRAVGVFLAICLVTIFVLPTWGNWAYPCCHVTQLRAQHLLALENIS...</td>\n",
       "      <td>137</td>\n",
       "    </tr>\n",
       "    <tr>\n",
       "      <th>3</th>\n",
       "      <td>P01158</td>\n",
       "      <td>DSIP_RABIT</td>\n",
       "      <td>False</td>\n",
       "      <td>False</td>\n",
       "      <td>0</td>\n",
       "      <td>-</td>\n",
       "      <td>0</td>\n",
       "      <td>1986-07-21</td>\n",
       "      <td>1986-07-21</td>\n",
       "      <td>2019-12-11</td>\n",
       "      <td>WAGGDASGE</td>\n",
       "      <td>9</td>\n",
       "    </tr>\n",
       "    <tr>\n",
       "      <th>4</th>\n",
       "      <td>P0A6U4</td>\n",
       "      <td>MNMG_ECOL6</td>\n",
       "      <td>False</td>\n",
       "      <td>False</td>\n",
       "      <td>0</td>\n",
       "      <td>-</td>\n",
       "      <td>0</td>\n",
       "      <td>1986-07-21</td>\n",
       "      <td>2005-03-29</td>\n",
       "      <td>2021-09-29</td>\n",
       "      <td>MFYPDPFDVIIIGGGHAGTEAAMAAARMGQQTLLLTHNIDTLGQMS...</td>\n",
       "      <td>629</td>\n",
       "    </tr>\n",
       "    <tr>\n",
       "      <th>...</th>\n",
       "      <td>...</td>\n",
       "      <td>...</td>\n",
       "      <td>...</td>\n",
       "      <td>...</td>\n",
       "      <td>...</td>\n",
       "      <td>...</td>\n",
       "      <td>...</td>\n",
       "      <td>...</td>\n",
       "      <td>...</td>\n",
       "      <td>...</td>\n",
       "      <td>...</td>\n",
       "      <td>...</td>\n",
       "    </tr>\n",
       "    <tr>\n",
       "      <th>477912</th>\n",
       "      <td>A0A0U5GMR5</td>\n",
       "      <td>AUSJ_ASPCI</td>\n",
       "      <td>False</td>\n",
       "      <td>False</td>\n",
       "      <td>0</td>\n",
       "      <td>-</td>\n",
       "      <td>0</td>\n",
       "      <td>2021-09-29</td>\n",
       "      <td>2016-03-16</td>\n",
       "      <td>2021-09-29</td>\n",
       "      <td>MTTTRHRLLATASRFVTTLESLDVDAMLAVRSPTCLHHMCLPSFRN...</td>\n",
       "      <td>165</td>\n",
       "    </tr>\n",
       "    <tr>\n",
       "      <th>477913</th>\n",
       "      <td>S8FIE4</td>\n",
       "      <td>LAC1_FOMPI</td>\n",
       "      <td>True</td>\n",
       "      <td>False</td>\n",
       "      <td>1</td>\n",
       "      <td>1.10.3.2</td>\n",
       "      <td>4</td>\n",
       "      <td>2021-09-29</td>\n",
       "      <td>2013-10-16</td>\n",
       "      <td>2021-09-29</td>\n",
       "      <td>MAFTAISLFLAALGVINTAFAQSAVIGPVTDLDIINAEVNLDGFPR...</td>\n",
       "      <td>539</td>\n",
       "    </tr>\n",
       "    <tr>\n",
       "      <th>477914</th>\n",
       "      <td>S8FGV1</td>\n",
       "      <td>LAC2_FOMPI</td>\n",
       "      <td>True</td>\n",
       "      <td>False</td>\n",
       "      <td>1</td>\n",
       "      <td>1.10.3.2</td>\n",
       "      <td>4</td>\n",
       "      <td>2021-09-29</td>\n",
       "      <td>2013-10-16</td>\n",
       "      <td>2021-09-29</td>\n",
       "      <td>MLLSSAFVGSCLAILNFAAAVSAQGGLSRTTLNIVNKVISPDGYSR...</td>\n",
       "      <td>530</td>\n",
       "    </tr>\n",
       "    <tr>\n",
       "      <th>477915</th>\n",
       "      <td>Q57286</td>\n",
       "      <td>MMDB_VEIPA</td>\n",
       "      <td>True</td>\n",
       "      <td>False</td>\n",
       "      <td>1</td>\n",
       "      <td>7.2.4.3</td>\n",
       "      <td>4</td>\n",
       "      <td>2021-09-29</td>\n",
       "      <td>1996-11-01</td>\n",
       "      <td>2021-09-29</td>\n",
       "      <td>MEAFAVAIQSVINDSGFLAFTTGNAIMILVGLILLYLAFAREFEPL...</td>\n",
       "      <td>373</td>\n",
       "    </tr>\n",
       "    <tr>\n",
       "      <th>477916</th>\n",
       "      <td>A0A1W5T1U1</td>\n",
       "      <td>POXE_PENOX</td>\n",
       "      <td>True</td>\n",
       "      <td>True</td>\n",
       "      <td>2</td>\n",
       "      <td>6.3.2.-,2.3.1.-</td>\n",
       "      <td>3</td>\n",
       "      <td>2021-09-29</td>\n",
       "      <td>2017-07-05</td>\n",
       "      <td>2021-09-29</td>\n",
       "      <td>MAPSQAPREPIAIVGSGCRFPGESSSPSKLWELLQAPRDVQTEIPP...</td>\n",
       "      <td>4080</td>\n",
       "    </tr>\n",
       "  </tbody>\n",
       "</table>\n",
       "<p>477917 rows × 12 columns</p>\n",
       "</div>"
      ],
      "text/plain": [
       "                id        name  isenzyme  isMultiFunctional  functionCounts  \\\n",
       "0           P84233   H32_XENLA     False              False               0   \n",
       "1           P0A7F3  PYRI_ECOLI     False              False               0   \n",
       "2           P03212    GL_EBVB9     False              False               0   \n",
       "3           P01158  DSIP_RABIT     False              False               0   \n",
       "4           P0A6U4  MNMG_ECOL6     False              False               0   \n",
       "...            ...         ...       ...                ...             ...   \n",
       "477912  A0A0U5GMR5  AUSJ_ASPCI     False              False               0   \n",
       "477913      S8FIE4  LAC1_FOMPI      True              False               1   \n",
       "477914      S8FGV1  LAC2_FOMPI      True              False               1   \n",
       "477915      Q57286  MMDB_VEIPA      True              False               1   \n",
       "477916  A0A1W5T1U1  POXE_PENOX      True               True               2   \n",
       "\n",
       "              ec_number  ec_specific_level date_integraged  \\\n",
       "0                     -                  0      1986-07-21   \n",
       "1                     -                  0      1986-07-21   \n",
       "2                     -                  0      1986-07-21   \n",
       "3                     -                  0      1986-07-21   \n",
       "4                     -                  0      1986-07-21   \n",
       "...                 ...                ...             ...   \n",
       "477912                -                  0      2021-09-29   \n",
       "477913         1.10.3.2                  4      2021-09-29   \n",
       "477914         1.10.3.2                  4      2021-09-29   \n",
       "477915          7.2.4.3                  4      2021-09-29   \n",
       "477916  6.3.2.-,2.3.1.-                  3      2021-09-29   \n",
       "\n",
       "       date_sequence_update date_annotation_update  \\\n",
       "0                2007-01-23             2021-09-29   \n",
       "1                2007-01-23             2021-09-29   \n",
       "2                1986-07-21             2021-09-29   \n",
       "3                1986-07-21             2019-12-11   \n",
       "4                2005-03-29             2021-09-29   \n",
       "...                     ...                    ...   \n",
       "477912           2016-03-16             2021-09-29   \n",
       "477913           2013-10-16             2021-09-29   \n",
       "477914           2013-10-16             2021-09-29   \n",
       "477915           1996-11-01             2021-09-29   \n",
       "477916           2017-07-05             2021-09-29   \n",
       "\n",
       "                                                      seq  seqlength  \n",
       "0       MARTKQTARKSTGGKAPRKQLATKAARKSAPATGGVKKPHRYRPGT...        136  \n",
       "1       MTHDNKLQVEAIKRGTVIDHIPAQIGFKLLSLFKLTETDQRITIGL...        153  \n",
       "2       MRAVGVFLAICLVTIFVLPTWGNWAYPCCHVTQLRAQHLLALENIS...        137  \n",
       "3                                               WAGGDASGE          9  \n",
       "4       MFYPDPFDVIIIGGGHAGTEAAMAAARMGQQTLLLTHNIDTLGQMS...        629  \n",
       "...                                                   ...        ...  \n",
       "477912  MTTTRHRLLATASRFVTTLESLDVDAMLAVRSPTCLHHMCLPSFRN...        165  \n",
       "477913  MAFTAISLFLAALGVINTAFAQSAVIGPVTDLDIINAEVNLDGFPR...        539  \n",
       "477914  MLLSSAFVGSCLAILNFAAAVSAQGGLSRTTLNIVNKVISPDGYSR...        530  \n",
       "477915  MEAFAVAIQSVINDSGFLAFTTGNAIMILVGLILLYLAFAREFEPL...        373  \n",
       "477916  MAPSQAPREPIAIVGSGCRFPGESSSPSKLWELLQAPRDVQTEIPP...       4080  \n",
       "\n",
       "[477917 rows x 12 columns]"
      ]
     },
     "execution_count": 9,
     "metadata": {},
     "output_type": "execute_result"
    }
   ],
   "source": [
    "sprot_latest"
   ]
  },
  {
   "cell_type": "markdown",
   "id": "39035c66-814a-43cc-84dc-38a6cecc56fb",
   "metadata": {},
   "source": [
    "### 6.3 Get Tainset"
   ]
  },
  {
   "cell_type": "code",
   "execution_count": 10,
   "id": "d760b165-ad48-47d7-8ac4-6defbc0a905f",
   "metadata": {},
   "outputs": [],
   "source": [
    "train = sprot_latest.iloc[:,np.r_[0,2:7,10:12]]"
   ]
  },
  {
   "cell_type": "markdown",
   "id": "5ac86e68-e449-4b64-8bc4-f415301f675b",
   "metadata": {},
   "source": [
    "### 6.4 Trim string"
   ]
  },
  {
   "cell_type": "code",
   "execution_count": 11,
   "id": "f4ede799-40d1-43f3-81be-c5fbbb70e7dc",
   "metadata": {},
   "outputs": [],
   "source": [
    "with pd.option_context('mode.chained_assignment', None):\n",
    "    train.ec_number = train.ec_number.parallel_apply(lambda x : str(x).strip()) #ec trim\n",
    "    train.seq = train.seq.parallel_apply(lambda x : str(x).strip()) #seq trim"
   ]
  },
  {
   "cell_type": "code",
   "execution_count": null,
   "id": "11dfec1f-9f3b-4f9d-a8f5-ade60e9735cf",
   "metadata": {},
   "outputs": [],
   "source": []
  },
  {
   "cell_type": "markdown",
   "id": "a6bfd483-8e73-4981-a10c-f28cb3b4a2da",
   "metadata": {},
   "source": [
    "### 6.5 Save train latest"
   ]
  },
  {
   "cell_type": "code",
   "execution_count": 12,
   "id": "450d4a30-e4b2-4743-94c3-518eda3833af",
   "metadata": {},
   "outputs": [],
   "source": [
    "train.to_feather(cfg.DATADIR + 'sprot_latest.feature')"
   ]
  },
  {
   "cell_type": "markdown",
   "id": "01d4808a-378d-475f-943c-c0a163b6b880",
   "metadata": {},
   "source": [
    "## 6.51 Move Existing fetures to Bank"
   ]
  },
  {
   "cell_type": "code",
   "execution_count": 20,
   "id": "ae7ad4c5-9567-4095-9a84-7606ef5f94d6",
   "metadata": {},
   "outputs": [
    {
     "name": "stdout",
     "output_type": "stream",
     "text": [
      "mv: cannot stat '/home/shizhenkun/codebase/DMLF/data/sprot_latest_rep0.feather': No such file or directory\n"
     ]
    }
   ],
   "source": [
    "! mv $cfg.DATADIR'sprot_latest_rep0.feather' $cfg.DATADIR'featureBank/sprot_latest_rep0.feather'\n",
    "! mv $cfg.DATADIR'sprot_latest_rep32.feather' $cfg.DATADIR'featureBank/sprot_latest_rep32.feather'\n",
    "! mv $cfg.DATADIR'sprot_latest_rep33.feather' $cfg.DATADIR'featureBank/sprot_latest_rep33.feather'\n",
    "! mv $cfg.DATADIR'sprot_latest_unirep.feather' $cfg.DATADIR'featureBank/sprot_latest_unirep.feather'"
   ]
  },
  {
   "cell_type": "markdown",
   "id": "1ed7789a-afd7-44f4-b05f-67121f37729b",
   "metadata": {},
   "source": [
    "## 6.52 Loading exsiting records with features"
   ]
  },
  {
   "cell_type": "code",
   "execution_count": 21,
   "id": "f6156898-a67d-4cb9-a53e-0e4ae3a1b75d",
   "metadata": {},
   "outputs": [],
   "source": [
    "existing= pd.read_feather(cfg.DATADIR + 'featureBank/sprot_latest_rep0.feather')"
   ]
  },
  {
   "cell_type": "code",
   "execution_count": 22,
   "id": "82fe06ce-61b0-4901-b512-8dd8e961d0bd",
   "metadata": {},
   "outputs": [
    {
     "data": {
      "text/html": [
       "<div>\n",
       "<style scoped>\n",
       "    .dataframe tbody tr th:only-of-type {\n",
       "        vertical-align: middle;\n",
       "    }\n",
       "\n",
       "    .dataframe tbody tr th {\n",
       "        vertical-align: top;\n",
       "    }\n",
       "\n",
       "    .dataframe thead th {\n",
       "        text-align: right;\n",
       "    }\n",
       "</style>\n",
       "<table border=\"1\" class=\"dataframe\">\n",
       "  <thead>\n",
       "    <tr style=\"text-align: right;\">\n",
       "      <th></th>\n",
       "      <th>id</th>\n",
       "      <th>f1</th>\n",
       "      <th>f2</th>\n",
       "      <th>f3</th>\n",
       "      <th>f4</th>\n",
       "      <th>f5</th>\n",
       "      <th>f6</th>\n",
       "      <th>f7</th>\n",
       "      <th>f8</th>\n",
       "      <th>f9</th>\n",
       "      <th>...</th>\n",
       "      <th>f1271</th>\n",
       "      <th>f1272</th>\n",
       "      <th>f1273</th>\n",
       "      <th>f1274</th>\n",
       "      <th>f1275</th>\n",
       "      <th>f1276</th>\n",
       "      <th>f1277</th>\n",
       "      <th>f1278</th>\n",
       "      <th>f1279</th>\n",
       "      <th>f1280</th>\n",
       "    </tr>\n",
       "  </thead>\n",
       "  <tbody>\n",
       "    <tr>\n",
       "      <th>0</th>\n",
       "      <td>P0A6V3</td>\n",
       "      <td>-0.083714</td>\n",
       "      <td>0.005133</td>\n",
       "      <td>0.030848</td>\n",
       "      <td>0.019758</td>\n",
       "      <td>-0.052391</td>\n",
       "      <td>0.025399</td>\n",
       "      <td>-0.003676</td>\n",
       "      <td>0.003147</td>\n",
       "      <td>-0.031114</td>\n",
       "      <td>...</td>\n",
       "      <td>-0.016008</td>\n",
       "      <td>-0.083440</td>\n",
       "      <td>-0.017645</td>\n",
       "      <td>0.062802</td>\n",
       "      <td>0.001200</td>\n",
       "      <td>0.109981</td>\n",
       "      <td>0.028567</td>\n",
       "      <td>0.001691</td>\n",
       "      <td>-0.028847</td>\n",
       "      <td>0.068695</td>\n",
       "    </tr>\n",
       "    <tr>\n",
       "      <th>1</th>\n",
       "      <td>P0AEE5</td>\n",
       "      <td>-0.173797</td>\n",
       "      <td>0.002517</td>\n",
       "      <td>0.027010</td>\n",
       "      <td>0.029303</td>\n",
       "      <td>-0.010111</td>\n",
       "      <td>0.067154</td>\n",
       "      <td>0.016163</td>\n",
       "      <td>0.037110</td>\n",
       "      <td>-0.033415</td>\n",
       "      <td>...</td>\n",
       "      <td>0.007333</td>\n",
       "      <td>-0.102797</td>\n",
       "      <td>-0.023060</td>\n",
       "      <td>0.076121</td>\n",
       "      <td>0.044377</td>\n",
       "      <td>0.104551</td>\n",
       "      <td>0.021937</td>\n",
       "      <td>-0.000274</td>\n",
       "      <td>0.051581</td>\n",
       "      <td>0.093139</td>\n",
       "    </tr>\n",
       "    <tr>\n",
       "      <th>2</th>\n",
       "      <td>P01508</td>\n",
       "      <td>-0.202491</td>\n",
       "      <td>-0.003329</td>\n",
       "      <td>-0.018311</td>\n",
       "      <td>-0.001395</td>\n",
       "      <td>-0.037488</td>\n",
       "      <td>-0.142075</td>\n",
       "      <td>0.008514</td>\n",
       "      <td>0.031612</td>\n",
       "      <td>-0.018615</td>\n",
       "      <td>...</td>\n",
       "      <td>0.051290</td>\n",
       "      <td>-0.127064</td>\n",
       "      <td>0.013276</td>\n",
       "      <td>0.049693</td>\n",
       "      <td>0.068135</td>\n",
       "      <td>0.113995</td>\n",
       "      <td>0.021024</td>\n",
       "      <td>0.005433</td>\n",
       "      <td>-0.097443</td>\n",
       "      <td>0.135079</td>\n",
       "    </tr>\n",
       "    <tr>\n",
       "      <th>3</th>\n",
       "      <td>P01936</td>\n",
       "      <td>-0.181227</td>\n",
       "      <td>0.002400</td>\n",
       "      <td>0.025886</td>\n",
       "      <td>0.033929</td>\n",
       "      <td>-0.007706</td>\n",
       "      <td>-0.010443</td>\n",
       "      <td>0.038471</td>\n",
       "      <td>0.053604</td>\n",
       "      <td>0.004288</td>\n",
       "      <td>...</td>\n",
       "      <td>0.051255</td>\n",
       "      <td>-0.125306</td>\n",
       "      <td>-0.003652</td>\n",
       "      <td>0.063140</td>\n",
       "      <td>0.039054</td>\n",
       "      <td>0.106840</td>\n",
       "      <td>0.017322</td>\n",
       "      <td>0.005568</td>\n",
       "      <td>0.016057</td>\n",
       "      <td>0.076521</td>\n",
       "    </tr>\n",
       "    <tr>\n",
       "      <th>4</th>\n",
       "      <td>P01949</td>\n",
       "      <td>-0.163552</td>\n",
       "      <td>0.001912</td>\n",
       "      <td>0.024957</td>\n",
       "      <td>0.034715</td>\n",
       "      <td>-0.003451</td>\n",
       "      <td>-0.003466</td>\n",
       "      <td>0.028878</td>\n",
       "      <td>0.101189</td>\n",
       "      <td>0.006893</td>\n",
       "      <td>...</td>\n",
       "      <td>0.051574</td>\n",
       "      <td>-0.116994</td>\n",
       "      <td>-0.003302</td>\n",
       "      <td>0.069067</td>\n",
       "      <td>0.044195</td>\n",
       "      <td>0.108148</td>\n",
       "      <td>0.009724</td>\n",
       "      <td>0.007866</td>\n",
       "      <td>0.023943</td>\n",
       "      <td>0.072685</td>\n",
       "    </tr>\n",
       "    <tr>\n",
       "      <th>...</th>\n",
       "      <td>...</td>\n",
       "      <td>...</td>\n",
       "      <td>...</td>\n",
       "      <td>...</td>\n",
       "      <td>...</td>\n",
       "      <td>...</td>\n",
       "      <td>...</td>\n",
       "      <td>...</td>\n",
       "      <td>...</td>\n",
       "      <td>...</td>\n",
       "      <td>...</td>\n",
       "      <td>...</td>\n",
       "      <td>...</td>\n",
       "      <td>...</td>\n",
       "      <td>...</td>\n",
       "      <td>...</td>\n",
       "      <td>...</td>\n",
       "      <td>...</td>\n",
       "      <td>...</td>\n",
       "      <td>...</td>\n",
       "      <td>...</td>\n",
       "    </tr>\n",
       "    <tr>\n",
       "      <th>477257</th>\n",
       "      <td>C0HLS6</td>\n",
       "      <td>-0.217145</td>\n",
       "      <td>0.035837</td>\n",
       "      <td>-0.023007</td>\n",
       "      <td>0.004089</td>\n",
       "      <td>-0.027746</td>\n",
       "      <td>-0.181881</td>\n",
       "      <td>0.028747</td>\n",
       "      <td>-0.001439</td>\n",
       "      <td>-0.035573</td>\n",
       "      <td>...</td>\n",
       "      <td>0.069679</td>\n",
       "      <td>-0.115121</td>\n",
       "      <td>0.003409</td>\n",
       "      <td>0.066552</td>\n",
       "      <td>0.014156</td>\n",
       "      <td>0.169604</td>\n",
       "      <td>0.022391</td>\n",
       "      <td>0.000741</td>\n",
       "      <td>-0.065113</td>\n",
       "      <td>0.126902</td>\n",
       "    </tr>\n",
       "    <tr>\n",
       "      <th>477258</th>\n",
       "      <td>A0A0D1BUH6</td>\n",
       "      <td>-0.077459</td>\n",
       "      <td>0.000840</td>\n",
       "      <td>0.011526</td>\n",
       "      <td>0.009182</td>\n",
       "      <td>-0.024317</td>\n",
       "      <td>0.026610</td>\n",
       "      <td>-0.019136</td>\n",
       "      <td>-0.032119</td>\n",
       "      <td>-0.009435</td>\n",
       "      <td>...</td>\n",
       "      <td>-0.005582</td>\n",
       "      <td>-0.076323</td>\n",
       "      <td>-0.004898</td>\n",
       "      <td>0.034576</td>\n",
       "      <td>0.024867</td>\n",
       "      <td>0.025274</td>\n",
       "      <td>0.009874</td>\n",
       "      <td>0.001545</td>\n",
       "      <td>-0.032846</td>\n",
       "      <td>0.019942</td>\n",
       "    </tr>\n",
       "    <tr>\n",
       "      <th>477259</th>\n",
       "      <td>D0LHE5</td>\n",
       "      <td>-0.174094</td>\n",
       "      <td>0.009709</td>\n",
       "      <td>0.023257</td>\n",
       "      <td>0.016269</td>\n",
       "      <td>-0.000720</td>\n",
       "      <td>0.104040</td>\n",
       "      <td>-0.035836</td>\n",
       "      <td>-0.070802</td>\n",
       "      <td>-0.005294</td>\n",
       "      <td>...</td>\n",
       "      <td>0.002129</td>\n",
       "      <td>-0.071617</td>\n",
       "      <td>-0.032393</td>\n",
       "      <td>0.064785</td>\n",
       "      <td>-0.002218</td>\n",
       "      <td>0.110696</td>\n",
       "      <td>0.005110</td>\n",
       "      <td>0.008968</td>\n",
       "      <td>0.056669</td>\n",
       "      <td>0.051867</td>\n",
       "    </tr>\n",
       "    <tr>\n",
       "      <th>477260</th>\n",
       "      <td>P0DUN4</td>\n",
       "      <td>-0.168995</td>\n",
       "      <td>0.034663</td>\n",
       "      <td>0.017448</td>\n",
       "      <td>0.022124</td>\n",
       "      <td>-0.004571</td>\n",
       "      <td>0.073529</td>\n",
       "      <td>0.010942</td>\n",
       "      <td>0.056266</td>\n",
       "      <td>-0.009900</td>\n",
       "      <td>...</td>\n",
       "      <td>0.043128</td>\n",
       "      <td>-0.082297</td>\n",
       "      <td>-0.020699</td>\n",
       "      <td>0.056861</td>\n",
       "      <td>0.015562</td>\n",
       "      <td>0.130053</td>\n",
       "      <td>0.015234</td>\n",
       "      <td>0.004304</td>\n",
       "      <td>0.047166</td>\n",
       "      <td>0.060338</td>\n",
       "    </tr>\n",
       "    <tr>\n",
       "      <th>477261</th>\n",
       "      <td>P72781</td>\n",
       "      <td>-0.212125</td>\n",
       "      <td>-0.005353</td>\n",
       "      <td>0.014250</td>\n",
       "      <td>0.023785</td>\n",
       "      <td>0.010567</td>\n",
       "      <td>-0.038498</td>\n",
       "      <td>0.052916</td>\n",
       "      <td>0.015503</td>\n",
       "      <td>-0.024829</td>\n",
       "      <td>...</td>\n",
       "      <td>0.037572</td>\n",
       "      <td>-0.092974</td>\n",
       "      <td>-0.037272</td>\n",
       "      <td>0.075427</td>\n",
       "      <td>-0.001281</td>\n",
       "      <td>0.059612</td>\n",
       "      <td>0.032092</td>\n",
       "      <td>0.007434</td>\n",
       "      <td>0.020105</td>\n",
       "      <td>0.086929</td>\n",
       "    </tr>\n",
       "  </tbody>\n",
       "</table>\n",
       "<p>477262 rows × 1281 columns</p>\n",
       "</div>"
      ],
      "text/plain": [
       "                id        f1        f2        f3        f4        f5  \\\n",
       "0           P0A6V3 -0.083714  0.005133  0.030848  0.019758 -0.052391   \n",
       "1           P0AEE5 -0.173797  0.002517  0.027010  0.029303 -0.010111   \n",
       "2           P01508 -0.202491 -0.003329 -0.018311 -0.001395 -0.037488   \n",
       "3           P01936 -0.181227  0.002400  0.025886  0.033929 -0.007706   \n",
       "4           P01949 -0.163552  0.001912  0.024957  0.034715 -0.003451   \n",
       "...            ...       ...       ...       ...       ...       ...   \n",
       "477257      C0HLS6 -0.217145  0.035837 -0.023007  0.004089 -0.027746   \n",
       "477258  A0A0D1BUH6 -0.077459  0.000840  0.011526  0.009182 -0.024317   \n",
       "477259      D0LHE5 -0.174094  0.009709  0.023257  0.016269 -0.000720   \n",
       "477260      P0DUN4 -0.168995  0.034663  0.017448  0.022124 -0.004571   \n",
       "477261      P72781 -0.212125 -0.005353  0.014250  0.023785  0.010567   \n",
       "\n",
       "              f6        f7        f8        f9  ...     f1271     f1272  \\\n",
       "0       0.025399 -0.003676  0.003147 -0.031114  ... -0.016008 -0.083440   \n",
       "1       0.067154  0.016163  0.037110 -0.033415  ...  0.007333 -0.102797   \n",
       "2      -0.142075  0.008514  0.031612 -0.018615  ...  0.051290 -0.127064   \n",
       "3      -0.010443  0.038471  0.053604  0.004288  ...  0.051255 -0.125306   \n",
       "4      -0.003466  0.028878  0.101189  0.006893  ...  0.051574 -0.116994   \n",
       "...          ...       ...       ...       ...  ...       ...       ...   \n",
       "477257 -0.181881  0.028747 -0.001439 -0.035573  ...  0.069679 -0.115121   \n",
       "477258  0.026610 -0.019136 -0.032119 -0.009435  ... -0.005582 -0.076323   \n",
       "477259  0.104040 -0.035836 -0.070802 -0.005294  ...  0.002129 -0.071617   \n",
       "477260  0.073529  0.010942  0.056266 -0.009900  ...  0.043128 -0.082297   \n",
       "477261 -0.038498  0.052916  0.015503 -0.024829  ...  0.037572 -0.092974   \n",
       "\n",
       "           f1273     f1274     f1275     f1276     f1277     f1278     f1279  \\\n",
       "0      -0.017645  0.062802  0.001200  0.109981  0.028567  0.001691 -0.028847   \n",
       "1      -0.023060  0.076121  0.044377  0.104551  0.021937 -0.000274  0.051581   \n",
       "2       0.013276  0.049693  0.068135  0.113995  0.021024  0.005433 -0.097443   \n",
       "3      -0.003652  0.063140  0.039054  0.106840  0.017322  0.005568  0.016057   \n",
       "4      -0.003302  0.069067  0.044195  0.108148  0.009724  0.007866  0.023943   \n",
       "...          ...       ...       ...       ...       ...       ...       ...   \n",
       "477257  0.003409  0.066552  0.014156  0.169604  0.022391  0.000741 -0.065113   \n",
       "477258 -0.004898  0.034576  0.024867  0.025274  0.009874  0.001545 -0.032846   \n",
       "477259 -0.032393  0.064785 -0.002218  0.110696  0.005110  0.008968  0.056669   \n",
       "477260 -0.020699  0.056861  0.015562  0.130053  0.015234  0.004304  0.047166   \n",
       "477261 -0.037272  0.075427 -0.001281  0.059612  0.032092  0.007434  0.020105   \n",
       "\n",
       "           f1280  \n",
       "0       0.068695  \n",
       "1       0.093139  \n",
       "2       0.135079  \n",
       "3       0.076521  \n",
       "4       0.072685  \n",
       "...          ...  \n",
       "477257  0.126902  \n",
       "477258  0.019942  \n",
       "477259  0.051867  \n",
       "477260  0.060338  \n",
       "477261  0.086929  \n",
       "\n",
       "[477262 rows x 1281 columns]"
      ]
     },
     "execution_count": 22,
     "metadata": {},
     "output_type": "execute_result"
    }
   ],
   "source": [
    "existing"
   ]
  },
  {
   "cell_type": "markdown",
   "id": "b308e065-d78e-4c12-9240-a37defcc1ed3",
   "metadata": {},
   "source": [
    "### 6.6 ESM embedding "
   ]
  },
  {
   "cell_type": "code",
   "execution_count": 2,
   "id": "fce624e8-d909-42cb-9073-87851c8d2baa",
   "metadata": {},
   "outputs": [],
   "source": [
    "train= pd.read_feather(cfg.DATADIR + 'sprot_latest.feature')"
   ]
  },
  {
   "cell_type": "code",
   "execution_count": 3,
   "id": "80a11a0a-7b83-4c7f-a2b8-ede6953cdae9",
   "metadata": {},
   "outputs": [
    {
     "name": "stdout",
     "output_type": "stream",
     "text": [
      "Transferred model to GPU\n"
     ]
    },
    {
     "name": "stderr",
     "output_type": "stream",
     "text": [
      "100%|█████████████████████████████████████████████████████████████████████████████████████████████| 477917/477917 [6:50:07<00:00, 19.42it/s]\n"
     ]
    }
   ],
   "source": [
    "# !pip install fair-esm\n",
    "tr_rep0, tr_rep32, tr_rep33 = esmebd.get_rep_multi_sequence(sequences=train, model='esm1b_t33_650M_UR50S',seqthres=1022)\n",
    "tr_rep0.to_feather(cfg.DATADIR + 'sprot_latest_rep0.feather')\n",
    "tr_rep32.to_feather(cfg.DATADIR + 'sprot_latest_rep32.feather')\n",
    "tr_rep33.to_feather(cfg.DATADIR + 'sprot_latest_rep33.feather')"
   ]
  },
  {
   "cell_type": "markdown",
   "id": "ba25666b-7ec0-489f-bac4-a56cd03ff730",
   "metadata": {},
   "source": [
    "### 6.7 Unirep embedding"
   ]
  },
  {
   "cell_type": "code",
   "execution_count": 5,
   "id": "f933a86a-d52e-49a7-931e-02bfadfd6dae",
   "metadata": {},
   "outputs": [
    {
     "name": "stderr",
     "output_type": "stream",
     "text": [
      "100%|███████████████████████████████████████████████████████████████████████████████████████████████████████████████████████████████████████| 2387/2387 [67:02:55<00:00, 101.12s/it]"
     ]
    },
    {
     "name": "stdout",
     "output_type": "stream",
     "text": [
      "length not match\n"
     ]
    },
    {
     "name": "stderr",
     "output_type": "stream",
     "text": [
      "\n"
     ]
    }
   ],
   "source": [
    "tr_unirep = unirep.getunirep(train, 200)\n",
    "tr_unirep.to_feather(cfg.DATADIR + 'sprot_latest_unirep.feather')"
   ]
  },
  {
   "cell_type": "markdown",
   "id": "cc38ac17-51d7-4025-8d79-88e972e45f91",
   "metadata": {},
   "source": [
    "## 7. Build benchmarking datasets\n",
    "### 7.1 Task 1 isEnzyme"
   ]
  },
  {
   "cell_type": "code",
   "execution_count": 15,
   "id": "a84e607d-6882-4a78-95f4-f58327a7bcea",
   "metadata": {},
   "outputs": [],
   "source": [
    "task1_train = train.iloc[:,np.r_[0,7,1]]\n",
    "task1_test = test.iloc[:,np.r_[0,7,1]]\n",
    "\n",
    "task1_train.to_feather(cfg.DATADIR + 'task1/train.feather')\n",
    "task1_test.to_feather(cfg.DATADIR + 'task1/test.feather')"
   ]
  },
  {
   "cell_type": "markdown",
   "id": "57df6c39-3f5b-4253-9578-1a206439b05e",
   "metadata": {},
   "source": [
    "### 7.2 Task2 Function Counts"
   ]
  },
  {
   "cell_type": "code",
   "execution_count": 16,
   "id": "d7a4222b-0bc4-47a5-9434-85b9249c0436",
   "metadata": {},
   "outputs": [],
   "source": [
    "task2_train = train[train.functionCounts >0]\n",
    "task2_train.reset_index(drop=True, inplace=True)\n",
    "task2_train = task2_train.iloc[:,np.r_[0,7,3]]\n",
    "\n",
    "task2_test = test[test.functionCounts >0]\n",
    "task2_test.reset_index(drop=True, inplace=True)\n",
    "task2_test = task2_test.iloc[:,np.r_[0,7,3]]\n",
    "\n",
    "task2_train.to_feather(cfg.DATADIR + 'task2/train.feather')\n",
    "task2_test.to_feather(cfg.DATADIR + 'task2/test.feather')\n"
   ]
  },
  {
   "cell_type": "markdown",
   "id": "6b2bd772-ccb4-412f-88df-8028cb94a1f8",
   "metadata": {},
   "source": [
    "### 7.3 Task3 EC Number"
   ]
  },
  {
   "cell_type": "code",
   "execution_count": 13,
   "id": "795f1d55-bc3f-43eb-adba-fd07d98373cf",
   "metadata": {},
   "outputs": [],
   "source": [
    "task3_train = train[train.functionCounts >0]\n",
    "task3_train.reset_index(drop=True, inplace=True)\n",
    "task3_train = task3_train.iloc[:,np.r_[0,7,4]]\n",
    "\n",
    "task3_test = test[test.functionCounts >0]\n",
    "task3_test.reset_index(drop=True, inplace=True)\n",
    "task3_test = task3_test.iloc[:,np.r_[0,7,4]]\n",
    "\n",
    "task3_train.to_feather(cfg.DATADIR + 'task3/train.feather')\n",
    "task3_test.to_feather(cfg.DATADIR + 'task3/test.feather')\n"
   ]
  },
  {
   "cell_type": "code",
   "execution_count": null,
   "id": "2c52f157-8447-4a53-a4e1-e1a076e39119",
   "metadata": {},
   "outputs": [],
   "source": []
  }
 ],
 "metadata": {
  "kernelspec": {
   "display_name": "py38",
   "language": "python",
   "name": "py38"
  },
  "language_info": {
   "codemirror_mode": {
    "name": "ipython",
    "version": 3
   },
   "file_extension": ".py",
   "mimetype": "text/x-python",
   "name": "python",
   "nbconvert_exporter": "python",
   "pygments_lexer": "ipython3",
   "version": "3.7.10"
  },
  "toc-autonumbering": false,
  "toc-showmarkdowntxt": false,
  "toc-showtags": false,
  "widgets": {
   "application/vnd.jupyter.widget-state+json": {
    "state": {},
    "version_major": 2,
    "version_minor": 0
   }
  }
 },
 "nbformat": 4,
 "nbformat_minor": 5
}
