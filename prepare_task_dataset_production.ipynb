{
 "cells": [
  {
   "cell_type": "markdown",
   "id": "2287d9df-a1b8-4fc7-8373-01ab1721225d",
   "metadata": {},
   "source": [
    "# Construct Datasets for benchmarking tasks\n",
    "\n",
    "> author: Shizhenkun   \n",
    "> email: zhenkun.shi@tib.cas.cn   \n",
    "> date: 2021-10-08  \n",
    "\n",
    "## Dataset1. Enzyme None-enzyme Dataset\n",
    "The enzyme dataset is consists of two parts: a training set and a testing set. The training set is from snapshot Feb-2018 and excludes those deleted items in snapshot Jun-2020. The training set is consists of 467,973 records, of which 222,290 are enzymes, and 245,683 are not enzymes. The testing set is from snapshot Jun-2020 and excludes these items that appeared in snapshot Feb-2018. The testing set is consists of 8033 records, of which 3579 are enzymes, and 4454 are not-enzymes. Unlike previous works,  we did not filter any sequences in terms of length and homology to make the data more inclusive. We make a label for each sequence, 1 for enzyme and 0 for not-enzyme. \n",
    "\n",
    "## Dataset2. Enzyme Quantity Dataset\n",
    "The enzyme quantity dataset only contains enzyme data, contain 13,108 records. The function quantity ranges from 2 to 10.\n",
    "\n",
    "## Dataset 3: EC number Dataset\n",
    "\n",
    "Similar to the enzyme quantity dataset, the EC number dataset is consists of 225,221 enzyme records, 221,642 are training-set, and the rest 3579 are testing-set, covering 4852 EC numbers. Up to Feb 2020, there still exist 267 EC numbers that the model can not handle in the benchmarking. Thus, we exclude the sequences with these 267 EC numbers in the evaluation process. But, this problem can be resolved in the production scenario because we use the entire data from Swiss-Prot. Now the EC coverage is 5307 and can be automatically extended, for the training is real-time based on the publication of Swiss-Prot every 8 weeks. "
   ]
  },
  {
   "cell_type": "markdown",
   "id": "6c6db9dd-5c89-423e-8131-b2e5b4c01618",
   "metadata": {},
   "source": [
    "## 1. Import packages"
   ]
  },
  {
   "cell_type": "code",
   "execution_count": 1,
   "id": "8fd276ba-aec4-4edf-a2d1-682a15233476",
   "metadata": {
    "tags": []
   },
   "outputs": [
    {
     "name": "stdout",
     "output_type": "stream",
     "text": [
      "INFO: Pandarallel will run on 80 workers.\n",
      "INFO: Pandarallel will use Memory file system to transfer data between the main process and workers.\n"
     ]
    }
   ],
   "source": [
    "import numpy as np\n",
    "import pandas as pd\n",
    "\n",
    "import os\n",
    "import re\n",
    "import time\n",
    "import datetime\n",
    "import sys\n",
    "from tqdm import tqdm\n",
    "import config as cfg\n",
    "from functools import reduce\n",
    "import matplotlib.pyplot as plt\n",
    "\n",
    "sys.path.append(\"./tools/\")\n",
    "import exact_ec_from_uniprot as exactec\n",
    "import minitools as mtool\n",
    "import embedding_esm as esmebd\n",
    "import embedding_unirep as unirep\n",
    "\n",
    "from pandarallel import pandarallel # 导入pandaralle\n",
    "pandarallel.initialize() # 初始化该这个b...并行库\n",
    "\n",
    "\n",
    "%load_ext autoreload\n",
    "%autoreload 2"
   ]
  },
  {
   "cell_type": "markdown",
   "id": "50dbdc9d-92cc-4281-be25-95e37097f43f",
   "metadata": {},
   "source": [
    "## 2. Define Functions"
   ]
  },
  {
   "cell_type": "code",
   "execution_count": 3,
   "id": "0da378c0-edf0-45b0-8aaa-e909dae794f2",
   "metadata": {
    "tags": []
   },
   "outputs": [],
   "source": [
    "# install axel for download dataset\n",
    "def install_axel():\n",
    "    isExists = !which axel\n",
    "    if 'axel' in str(isExists[0]):\n",
    "        return True\n",
    "    else:\n",
    "        !sudo apt install axel -y\n",
    "\n",
    "# add missing '-' for ec number\n",
    "def refill_ec(ec):   \n",
    "    if ec == '-':\n",
    "        return ec\n",
    "    levelArray = ec.split('.')\n",
    "    if  levelArray[3]=='':\n",
    "        levelArray[3] ='-'\n",
    "    ec = '.'.join(levelArray)\n",
    "    return ec\n",
    "\n",
    "def specific_ecs(ecstr):\n",
    "    if '-' not in ecstr or len(ecstr)<4:\n",
    "        return ecstr\n",
    "    ecs = ecstr.split(',')\n",
    "    if len(ecs)==1:\n",
    "        return ecstr\n",
    "    \n",
    "    reslist=[]\n",
    "    \n",
    "    for ec in ecs:\n",
    "        recs = ecs.copy()\n",
    "        recs.remove(ec)\n",
    "        ecarray = np.array([x.split('.') for x in recs])\n",
    "        \n",
    "        if '-' not in ec:\n",
    "            reslist +=[ec]\n",
    "            continue\n",
    "        linearray= ec.split('.')\n",
    "        if linearray[1] == '-':\n",
    "            #l1 in l1s and l2 not empty\n",
    "            if (linearray[0] in  ecarray[:,0]) and (len(set(ecarray[:,0]) - set({'-'}))>0):\n",
    "                continue\n",
    "        if linearray[2] == '-':\n",
    "            # l1, l2 in l1s l2s, l3 not empty\n",
    "            if (linearray[0] in  ecarray[:,0]) and (linearray[1] in  ecarray[:,1]) and (len(set(ecarray[:,2]) - set({'-'}))>0):\n",
    "                continue\n",
    "        if linearray[3] == '-':\n",
    "            # l1, l2, l3 in l1s l2s l3s, l4 not empty\n",
    "            if (linearray[0] in  ecarray[:,0]) and (linearray[1] in  ecarray[:,1]) and (linearray[2] in  ecarray[:,2]) and (len(set(ecarray[:,3]) - set({'-'}))>0):\n",
    "                continue\n",
    "                \n",
    "        reslist +=[ec]\n",
    "    return ','.join(reslist)\n",
    "\n",
    "#format ec\n",
    "def format_ec(ecstr):\n",
    "    ecArray= ecstr.split(',')\n",
    "    ecArray=[x.strip() for x in ecArray] #strip blank\n",
    "    ecArray=[refill_ec(x) for x in ecArray] #format ec to full\n",
    "    ecArray = list(set(ecArray)) # remove duplicates\n",
    "    \n",
    "    return ','.join(ecArray)"
   ]
  },
  {
   "cell_type": "markdown",
   "id": "901557a4-c496-4608-84e2-3306f6a322e3",
   "metadata": {},
   "source": [
    "## 3. Download rawdata from unisprot"
   ]
  },
  {
   "cell_type": "code",
   "execution_count": 6,
   "id": "243413dd-4ce6-40ea-a441-34b313aab6dc",
   "metadata": {
    "tags": []
   },
   "outputs": [],
   "source": [
    "# download location ./tmp\n",
    "install_axel()\n",
    "!axel -n 10 https://ftp.uniprot.org/pub/databases/uniprot/current_release/knowledgebase/complete/uniprot_sprot.dat.gz -o ./data/uniprot_sprot_latest.dat.gz -q -c"
   ]
  },
  {
   "cell_type": "markdown",
   "id": "c10cb9c0-94bc-4525-9795-1b818a977c69",
   "metadata": {},
   "source": [
    "## 4. Extract records from rawdata"
   ]
  },
  {
   "cell_type": "code",
   "execution_count": 5,
   "id": "eb6f3dd8-577a-4a13-b3dd-2d3c860c46ad",
   "metadata": {
    "collapsed": true,
    "jupyter": {
     "outputs_hidden": true
    },
    "tags": []
   },
   "outputs": [
    {
     "name": "stdout",
     "output_type": "stream",
     "text": [
      "uniprot_sprot.dat.gz\n",
      "uniprot_sprot.fasta.gz\n",
      "uniprot_sprot_varsplic.fasta.gz\n",
      "uniprot_sprot.xml.gz\n",
      "uniprot_sprot.dat.gz\n",
      "uniprot_sprot.fasta.gz\n",
      "uniprot_sprot_varsplic.fasta.gz\n",
      "uniprot_sprot.xml.gz\n"
     ]
    }
   ],
   "source": [
    "# 2018 data\n",
    "! tar -zxvf ./tmp/uniprot_sprot-only2018_02.tar.gz -C ./tmp/\n",
    "! mv ./tmp/uniprot_sprot.dat.gz ./tmp/sprot2018.data.gz\n",
    "! rm -rf ./tmp/*.fasta.gz ./tmp/*.xml.gz\n",
    "\n",
    "# 2020 data\n",
    "! tar -zxvf ./tmp/uniprot_sprot-only2020_06.tar.gz -C ./tmp/\n",
    "! mv ./tmp/uniprot_sprot.dat.gz ./tmp/sprot2020.data.gz\n",
    "! rm -rf ./tmp/*.fasta.gz ./tmp/*.xml.gz"
   ]
  },
  {
   "cell_type": "code",
   "execution_count": 7,
   "id": "616bc8ba-6902-4b66-884a-fce91b6041bb",
   "metadata": {
    "tags": []
   },
   "outputs": [
    {
     "name": "stderr",
     "output_type": "stream",
     "text": [
      "565254it [04:38, 2032.46it/s]"
     ]
    },
    {
     "name": "stdout",
     "output_type": "stream",
     "text": [
      "finished use time 277.883 s\n"
     ]
    },
    {
     "name": "stderr",
     "output_type": "stream",
     "text": [
      "\n"
     ]
    }
   ],
   "source": [
    "exactec.run_exact_task(infile=cfg.DATADIR+'uniprot_sprot_latest.dat.gz', outfile=cfg.DATADIR+'sprot_latest.tsv')"
   ]
  },
  {
   "cell_type": "markdown",
   "id": "b3339787-1f45-426c-8163-e2015a746088",
   "metadata": {},
   "source": [
    "## 5. Load records"
   ]
  },
  {
   "cell_type": "code",
   "execution_count": 10,
   "id": "06b09799-fb74-4967-b764-10e6e6de375c",
   "metadata": {
    "tags": []
   },
   "outputs": [],
   "source": [
    "#加载数据并转换时间格式\n",
    "sprot_latest = pd.read_csv(cfg.DATADIR+'sprot_latest.tsv', sep='\\t',header=0) #读入文件\n",
    "sprot_latest = mtool.convert_DF_dateTime(inputdf = sprot_latest)"
   ]
  },
  {
   "cell_type": "markdown",
   "id": "4b0f9da8-aad5-40aa-bb31-3fef682bd971",
   "metadata": {},
   "source": [
    "## 6. Preprocessing\n",
    "### 6.1 Drop Duplicates"
   ]
  },
  {
   "cell_type": "code",
   "execution_count": 12,
   "id": "60c0be33-eb18-486e-993c-24e3a54484cd",
   "metadata": {},
   "outputs": [],
   "source": [
    "sprot_latest.drop_duplicates(subset=['seq'], keep='first', inplace=True)\n",
    "sprot_latest.reset_index(drop=True, inplace=True)\n"
   ]
  },
  {
   "cell_type": "markdown",
   "id": "2f5d3639-7149-4ca1-b837-239554a21733",
   "metadata": {},
   "source": [
    "### 6.2 format EC"
   ]
  },
  {
   "cell_type": "code",
   "execution_count": 13,
   "id": "1f90d9b3-f19d-4767-8d78-d54605b49971",
   "metadata": {},
   "outputs": [],
   "source": [
    "#sprot_latest\n",
    "sprot_latest['ec_number'] = sprot_latest.ec_number.parallel_apply(lambda x: format_ec(x))\n",
    "sprot_latest['ec_number'] = sprot_latest.ec_number.parallel_apply(lambda x: specific_ecs(x))\n",
    "sprot_latest['functionCounts'] = sprot_latest.ec_number.parallel_apply(lambda x: 0 if x=='-'  else len(x.split(',')))"
   ]
  },
  {
   "cell_type": "code",
   "execution_count": 14,
   "id": "6d72500a-09e7-427c-b184-5f1c337ca247",
   "metadata": {},
   "outputs": [
    {
     "data": {
      "text/html": [
       "<div>\n",
       "<style scoped>\n",
       "    .dataframe tbody tr th:only-of-type {\n",
       "        vertical-align: middle;\n",
       "    }\n",
       "\n",
       "    .dataframe tbody tr th {\n",
       "        vertical-align: top;\n",
       "    }\n",
       "\n",
       "    .dataframe thead th {\n",
       "        text-align: right;\n",
       "    }\n",
       "</style>\n",
       "<table border=\"1\" class=\"dataframe\">\n",
       "  <thead>\n",
       "    <tr style=\"text-align: right;\">\n",
       "      <th></th>\n",
       "      <th>id</th>\n",
       "      <th>name</th>\n",
       "      <th>isenzyme</th>\n",
       "      <th>isMultiFunctional</th>\n",
       "      <th>functionCounts</th>\n",
       "      <th>ec_number</th>\n",
       "      <th>ec_specific_level</th>\n",
       "      <th>date_integraged</th>\n",
       "      <th>date_sequence_update</th>\n",
       "      <th>date_annotation_update</th>\n",
       "      <th>seq</th>\n",
       "      <th>seqlength</th>\n",
       "    </tr>\n",
       "  </thead>\n",
       "  <tbody>\n",
       "    <tr>\n",
       "      <th>0</th>\n",
       "      <td>P0A6V3</td>\n",
       "      <td>GLGC_ECO57</td>\n",
       "      <td>True</td>\n",
       "      <td>False</td>\n",
       "      <td>1</td>\n",
       "      <td>2.7.7.27</td>\n",
       "      <td>4</td>\n",
       "      <td>1986-07-21</td>\n",
       "      <td>2007-01-23</td>\n",
       "      <td>2021-06-02</td>\n",
       "      <td>MVSLEKNDHLMLARQLPLKSVALILAGGRGTRLKDLTNKRAKPAVH...</td>\n",
       "      <td>431</td>\n",
       "    </tr>\n",
       "    <tr>\n",
       "      <th>1</th>\n",
       "      <td>P0AEE5</td>\n",
       "      <td>DGAL_ECOLI</td>\n",
       "      <td>False</td>\n",
       "      <td>False</td>\n",
       "      <td>0</td>\n",
       "      <td>-</td>\n",
       "      <td>0</td>\n",
       "      <td>1986-07-21</td>\n",
       "      <td>1987-08-13</td>\n",
       "      <td>2021-06-02</td>\n",
       "      <td>MNKKVLTLSAVMASMLFGAAAHAADTRIGVTIYKYDDNFMSVVRKA...</td>\n",
       "      <td>332</td>\n",
       "    </tr>\n",
       "    <tr>\n",
       "      <th>2</th>\n",
       "      <td>P01508</td>\n",
       "      <td>CECB_HYACE</td>\n",
       "      <td>False</td>\n",
       "      <td>False</td>\n",
       "      <td>0</td>\n",
       "      <td>-</td>\n",
       "      <td>0</td>\n",
       "      <td>1986-07-21</td>\n",
       "      <td>1987-08-13</td>\n",
       "      <td>2021-06-02</td>\n",
       "      <td>MNFSRIFFFVFALVLALSTVSAAPEPKWKVFKKIEKMGRNIRNGIV...</td>\n",
       "      <td>62</td>\n",
       "    </tr>\n",
       "    <tr>\n",
       "      <th>3</th>\n",
       "      <td>P01936</td>\n",
       "      <td>HBA_EULFU</td>\n",
       "      <td>False</td>\n",
       "      <td>False</td>\n",
       "      <td>0</td>\n",
       "      <td>-</td>\n",
       "      <td>0</td>\n",
       "      <td>1986-07-21</td>\n",
       "      <td>1986-07-21</td>\n",
       "      <td>2021-04-07</td>\n",
       "      <td>VLSPADKTNVKTAWNAVGGQAGEHGAEALERMFLSFPTTKTYFPHF...</td>\n",
       "      <td>141</td>\n",
       "    </tr>\n",
       "    <tr>\n",
       "      <th>4</th>\n",
       "      <td>P01949</td>\n",
       "      <td>HBA_ERIEU</td>\n",
       "      <td>False</td>\n",
       "      <td>False</td>\n",
       "      <td>0</td>\n",
       "      <td>-</td>\n",
       "      <td>0</td>\n",
       "      <td>1986-07-21</td>\n",
       "      <td>1986-07-21</td>\n",
       "      <td>2021-04-07</td>\n",
       "      <td>VLSATDKANVKTFWGKLGGHGGEYGGEALDRMFQAHPTTKTYFPHF...</td>\n",
       "      <td>141</td>\n",
       "    </tr>\n",
       "    <tr>\n",
       "      <th>...</th>\n",
       "      <td>...</td>\n",
       "      <td>...</td>\n",
       "      <td>...</td>\n",
       "      <td>...</td>\n",
       "      <td>...</td>\n",
       "      <td>...</td>\n",
       "      <td>...</td>\n",
       "      <td>...</td>\n",
       "      <td>...</td>\n",
       "      <td>...</td>\n",
       "      <td>...</td>\n",
       "      <td>...</td>\n",
       "    </tr>\n",
       "    <tr>\n",
       "      <th>477257</th>\n",
       "      <td>C0HLS6</td>\n",
       "      <td>IBBA4_HYAOR</td>\n",
       "      <td>False</td>\n",
       "      <td>False</td>\n",
       "      <td>0</td>\n",
       "      <td>-</td>\n",
       "      <td>0</td>\n",
       "      <td>2021-06-02</td>\n",
       "      <td>2021-06-02</td>\n",
       "      <td>2021-06-02</td>\n",
       "      <td>WPPVEGRPSCKRCGACTRMWPPEANRCVCDDIVPQCHEGCSKCEKV...</td>\n",
       "      <td>67</td>\n",
       "    </tr>\n",
       "    <tr>\n",
       "      <th>477258</th>\n",
       "      <td>A0A0D1BUH6</td>\n",
       "      <td>ATR1_USTMA</td>\n",
       "      <td>False</td>\n",
       "      <td>False</td>\n",
       "      <td>0</td>\n",
       "      <td>-</td>\n",
       "      <td>0</td>\n",
       "      <td>2021-06-02</td>\n",
       "      <td>2015-04-29</td>\n",
       "      <td>2021-06-02</td>\n",
       "      <td>MRFRSDSRADHQHPKKQGSMDPDTIQALKYQDRSSSSSSNNKPKEK...</td>\n",
       "      <td>1382</td>\n",
       "    </tr>\n",
       "    <tr>\n",
       "      <th>477259</th>\n",
       "      <td>D0LHE5</td>\n",
       "      <td>BMCP_HALO1</td>\n",
       "      <td>False</td>\n",
       "      <td>False</td>\n",
       "      <td>0</td>\n",
       "      <td>-</td>\n",
       "      <td>0</td>\n",
       "      <td>2021-06-02</td>\n",
       "      <td>2009-12-15</td>\n",
       "      <td>2021-06-02</td>\n",
       "      <td>MVLGKVVGTVVASRKEPRIEGLSLLLVRACDPDGTPTGGAVVCADA...</td>\n",
       "      <td>96</td>\n",
       "    </tr>\n",
       "    <tr>\n",
       "      <th>477260</th>\n",
       "      <td>P0DUN4</td>\n",
       "      <td>PA2A2_BOTBZ</td>\n",
       "      <td>True</td>\n",
       "      <td>False</td>\n",
       "      <td>1</td>\n",
       "      <td>3.1.1.4</td>\n",
       "      <td>4</td>\n",
       "      <td>2021-06-02</td>\n",
       "      <td>2021-06-02</td>\n",
       "      <td>2021-06-02</td>\n",
       "      <td>NLWQFEMLIMKIAKTSGFMFYSSYGCYCGWGGHGRPQDASDRCCFV...</td>\n",
       "      <td>92</td>\n",
       "    </tr>\n",
       "    <tr>\n",
       "      <th>477261</th>\n",
       "      <td>P72781</td>\n",
       "      <td>RRE1_SYNY3</td>\n",
       "      <td>False</td>\n",
       "      <td>False</td>\n",
       "      <td>0</td>\n",
       "      <td>-</td>\n",
       "      <td>0</td>\n",
       "      <td>2021-06-02</td>\n",
       "      <td>2021-06-02</td>\n",
       "      <td>2021-06-02</td>\n",
       "      <td>MAEPISLLLVDDEPGVRESVQAFLEDSGDFKVDLAANATEAWDYLQ...</td>\n",
       "      <td>231</td>\n",
       "    </tr>\n",
       "  </tbody>\n",
       "</table>\n",
       "<p>477262 rows × 12 columns</p>\n",
       "</div>"
      ],
      "text/plain": [
       "                id         name  isenzyme  isMultiFunctional  functionCounts  \\\n",
       "0           P0A6V3   GLGC_ECO57      True              False               1   \n",
       "1           P0AEE5   DGAL_ECOLI     False              False               0   \n",
       "2           P01508   CECB_HYACE     False              False               0   \n",
       "3           P01936    HBA_EULFU     False              False               0   \n",
       "4           P01949    HBA_ERIEU     False              False               0   \n",
       "...            ...          ...       ...                ...             ...   \n",
       "477257      C0HLS6  IBBA4_HYAOR     False              False               0   \n",
       "477258  A0A0D1BUH6   ATR1_USTMA     False              False               0   \n",
       "477259      D0LHE5   BMCP_HALO1     False              False               0   \n",
       "477260      P0DUN4  PA2A2_BOTBZ      True              False               1   \n",
       "477261      P72781   RRE1_SYNY3     False              False               0   \n",
       "\n",
       "       ec_number  ec_specific_level date_integraged date_sequence_update  \\\n",
       "0       2.7.7.27                  4      1986-07-21           2007-01-23   \n",
       "1              -                  0      1986-07-21           1987-08-13   \n",
       "2              -                  0      1986-07-21           1987-08-13   \n",
       "3              -                  0      1986-07-21           1986-07-21   \n",
       "4              -                  0      1986-07-21           1986-07-21   \n",
       "...          ...                ...             ...                  ...   \n",
       "477257         -                  0      2021-06-02           2021-06-02   \n",
       "477258         -                  0      2021-06-02           2015-04-29   \n",
       "477259         -                  0      2021-06-02           2009-12-15   \n",
       "477260   3.1.1.4                  4      2021-06-02           2021-06-02   \n",
       "477261         -                  0      2021-06-02           2021-06-02   \n",
       "\n",
       "       date_annotation_update  \\\n",
       "0                  2021-06-02   \n",
       "1                  2021-06-02   \n",
       "2                  2021-06-02   \n",
       "3                  2021-04-07   \n",
       "4                  2021-04-07   \n",
       "...                       ...   \n",
       "477257             2021-06-02   \n",
       "477258             2021-06-02   \n",
       "477259             2021-06-02   \n",
       "477260             2021-06-02   \n",
       "477261             2021-06-02   \n",
       "\n",
       "                                                      seq  seqlength  \n",
       "0       MVSLEKNDHLMLARQLPLKSVALILAGGRGTRLKDLTNKRAKPAVH...        431  \n",
       "1       MNKKVLTLSAVMASMLFGAAAHAADTRIGVTIYKYDDNFMSVVRKA...        332  \n",
       "2       MNFSRIFFFVFALVLALSTVSAAPEPKWKVFKKIEKMGRNIRNGIV...         62  \n",
       "3       VLSPADKTNVKTAWNAVGGQAGEHGAEALERMFLSFPTTKTYFPHF...        141  \n",
       "4       VLSATDKANVKTFWGKLGGHGGEYGGEALDRMFQAHPTTKTYFPHF...        141  \n",
       "...                                                   ...        ...  \n",
       "477257  WPPVEGRPSCKRCGACTRMWPPEANRCVCDDIVPQCHEGCSKCEKV...         67  \n",
       "477258  MRFRSDSRADHQHPKKQGSMDPDTIQALKYQDRSSSSSSNNKPKEK...       1382  \n",
       "477259  MVLGKVVGTVVASRKEPRIEGLSLLLVRACDPDGTPTGGAVVCADA...         96  \n",
       "477260  NLWQFEMLIMKIAKTSGFMFYSSYGCYCGWGGHGRPQDASDRCCFV...         92  \n",
       "477261  MAEPISLLLVDDEPGVRESVQAFLEDSGDFKVDLAANATEAWDYLQ...        231  \n",
       "\n",
       "[477262 rows x 12 columns]"
      ]
     },
     "execution_count": 14,
     "metadata": {},
     "output_type": "execute_result"
    }
   ],
   "source": [
    "sprot_latest"
   ]
  },
  {
   "cell_type": "markdown",
   "id": "39035c66-814a-43cc-84dc-38a6cecc56fb",
   "metadata": {},
   "source": [
    "### 6.3 Get Tainset"
   ]
  },
  {
   "cell_type": "code",
   "execution_count": 20,
   "id": "d760b165-ad48-47d7-8ac4-6defbc0a905f",
   "metadata": {},
   "outputs": [],
   "source": [
    "train = sprot_latest.iloc[:,np.r_[0,2:7,10:12]]"
   ]
  },
  {
   "cell_type": "markdown",
   "id": "5ac86e68-e449-4b64-8bc4-f415301f675b",
   "metadata": {},
   "source": [
    "### 6.4 Trim string"
   ]
  },
  {
   "cell_type": "code",
   "execution_count": 21,
   "id": "f4ede799-40d1-43f3-81be-c5fbbb70e7dc",
   "metadata": {},
   "outputs": [],
   "source": [
    "with pd.option_context('mode.chained_assignment', None):\n",
    "    train.ec_number = train.ec_number.parallel_apply(lambda x : str(x).strip()) #ec trim\n",
    "    train.seq = train.seq.parallel_apply(lambda x : str(x).strip()) #seq trim"
   ]
  },
  {
   "cell_type": "markdown",
   "id": "a6bfd483-8e73-4981-a10c-f28cb3b4a2da",
   "metadata": {},
   "source": [
    "### 6.5 Save train latest"
   ]
  },
  {
   "cell_type": "code",
   "execution_count": 22,
   "id": "450d4a30-e4b2-4743-94c3-518eda3833af",
   "metadata": {},
   "outputs": [],
   "source": [
    "train.to_feather(cfg.DATADIR + 'sprot_latest.feature')"
   ]
  },
  {
   "cell_type": "markdown",
   "id": "b308e065-d78e-4c12-9240-a37defcc1ed3",
   "metadata": {},
   "source": [
    "### 6.6 ESM embedding "
   ]
  },
  {
   "cell_type": "code",
   "execution_count": 4,
   "id": "fce624e8-d909-42cb-9073-87851c8d2baa",
   "metadata": {},
   "outputs": [],
   "source": [
    "train= pd.read_feather(cfg.DATADIR + 'sprot_latest.feature')"
   ]
  },
  {
   "cell_type": "code",
   "execution_count": 4,
   "id": "80a11a0a-7b83-4c7f-a2b8-ede6953cdae9",
   "metadata": {},
   "outputs": [
    {
     "name": "stdout",
     "output_type": "stream",
     "text": [
      "Transferred model to GPU\n"
     ]
    },
    {
     "name": "stderr",
     "output_type": "stream",
     "text": [
      "100%|█████████████████████████████████████████████████████████████████████████████████████████████████████████████████████████████████████| 477262/477262 [6:21:00<00:00, 20.88it/s]\n"
     ]
    }
   ],
   "source": [
    "# !pip install fair-esm\n",
    "tr_rep0, tr_rep32, tr_rep33 = esmebd.get_rep_multi_sequence(sequences=train, model='esm1b_t33_650M_UR50S',seqthres=1022)\n",
    "tr_rep0.to_feather(cfg.DATADIR + 'sprot_latest_rep0.feather')\n",
    "tr_rep32.to_feather(cfg.DATADIR + 'sprot_latest_rep32.feather')\n",
    "tr_rep33.to_feather(cfg.DATADIR + 'sprot_latest_rep33.feather')"
   ]
  },
  {
   "cell_type": "markdown",
   "id": "ba25666b-7ec0-489f-bac4-a56cd03ff730",
   "metadata": {},
   "source": [
    "### 6.7 Unirep embedding"
   ]
  },
  {
   "cell_type": "code",
   "execution_count": null,
   "id": "f933a86a-d52e-49a7-931e-02bfadfd6dae",
   "metadata": {},
   "outputs": [
    {
     "name": "stderr",
     "output_type": "stream",
     "text": [
      " 73%|███████████████████████████████████████████████████████████████████████████████████████████████▉                                    | 1734/2387 [47:50:42<21:30:00, 118.53s/it]"
     ]
    }
   ],
   "source": [
    "tr_unirep = unirep.getunirep(train, 200)\n",
    "tr_unirep.to_feather(cfg.DATADIR + 'sprot_latest_unirep.feather')"
   ]
  },
  {
   "cell_type": "markdown",
   "id": "cc38ac17-51d7-4025-8d79-88e972e45f91",
   "metadata": {},
   "source": [
    "## 7. Build benchmarking datasets\n",
    "### 7.1 Task 1 isEnzyme"
   ]
  },
  {
   "cell_type": "code",
   "execution_count": 15,
   "id": "a84e607d-6882-4a78-95f4-f58327a7bcea",
   "metadata": {},
   "outputs": [],
   "source": [
    "task1_train = train.iloc[:,np.r_[0,7,1]]\n",
    "task1_test = test.iloc[:,np.r_[0,7,1]]\n",
    "\n",
    "task1_train.to_feather(cfg.DATADIR + 'task1/train.feather')\n",
    "task1_test.to_feather(cfg.DATADIR + 'task1/test.feather')"
   ]
  },
  {
   "cell_type": "markdown",
   "id": "57df6c39-3f5b-4253-9578-1a206439b05e",
   "metadata": {},
   "source": [
    "### 7.2 Task2 Function Counts"
   ]
  },
  {
   "cell_type": "code",
   "execution_count": 16,
   "id": "d7a4222b-0bc4-47a5-9434-85b9249c0436",
   "metadata": {},
   "outputs": [],
   "source": [
    "task2_train = train[train.functionCounts >0]\n",
    "task2_train.reset_index(drop=True, inplace=True)\n",
    "task2_train = task2_train.iloc[:,np.r_[0,7,3]]\n",
    "\n",
    "task2_test = test[test.functionCounts >0]\n",
    "task2_test.reset_index(drop=True, inplace=True)\n",
    "task2_test = task2_test.iloc[:,np.r_[0,7,3]]\n",
    "\n",
    "task2_train.to_feather(cfg.DATADIR + 'task2/train.feather')\n",
    "task2_test.to_feather(cfg.DATADIR + 'task2/test.feather')\n"
   ]
  },
  {
   "cell_type": "markdown",
   "id": "6b2bd772-ccb4-412f-88df-8028cb94a1f8",
   "metadata": {},
   "source": [
    "### 7.3 Task3 EC Number"
   ]
  },
  {
   "cell_type": "code",
   "execution_count": 13,
   "id": "795f1d55-bc3f-43eb-adba-fd07d98373cf",
   "metadata": {},
   "outputs": [],
   "source": [
    "task3_train = train[train.functionCounts >0]\n",
    "task3_train.reset_index(drop=True, inplace=True)\n",
    "task3_train = task3_train.iloc[:,np.r_[0,7,4]]\n",
    "\n",
    "task3_test = test[test.functionCounts >0]\n",
    "task3_test.reset_index(drop=True, inplace=True)\n",
    "task3_test = task3_test.iloc[:,np.r_[0,7,4]]\n",
    "\n",
    "task3_train.to_feather(cfg.DATADIR + 'task3/train.feather')\n",
    "task3_test.to_feather(cfg.DATADIR + 'task3/test.feather')\n"
   ]
  },
  {
   "cell_type": "code",
   "execution_count": null,
   "id": "2c52f157-8447-4a53-a4e1-e1a076e39119",
   "metadata": {},
   "outputs": [],
   "source": []
  }
 ],
 "metadata": {
  "kernelspec": {
   "display_name": "py38",
   "language": "python",
   "name": "py38"
  },
  "language_info": {
   "codemirror_mode": {
    "name": "ipython",
    "version": 3
   },
   "file_extension": ".py",
   "mimetype": "text/x-python",
   "name": "python",
   "nbconvert_exporter": "python",
   "pygments_lexer": "ipython3",
   "version": "3.7.10"
  },
  "toc-autonumbering": false,
  "toc-showmarkdowntxt": false,
  "toc-showtags": false,
  "widgets": {
   "application/vnd.jupyter.widget-state+json": {
    "state": {},
    "version_major": 2,
    "version_minor": 0
   }
  }
 },
 "nbformat": 4,
 "nbformat_minor": 5
}
