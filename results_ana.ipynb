{
 "cells": [
  {
   "cell_type": "markdown",
   "metadata": {},
   "source": [
    "##  EC预测结果分析\n",
    "### 1. 导入必要的包"
   ]
  },
  {
   "cell_type": "code",
   "execution_count": 1,
   "metadata": {},
   "outputs": [],
   "source": [
    "import pandas as pd\n",
    "import numpy as np\n",
    "import config as cfg\n",
    "from tkinter import _flatten\n",
    "import tools.funclib as funclib\n",
    "import benchmark_evaluation as eva"
   ]
  },
  {
   "cell_type": "markdown",
   "metadata": {},
   "source": [
    "### 2. 读入训练测试数据"
   ]
  },
  {
   "cell_type": "code",
   "execution_count": 2,
   "metadata": {},
   "outputs": [],
   "source": [
    "data_task3_train = pd.read_feather(cfg.FILE_TASK3_TRAIN)\n",
    "\n",
    "task3_test_20 = pd.read_feather(cfg.FILE_TASK3_TEST_2020)\n",
    "task3_test_22 = pd.read_feather(cfg.FILE_TASK3_TEST_2022)\n",
    "\n",
    "ec_task3_train = _flatten([item.split(',') for item in list(set(data_task3_train.ec_number))])"
   ]
  },
  {
   "cell_type": "markdown",
   "metadata": {},
   "source": [
    "### 3. 定义操作函数"
   ]
  },
  {
   "cell_type": "code",
   "execution_count": 3,
   "metadata": {},
   "outputs": [],
   "source": [
    "def cacl_t20_t22(seqlist_20, seqlist_22, seq):\n",
    "    res=''\n",
    "    if seq in seqlist_20:\n",
    "        res = res +'_20'\n",
    "    if seq in seqlist_22:\n",
    "        res = res + '_22'\n",
    "    return res\n",
    "\n",
    "def isecpredictable(ec_str, ecset):\n",
    "    ec_array =[item.strip() for item in ec_str.split(',')]\n",
    "    intersection = set(ec_array) & ecset\n",
    "\n",
    "    if len(intersection) == len(ec_array):\n",
    "        return True\n",
    "    else:\n",
    "        return False\n",
    "\n",
    "def make_rank_array(rank_str):\n",
    "    # rank_str = rank_str.replace('[','').replace(']','').replace(')',' ').replace('(','').replace('\\'','').split(' , ')\n",
    "    # rank_str = [item.split(',') for item in rank_str]\n",
    "    # res_df = pd.DataFrame(rank_str, columns=['ec','prob'])\n",
    "    # res_df.prob = res_df.prob.astype('float').round(4)\n",
    "    rank_str = rank_str.replace('[','').replace(']','').replace('\\'','')\n",
    "    return rank_str\n",
    "\n",
    "def is_ec_pred_correct(ground, predict):\n",
    "    # print(ground)\n",
    "    # print(predict)\n",
    "    if ground == predict:\n",
    "        return True\n",
    "    elif len(ground.split('.')) == 4 and len(predict.split('.'))==4:\n",
    "        ground_array = ground.split('.')\n",
    "        predict_array = predict.split('.')\n",
    "\n",
    "        l3str_ground = '_'.join(ground_array[0:3])\n",
    "        l3str_pred = '_'.join(predict_array[0:3])\n",
    "\n",
    "        if (ground_array[3]=='-') & (predict_array[3]!='-') & (l3str_ground == l3str_pred):\n",
    "            return True\n",
    "        else:\n",
    "            l2str_ground = '_'.join(ground_array[0:2])\n",
    "            l2str_pred = '_'.join(predict_array[0:2])\n",
    "            if (ground_array[2]=='-') & (predict_array[2]!='-') & (l2str_ground == l2str_pred):\n",
    "                return True\n",
    "            else:\n",
    "                if (ground_array[1]=='-') & (predict_array[1]!='-') & (ground_array[0] == predict_array[0]):\n",
    "                    return True\n",
    "                else:\n",
    "                    return False\n",
    "    else:\n",
    "        return False\n"
   ]
  },
  {
   "cell_type": "markdown",
   "metadata": {},
   "source": [
    "### 4. 定义输出表格"
   ]
  },
  {
   "cell_type": "code",
   "execution_count": 4,
   "metadata": {},
   "outputs": [
    {
     "data": {
      "text/html": [
       "<div>\n",
       "<style scoped>\n",
       "    .dataframe tbody tr th:only-of-type {\n",
       "        vertical-align: middle;\n",
       "    }\n",
       "\n",
       "    .dataframe tbody tr th {\n",
       "        vertical-align: top;\n",
       "    }\n",
       "\n",
       "    .dataframe thead th {\n",
       "        text-align: right;\n",
       "    }\n",
       "</style>\n",
       "<table border=\"1\" class=\"dataframe\">\n",
       "  <thead>\n",
       "    <tr style=\"text-align: right;\">\n",
       "      <th></th>\n",
       "      <th>id</th>\n",
       "      <th>seq</th>\n",
       "      <th>ec_number</th>\n",
       "      <th>ds_in</th>\n",
       "      <th>ec_predictable</th>\n",
       "    </tr>\n",
       "  </thead>\n",
       "  <tbody>\n",
       "    <tr>\n",
       "      <th>0</th>\n",
       "      <td>P9WG69</td>\n",
       "      <td>MTTSVIVAGARTPIGKLMGSLKDFSASELGAIAIKGALEKANVPAS...</td>\n",
       "      <td>2.3.1.9</td>\n",
       "      <td>_22</td>\n",
       "      <td>True</td>\n",
       "    </tr>\n",
       "    <tr>\n",
       "      <th>1</th>\n",
       "      <td>P9WI52</td>\n",
       "      <td>MAERAPRGEVAVMVAVQSALVDRPGMLATARGLSHFGEHCIGWLIL...</td>\n",
       "      <td>3.1.3.-</td>\n",
       "      <td>_22</td>\n",
       "      <td>True</td>\n",
       "    </tr>\n",
       "    <tr>\n",
       "      <th>2</th>\n",
       "      <td>P9WQ38</td>\n",
       "      <td>MRALHVPAGSATALLLPALQRVLGGSDPALVAVPTQHESLLGALRV...</td>\n",
       "      <td>6.2.1.26</td>\n",
       "      <td>_22</td>\n",
       "      <td>True</td>\n",
       "    </tr>\n",
       "    <tr>\n",
       "      <th>3</th>\n",
       "      <td>P9WIA9</td>\n",
       "      <td>DAGVSWKVYRNKTLGPISSVLTYGSLVTSFKQSADPRSDLVRFGVA...</td>\n",
       "      <td>3.1.4.3</td>\n",
       "      <td>_20_22</td>\n",
       "      <td>True</td>\n",
       "    </tr>\n",
       "    <tr>\n",
       "      <th>4</th>\n",
       "      <td>D8GR70</td>\n",
       "      <td>MASYLTLFISAVVVNNYVLTRFLGLCIFFGVSKNLNASVGMGMAVT...</td>\n",
       "      <td>7.1.1.-</td>\n",
       "      <td>_20_22</td>\n",
       "      <td>False</td>\n",
       "    </tr>\n",
       "    <tr>\n",
       "      <th>...</th>\n",
       "      <td>...</td>\n",
       "      <td>...</td>\n",
       "      <td>...</td>\n",
       "      <td>...</td>\n",
       "      <td>...</td>\n",
       "    </tr>\n",
       "    <tr>\n",
       "      <th>5114</th>\n",
       "      <td>F1LXF1</td>\n",
       "      <td>MQMERKKSQQSAGQGLGEAPRPHYRGRSSESSCGLDGDYEDAELNP...</td>\n",
       "      <td>2.7.11.1</td>\n",
       "      <td>_20</td>\n",
       "      <td>True</td>\n",
       "    </tr>\n",
       "    <tr>\n",
       "      <th>5115</th>\n",
       "      <td>A0A0S4IJL0</td>\n",
       "      <td>MASSVLSSAAVATRSNVAQANMVAPFTGLKSAASFPVSRKQNLDIT...</td>\n",
       "      <td>4.1.1.39</td>\n",
       "      <td>_20</td>\n",
       "      <td>True</td>\n",
       "    </tr>\n",
       "    <tr>\n",
       "      <th>5116</th>\n",
       "      <td>W6QRN8</td>\n",
       "      <td>MRVEAGGDMRDKLMWIRLYILGNVGQTFGDMKRYIGMWSGMLFPIS...</td>\n",
       "      <td>1.-.-.-</td>\n",
       "      <td>_20</td>\n",
       "      <td>True</td>\n",
       "    </tr>\n",
       "    <tr>\n",
       "      <th>5117</th>\n",
       "      <td>C0HLR0</td>\n",
       "      <td>MRLTQGAFSYLPDLTDAQII</td>\n",
       "      <td>4.1.1.39</td>\n",
       "      <td>_20</td>\n",
       "      <td>True</td>\n",
       "    </tr>\n",
       "    <tr>\n",
       "      <th>5118</th>\n",
       "      <td>Q8DIS7</td>\n",
       "      <td>MKTLPKERRYETFSYLPPLSDAQIARQIQYAIDQGYHPCVEFNETS...</td>\n",
       "      <td>4.1.1.39</td>\n",
       "      <td>_20</td>\n",
       "      <td>True</td>\n",
       "    </tr>\n",
       "  </tbody>\n",
       "</table>\n",
       "<p>5119 rows × 5 columns</p>\n",
       "</div>"
      ],
      "text/plain": [
       "              id                                                seq ec_number  \\\n",
       "0         P9WG69  MTTSVIVAGARTPIGKLMGSLKDFSASELGAIAIKGALEKANVPAS...   2.3.1.9   \n",
       "1         P9WI52  MAERAPRGEVAVMVAVQSALVDRPGMLATARGLSHFGEHCIGWLIL...   3.1.3.-   \n",
       "2         P9WQ38  MRALHVPAGSATALLLPALQRVLGGSDPALVAVPTQHESLLGALRV...  6.2.1.26   \n",
       "3         P9WIA9  DAGVSWKVYRNKTLGPISSVLTYGSLVTSFKQSADPRSDLVRFGVA...   3.1.4.3   \n",
       "4         D8GR70  MASYLTLFISAVVVNNYVLTRFLGLCIFFGVSKNLNASVGMGMAVT...   7.1.1.-   \n",
       "...          ...                                                ...       ...   \n",
       "5114      F1LXF1  MQMERKKSQQSAGQGLGEAPRPHYRGRSSESSCGLDGDYEDAELNP...  2.7.11.1   \n",
       "5115  A0A0S4IJL0  MASSVLSSAAVATRSNVAQANMVAPFTGLKSAASFPVSRKQNLDIT...  4.1.1.39   \n",
       "5116      W6QRN8  MRVEAGGDMRDKLMWIRLYILGNVGQTFGDMKRYIGMWSGMLFPIS...   1.-.-.-   \n",
       "5117      C0HLR0                               MRLTQGAFSYLPDLTDAQII  4.1.1.39   \n",
       "5118      Q8DIS7  MKTLPKERRYETFSYLPPLSDAQIARQIQYAIDQGYHPCVEFNETS...  4.1.1.39   \n",
       "\n",
       "       ds_in  ec_predictable  \n",
       "0        _22            True  \n",
       "1        _22            True  \n",
       "2        _22            True  \n",
       "3     _20_22            True  \n",
       "4     _20_22           False  \n",
       "...      ...             ...  \n",
       "5114     _20            True  \n",
       "5115     _20            True  \n",
       "5116     _20            True  \n",
       "5117     _20            True  \n",
       "5118     _20            True  \n",
       "\n",
       "[5119 rows x 5 columns]"
      ]
     },
     "execution_count": 4,
     "metadata": {},
     "output_type": "execute_result"
    }
   ],
   "source": [
    "test_res = pd.concat([task3_test_22,task3_test_20[~task3_test_20.seq.isin(task3_test_22.seq)]], axis=0).reset_index(drop=True)\n",
    "test_res['ds_in'] = test_res.seq.apply(lambda x: cacl_t20_t22(task3_test_20.seq.values, task3_test_22.seq.values, x))\n",
    "test_res['ec_predictable']=test_res.ec_number.apply(lambda x :isecpredictable(x, set(ec_task3_train)))\n",
    "test_res"
   ]
  },
  {
   "cell_type": "markdown",
   "metadata": {},
   "source": [
    "### 5. 序列比对结果"
   ]
  },
  {
   "cell_type": "code",
   "execution_count": 5,
   "metadata": {},
   "outputs": [
    {
     "name": "stdout",
     "output_type": "stream",
     "text": [
      "Write finished\n",
      "Write finished\n",
      "diamond makedb --in /tmp/train.fasta -d /tmp/train.dmnd --quiet\n",
      "diamond blastp -d /tmp/train.dmnd  -q  /tmp/test.fasta -o /tmp/test_fasta_results.tsv -b5 -c1 -k 1 --quiet\n"
     ]
    }
   ],
   "source": [
    "diamond_task3 = funclib.getblast(train=data_task3_train[['id','seq']], test=test_res[['id','seq']])\n",
    "res_task3_diamond = diamond_task3[['id','sseqid','pident']].merge(data_task3_train[['id','ec_number']], how='left', left_on='sseqid', right_on='id')\n",
    "res_task3_diamond = res_task3_diamond[['id_x', 'ec_number','pident']].rename(columns={'id_x':'id','ec_number':'ec_diamond'})\n",
    "\n",
    "f_merge_res = test_res[['id','ec_number', 'ds_in', 'ec_predictable']].merge(res_task3_diamond, on='id', how='left').drop_duplicates().reset_index(drop=True)\n",
    "f_merge_res.ec_diamond = f_merge_res.ec_diamond.fillna('-')"
   ]
  },
  {
   "cell_type": "markdown",
   "metadata": {},
   "source": [
    "### 6. ECPred 结果"
   ]
  },
  {
   "cell_type": "code",
   "execution_count": 6,
   "metadata": {},
   "outputs": [],
   "source": [
    "res_ecpred = pd.read_csv(f'{cfg.RESULTSDIR}ecpred/ecpred.txt', sep='\\t', header=0)\n",
    "res_ecpred=res_ecpred.rename(columns={'Protein ID':'id','EC Number':'ec_ecpred'})[['id','ec_ecpred']]\n",
    "res_ecpred.ec_ecpred = np.where(res_ecpred.ec_ecpred=='no Prediction', '-', res_ecpred.ec_ecpred)\n",
    "res_ecpred.ec_ecpred = np.where(res_ecpred.ec_ecpred=='non Enzyme', '-', res_ecpred.ec_ecpred)\n",
    "\n",
    "f_merge_res = f_merge_res.merge(res_ecpred, on='id', how='left')\n",
    "f_merge_res.ec_ecpred = f_merge_res.ec_ecpred.fillna('-')\n"
   ]
  },
  {
   "cell_type": "markdown",
   "metadata": {},
   "source": [
    "### 7. DeepEC 结果"
   ]
  },
  {
   "cell_type": "code",
   "execution_count": 7,
   "metadata": {},
   "outputs": [],
   "source": [
    "res_deepec = pd.read_csv(cfg.FILE_DEEPEC_RESULTS, sep='\\t',names=['id', 'ec_number'], header=0 )\n",
    "res_deepec.ec_number=res_deepec.apply(lambda x: x['ec_number'].replace('EC:',''), axis=1)\n",
    "res_deepec.columns = ['id','ec_deepec']\n",
    "\n",
    "res = []\n",
    "for index, group in  res_deepec.groupby('id'):\n",
    "    if len(group)==1:\n",
    "        res = res + [[group.id.values[0], group.ec_deepec.values[0]]]\n",
    "    else:\n",
    "        ecs_str = ','.join(group.ec_deepec.values)\n",
    "        res = res +[[group.id.values[0],ecs_str]] \n",
    "res_deepec = pd.DataFrame(res, columns=['id', 'ec_deepec'])\n",
    "\n",
    "f_merge_res = f_merge_res.merge(res_deepec, how='left', on='id')\n",
    "f_merge_res.ec_deepec = f_merge_res.ec_deepec.fillna('-')"
   ]
  },
  {
   "cell_type": "markdown",
   "metadata": {},
   "source": [
    "### 8. CatFam 结果"
   ]
  },
  {
   "cell_type": "code",
   "execution_count": 8,
   "metadata": {},
   "outputs": [],
   "source": [
    "res_catfam = pd.read_csv(cfg.RESULTSDIR+'catfam/catfam.txt', sep='\\t', names=['id', 'ec_catfam'])\n",
    "res = []\n",
    "for index, group in  res_catfam.groupby('id'):\n",
    "    if len(group)==1:\n",
    "        res = res + [[group.id.values[0], group.ec_catfam.values[0]]]\n",
    "    else:\n",
    "        ecs_str = ','.join(group.ec_catfam.values)\n",
    "        res = res +[[group.id.values[0],ecs_str]] \n",
    "res_catfam = pd.DataFrame(res, columns=['id', 'ec_catfam'])\n",
    "res_catfam = res_catfam.fillna('-')\n",
    "\n",
    "\n",
    "f_merge_res = f_merge_res.merge(res_catfam, on='id', how='left')\n",
    "f_merge_res.ec_catfam = f_merge_res.ec_catfam.fillna('-')"
   ]
  },
  {
   "cell_type": "markdown",
   "metadata": {},
   "source": [
    "### 9. PRIAM 结果"
   ]
  },
  {
   "cell_type": "code",
   "execution_count": 9,
   "metadata": {},
   "outputs": [],
   "source": [
    "res_priam = eva.load_praim_res(resfile=cfg.RESULTSDIR+'priam/PRIAM_20221011103347/ANNOTATION/sequenceECs.txt')\n",
    "f_merge_res = f_merge_res.merge(res_priam, on='id', how='left')\n",
    "f_merge_res.ec_priam = f_merge_res.ec_priam.fillna('-')"
   ]
  },
  {
   "cell_type": "markdown",
   "metadata": {},
   "source": [
    "### 10. DMLF-ours"
   ]
  },
  {
   "cell_type": "code",
   "execution_count": 10,
   "metadata": {},
   "outputs": [],
   "source": [
    "res_dmlf = pd.read_csv(cfg.RESULTSDIR+'case2210/case_5122_results_pred.csv', sep=',',index_col=0)[['id', 'pred', 'listpred_20']]\n",
    "res_dmlf = res_dmlf.rename(columns={'pred':'ec_ours'})\n",
    "res_dmlf['ec_ours']=res_dmlf.ec_ours.apply(lambda x: x.split(',')[0].replace('(','').replace('\\'',''))\n",
    "res_dmlf['listpred_20'] = res_dmlf.listpred_20.apply(lambda x: make_rank_array(x))\n",
    "f_merge_res = f_merge_res.merge(res_dmlf, on='id', how='left')\n",
    "f_merge_res['is_full_level_ec']=f_merge_res.ec_number.apply(lambda x: False if '-' in x else True)\n",
    "f_merge_res=f_merge_res.drop_duplicates().reset_index(drop=True)"
   ]
  },
  {
   "cell_type": "markdown",
   "metadata": {},
   "source": [
    "### 11. 正确计算"
   ]
  },
  {
   "cell_type": "code",
   "execution_count": 11,
   "metadata": {},
   "outputs": [],
   "source": [
    "f_merge_res['right_ec_diamond'] = f_merge_res.apply(lambda x:is_ec_pred_correct(ground=x.ec_number, predict=x.ec_diamond), axis=1)\n",
    "f_merge_res['right_ec_ecpred']  = f_merge_res.apply(lambda x:is_ec_pred_correct(ground=x.ec_number, predict=x.ec_ecpred), axis=1)\n",
    "f_merge_res['right_ec_deepec']  = f_merge_res.apply(lambda x:is_ec_pred_correct(ground=x.ec_number, predict=x.ec_deepec), axis=1)\n",
    "f_merge_res['right_ec_catfam']  = f_merge_res.apply(lambda x:is_ec_pred_correct(ground=x.ec_number, predict=x.ec_catfam), axis=1)\n",
    "f_merge_res['right_ec_priam']   = f_merge_res.apply(lambda x:is_ec_pred_correct(ground=x.ec_number, predict=x.ec_priam), axis=1)\n",
    "f_merge_res['ec_ours']=f_merge_res.apply(lambda x: x.ec_diamond if x.pident>20 else x.ec_ours, axis=1)\n",
    "f_merge_res['right_ec_ours']   = f_merge_res.apply(lambda x:is_ec_pred_correct(ground=x.ec_number, predict=x.ec_ours), axis=1)\n",
    "f_merge_res.head(3)"
   ]
  },
  {
   "cell_type": "code",
   "execution_count": 14,
   "metadata": {},
   "outputs": [],
   "source": [
    "f_merge_res.to_excel(cfg.RESULTSDIR+'case2210/case_5121_integrated_results.xlsx', index=None)"
   ]
  }
 ],
 "metadata": {
  "kernelspec": {
   "display_name": "Python 3 (ipykernel)",
   "language": "python",
   "name": "python3"
  },
  "language_info": {
   "codemirror_mode": {
    "name": "ipython",
    "version": 3
   },
   "file_extension": ".py",
   "mimetype": "text/x-python",
   "name": "python",
   "nbconvert_exporter": "python",
   "pygments_lexer": "ipython3",
   "version": "3.8.13"
  },
  "vscode": {
   "interpreter": {
    "hash": "01198cbd8e9354c2bdc2e2d750ceaa12955025c4f7059132aa2585625d50e356"
   }
  },
  "widgets": {
   "application/vnd.jupyter.widget-state+json": {
    "state": {},
    "version_major": 2,
    "version_minor": 0
   }
  }
 },
 "nbformat": 4,
 "nbformat_minor": 4
}
