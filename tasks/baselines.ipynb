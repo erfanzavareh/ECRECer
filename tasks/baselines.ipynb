{
 "cells": [
  {
   "cell_type": "markdown",
   "id": "9307705e-50b0-4bae-b67c-ae8d62eb1737",
   "metadata": {},
   "source": [
    "# Task1. Baseline Methods\n",
    "\n",
    "> author: Shizhenkun   \n",
    "> email: zhenkun.shi@tib.cas.cn   \n",
    "> date: 2021-10-20  "
   ]
  },
  {
   "cell_type": "markdown",
   "id": "cb15383d-9838-48f5-9cf9-b369418a7e6b",
   "metadata": {},
   "source": [
    "## 1. Import packages"
   ]
  },
  {
   "cell_type": "code",
   "execution_count": 2,
   "id": "71bdaefa-a752-4ee3-851a-aed07d6b3363",
   "metadata": {},
   "outputs": [
    {
     "name": "stdout",
     "output_type": "stream",
     "text": [
      "INFO: Pandarallel will run on 80 workers.\n",
      "INFO: Pandarallel will use Memory file system to transfer data between the main process and workers.\n"
     ]
    }
   ],
   "source": [
    "import numpy as np\n",
    "import pandas as pd\n",
    "import time\n",
    "import datetime\n",
    "import sys\n",
    "import os\n",
    "from tqdm import tqdm\n",
    "from functools import reduce\n",
    "\n",
    "sys.path.append(\"../tools/\")\n",
    "import funclib\n",
    "\n",
    "sys.path.append(\"../\")\n",
    "import benchmark_train as btrain\n",
    "import benchmark_test as btest\n",
    "import config as cfg\n",
    "import benchmark_evaluation as eva\n",
    "\n",
    "from sklearn.model_selection import train_test_split\n",
    "from xgboost import XGBClassifier\n",
    "\n",
    "from pandarallel import pandarallel #  import pandaralle\n",
    "pandarallel.initialize() # init\n",
    "\n",
    "%load_ext autoreload\n",
    "%autoreload 2"
   ]
  },
  {
   "cell_type": "markdown",
   "id": "04b3f7db-f81d-481e-b0c5-278c60fe87f0",
   "metadata": {},
   "source": [
    "## 2. Load Data"
   ]
  },
  {
   "cell_type": "code",
   "execution_count": 4,
   "id": "8482e6a8-6523-4ed6-8784-d245538cf0b1",
   "metadata": {},
   "outputs": [
    {
     "name": "stdout",
     "output_type": "stream",
     "text": [
      "test size: 7101\n"
     ]
    }
   ],
   "source": [
    "test = pd.read_feather(cfg.DATADIR+'task1/test.feather')\n",
    "print('test size: {0}'.format(len(test)))"
   ]
  },
  {
   "cell_type": "code",
   "execution_count": null,
   "id": "b09b2d4f-fb94-4879-84fc-09d379e1ebfc",
   "metadata": {},
   "outputs": [],
   "source": [
    "## 3. "
   ]
  },
  {
   "cell_type": "code",
   "execution_count": null,
   "id": "6f0e293f-9651-4c7a-95b1-921dda74adda",
   "metadata": {},
   "outputs": [],
   "source": []
  }
 ],
 "metadata": {
  "kernelspec": {
   "display_name": "py38",
   "language": "python",
   "name": "py38"
  },
  "language_info": {
   "codemirror_mode": {
    "name": "ipython",
    "version": 3
   },
   "file_extension": ".py",
   "mimetype": "text/x-python",
   "name": "python",
   "nbconvert_exporter": "python",
   "pygments_lexer": "ipython3",
   "version": "3.7.10"
  },
  "widgets": {
   "application/vnd.jupyter.widget-state+json": {
    "state": {},
    "version_major": 2,
    "version_minor": 0
   }
  }
 },
 "nbformat": 4,
 "nbformat_minor": 5
}
