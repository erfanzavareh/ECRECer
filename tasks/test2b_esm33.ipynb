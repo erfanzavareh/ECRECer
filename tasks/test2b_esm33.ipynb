{
 "cells": [
  {
   "cell_type": "code",
   "execution_count": 7,
   "id": "d2e7801a-6466-46b9-b724-ff85bcd4fea7",
   "metadata": {},
   "outputs": [
    {
     "name": "stdout",
     "output_type": "stream",
     "text": [
      "INFO: Pandarallel will run on 80 workers.\n",
      "INFO: Pandarallel will use Memory file system to transfer data between the main process and workers.\n",
      "The autoreload extension is already loaded. To reload it, use:\n",
      "  %reload_ext autoreload\n"
     ]
    }
   ],
   "source": [
    "import numpy as np\n",
    "import pandas as pd\n",
    "import sys\n",
    "from functools import reduce\n",
    "import joblib\n",
    "sys.path.append(\"../tools/\")\n",
    "import funclib\n",
    "\n",
    "sys.path.append(\"../\")\n",
    "import config as cfg\n",
    "\n",
    "from pandarallel import pandarallel #  import pandaralle\n",
    "pandarallel.initialize() # init\n",
    "\n",
    "%load_ext autoreload\n",
    "%autoreload 2"
   ]
  },
  {
   "cell_type": "code",
   "execution_count": 3,
   "id": "aa1cc4bc-9886-4cea-88fb-8f185f68cb91",
   "metadata": {},
   "outputs": [
    {
     "name": "stdout",
     "output_type": "stream",
     "text": [
      "train size: 222567\n",
      "test size: 3304\n"
     ]
    }
   ],
   "source": [
    "#read train test data\n",
    "train = pd.read_feather(cfg.DATADIR+'task2/train.feather')\n",
    "test = pd.read_feather(cfg.DATADIR+'task2/test.feather')\n",
    "print('train size: {0}\\ntest size: {1}'.format(len(train), len(test)))"
   ]
  },
  {
   "cell_type": "code",
   "execution_count": 5,
   "id": "c25a61f7-cd7a-47c7-8bcd-1a0adc84c812",
   "metadata": {},
   "outputs": [],
   "source": [
    "trainset = train.copy()\n",
    "testset = test.copy()\n",
    "\n",
    "train_esm_33 = pd.read_feather(cfg.DATADIR + 'train_rep33.feather')\n",
    "test_esm_33 = pd.read_feather(cfg.DATADIR + 'test_rep33.feather')\n",
    "\n",
    "train_esm = trainset.merge(train_esm_33, on='id', how='left')\n",
    "test_esm = testset.merge(test_esm_33, on='id', how='left')"
   ]
  },
  {
   "cell_type": "code",
   "execution_count": 6,
   "id": "9904c4d5-21e1-4512-9a3e-b5e12de1ef86",
   "metadata": {},
   "outputs": [
    {
     "name": "stdout",
     "output_type": "stream",
     "text": [
      " baslineName \t\t accuracy \t precision-macro \t recall-macro \t f1-macro\n",
      "         knn  \t\t0.927966  \t0.797385 \t\t0.564381 \t0.599411\n",
      "          lr  \t\t0.921005  \t0.779185 \t\t0.436453 \t0.489729\n",
      "          xg  \t\t0.937954  \t0.944133 \t\t0.462591 \t0.540504\n",
      "          dt  \t\t0.881356  \t0.394840 \t\t0.386204 \t0.260381\n",
      "          rf  \t\t0.932203  \t0.927051 \t\t0.428325 \t0.499682\n",
      "        gbdt  \t\t0.923123  \t0.634707 \t\t0.482799 \t0.317849\n"
     ]
    }
   ],
   "source": [
    "X_train = np.array(train_esm.iloc[:,4:])\n",
    "X_test = np.array(test_esm.iloc[:,4:])\n",
    "\n",
    "Y_train = np.array(train_esm.functionCounts.astype('int')-1).flatten()\n",
    "Y_test = np.array(test_esm.functionCounts.astype('int')-1).flatten()\n",
    "\n",
    "funclib.run_baseline(X_train, Y_train, X_test, Y_test, type='multi')"
   ]
  }
 ],
 "metadata": {
  "kernelspec": {
   "display_name": "py38",
   "language": "python",
   "name": "py38"
  },
  "language_info": {
   "codemirror_mode": {
    "name": "ipython",
    "version": 3
   },
   "file_extension": ".py",
   "mimetype": "text/x-python",
   "name": "python",
   "nbconvert_exporter": "python",
   "pygments_lexer": "ipython3",
   "version": "3.7.10"
  },
  "widgets": {
   "application/vnd.jupyter.widget-state+json": {
    "state": {},
    "version_major": 2,
    "version_minor": 0
   }
  }
 },
 "nbformat": 4,
 "nbformat_minor": 5
}
