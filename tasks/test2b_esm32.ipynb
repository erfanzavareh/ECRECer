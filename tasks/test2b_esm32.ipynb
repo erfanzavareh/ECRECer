{
 "cells": [
  {
   "cell_type": "code",
   "execution_count": 2,
   "id": "d2e7801a-6466-46b9-b724-ff85bcd4fea7",
   "metadata": {},
   "outputs": [
    {
     "name": "stdout",
     "output_type": "stream",
     "text": [
      "INFO: Pandarallel will run on 80 workers.\n",
      "INFO: Pandarallel will use Memory file system to transfer data between the main process and workers.\n"
     ]
    }
   ],
   "source": [
    "import numpy as np\n",
    "import pandas as pd\n",
    "import time\n",
    "import datetime\n",
    "import sys\n",
    "import os\n",
    "from tqdm import tqdm\n",
    "from functools import reduce\n",
    "from Bio import SeqIO\n",
    "import joblib\n",
    "sys.path.append(\"../tools/\")\n",
    "import funclib\n",
    "\n",
    "sys.path.append(\"../\")\n",
    "import benchmark_train as btrain\n",
    "import benchmark_test as btest\n",
    "import benchmark_common as bcommon\n",
    "import config as cfg\n",
    "\n",
    "from pandarallel import pandarallel #  import pandaralle\n",
    "pandarallel.initialize() # init\n",
    "\n",
    "%load_ext autoreload\n",
    "%autoreload 2"
   ]
  },
  {
   "cell_type": "code",
   "execution_count": 3,
   "id": "aa1cc4bc-9886-4cea-88fb-8f185f68cb91",
   "metadata": {},
   "outputs": [
    {
     "name": "stdout",
     "output_type": "stream",
     "text": [
      "train size: 222567\n",
      "test size: 3304\n"
     ]
    }
   ],
   "source": [
    "#read train test data\n",
    "train = pd.read_feather(cfg.DATADIR+'task2/train.feather')\n",
    "test = pd.read_feather(cfg.DATADIR+'task2/test.feather')\n",
    "print('train size: {0}\\ntest size: {1}'.format(len(train), len(test)))"
   ]
  },
  {
   "cell_type": "code",
   "execution_count": 4,
   "id": "c25a61f7-cd7a-47c7-8bcd-1a0adc84c812",
   "metadata": {},
   "outputs": [],
   "source": [
    "trainset = train.copy()\n",
    "testset = test.copy()\n",
    "\n",
    "train_esm_33 = pd.read_feather(cfg.DATADIR + 'train_rep32.feather')\n",
    "test_esm_33 = pd.read_feather(cfg.DATADIR + 'test_rep32.feather')\n",
    "\n",
    "train_esm = trainset.merge(train_esm_33, on='id', how='left')\n",
    "test_esm = testset.merge(test_esm_33, on='id', how='left')"
   ]
  },
  {
   "cell_type": "code",
   "execution_count": 5,
   "id": "9904c4d5-21e1-4512-9a3e-b5e12de1ef86",
   "metadata": {},
   "outputs": [
    {
     "name": "stdout",
     "output_type": "stream",
     "text": [
      " baslineName \t\t accuracy \t precision-macro \t recall-macro \t f1-macro\n",
      "         knn  \t\t0.927361  \t0.631706 \t\t0.545860 \t0.577322\n",
      "          lr  \t\t0.916768  \t0.820481 \t\t0.309986 \t0.371860\n",
      "          xg  \t\t0.938862  \t0.942237 \t\t0.510078 \t0.593120\n",
      "          dt  \t\t0.887409  \t0.393725 \t\t0.541246 \t0.398433\n",
      "          rf  \t\t0.934322  \t0.939437 \t\t0.464030 \t0.539829\n",
      "        gbdt  \t\t0.927058  \t0.647949 \t\t0.313540 \t0.364284\n"
     ]
    }
   ],
   "source": [
    "X_train = np.array(train_esm.iloc[:,4:])\n",
    "X_test = np.array(test_esm.iloc[:,4:])\n",
    "\n",
    "Y_train = np.array(train_esm.functionCounts.astype('int')-1).flatten()\n",
    "Y_test = np.array(test_esm.functionCounts.astype('int')-1).flatten()\n",
    "\n",
    "funclib.run_baseline(X_train, Y_train, X_test, Y_test, type='multi')"
   ]
  },
  {
   "cell_type": "code",
   "execution_count": null,
   "id": "7b083e72-bc2d-42d3-9d60-d4331984327f",
   "metadata": {},
   "outputs": [],
   "source": []
  },
  {
   "cell_type": "code",
   "execution_count": null,
   "id": "be0b78d9-ac03-4b14-9b3c-1952463ee89a",
   "metadata": {},
   "outputs": [],
   "source": []
  },
  {
   "cell_type": "code",
   "execution_count": null,
   "id": "a935d108-18f7-4a3d-9c31-d551802d24ce",
   "metadata": {},
   "outputs": [],
   "source": []
  },
  {
   "cell_type": "code",
   "execution_count": null,
   "id": "0404f224-1135-4443-9650-2c35c7e14e9b",
   "metadata": {},
   "outputs": [],
   "source": []
  },
  {
   "cell_type": "code",
   "execution_count": null,
   "id": "2f162457-6a77-4826-adc0-f24c1f42a99f",
   "metadata": {},
   "outputs": [],
   "source": []
  },
  {
   "cell_type": "code",
   "execution_count": null,
   "id": "31fd740a-6fbd-44f4-a3fb-1f72e5fbb319",
   "metadata": {},
   "outputs": [],
   "source": []
  },
  {
   "cell_type": "code",
   "execution_count": null,
   "id": "67999e6c-63fa-416b-a546-2654c53c0910",
   "metadata": {},
   "outputs": [],
   "source": []
  },
  {
   "cell_type": "code",
   "execution_count": null,
   "id": "87f185f4-d7a8-4397-a7da-c5fd97bd3e10",
   "metadata": {},
   "outputs": [],
   "source": []
  }
 ],
 "metadata": {
  "kernelspec": {
   "display_name": "py38",
   "language": "python",
   "name": "py38"
  },
  "language_info": {
   "codemirror_mode": {
    "name": "ipython",
    "version": 3
   },
   "file_extension": ".py",
   "mimetype": "text/x-python",
   "name": "python",
   "nbconvert_exporter": "python",
   "pygments_lexer": "ipython3",
   "version": "3.7.10"
  },
  "widgets": {
   "application/vnd.jupyter.widget-state+json": {
    "state": {},
    "version_major": 2,
    "version_minor": 0
   }
  }
 },
 "nbformat": 4,
 "nbformat_minor": 5
}
