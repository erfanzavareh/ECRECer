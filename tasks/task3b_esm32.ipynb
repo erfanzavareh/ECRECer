{
 "cells": [
  {
   "cell_type": "markdown",
   "metadata": {
    "tags": []
   },
   "source": [
    "# Task3. Enzyme Commission Number Assignment\n",
    "\n",
    "> author: Shizhenkun   \n",
    "> email: zhenkun.shi@tib.cas.cn   \n",
    "> date: 2021-12-09  \n"
   ]
  },
  {
   "cell_type": "markdown",
   "metadata": {},
   "source": [
    "## 1. Import packages"
   ]
  },
  {
   "cell_type": "code",
   "execution_count": 1,
   "metadata": {
    "tags": []
   },
   "outputs": [
    {
     "name": "stdout",
     "output_type": "stream",
     "text": [
      "INFO: Pandarallel will run on 80 workers.\n",
      "INFO: Pandarallel will use Memory file system to transfer data between the main process and workers.\n"
     ]
    }
   ],
   "source": [
    "import numpy as np\n",
    "import pandas as pd\n",
    "import time\n",
    "import datetime\n",
    "import sys\n",
    "import os\n",
    "from tqdm import tqdm\n",
    "from functools import reduce\n",
    "import joblib\n",
    "\n",
    "sys.path.append(\"../tools/\")\n",
    "import funclib\n",
    "\n",
    "sys.path.append(\"../\")\n",
    "import benchmark_train as btrain\n",
    "import benchmark_test as btest\n",
    "import config as cfg\n",
    "import benchmark_evaluation as eva\n",
    "\n",
    "from sklearn.model_selection import train_test_split\n",
    "from xgboost import XGBClassifier\n",
    "\n",
    "from pandarallel import pandarallel #  import pandaralle\n",
    "pandarallel.initialize() # init\n",
    "\n",
    "%load_ext autoreload\n",
    "%autoreload 2"
   ]
  },
  {
   "cell_type": "markdown",
   "metadata": {},
   "source": [
    "## 2.  Load data"
   ]
  },
  {
   "cell_type": "code",
   "execution_count": 2,
   "metadata": {},
   "outputs": [
    {
     "name": "stdout",
     "output_type": "stream",
     "text": [
      "train size: 222567\n",
      "test size: 3304\n"
     ]
    }
   ],
   "source": [
    "#read train test data\n",
    "train = pd.read_feather(cfg.DATADIR+'task3/train.feather')\n",
    "test = pd.read_feather(cfg.DATADIR+'task3/test.feather')\n",
    "print('train size: {0}\\ntest size: {1}'.format(len(train), len(test)))"
   ]
  },
  {
   "cell_type": "markdown",
   "metadata": {},
   "source": [
    "## 3. Make label"
   ]
  },
  {
   "cell_type": "code",
   "execution_count": 3,
   "metadata": {},
   "outputs": [
    {
     "name": "stderr",
     "output_type": "stream",
     "text": [
      "100%|██████████████████████████████████████████████████████████████████████████████████████████████| 222567/222567 [04:46<00:00, 778.03it/s]\n",
      "100%|████████████████████████████████████████████████████████████████████████████████████████████████| 3304/3304 [00:00<00:00, 94681.62it/s]"
     ]
    },
    {
     "name": "stdout",
     "output_type": "stream",
     "text": [
      "loading ec to label dict\n"
     ]
    },
    {
     "name": "stderr",
     "output_type": "stream",
     "text": [
      "\n"
     ]
    }
   ],
   "source": [
    "train_set= funclib.split_ecdf_to_single_lines(train)\n",
    "test_set=funclib.split_ecdf_to_single_lines(test)\n",
    "\n",
    "#4. 加载EC号训练数据\n",
    "print('loading ec to label dict')\n",
    "if os.path.exists(cfg.FILE_EC_LABEL_DICT):\n",
    "    dict_ec_label = np.load(cfg.FILE_EC_LABEL_DICT, allow_pickle=True).item()\n",
    "else:\n",
    "    dict_ec_label = btrain.make_ec_label(train_label=train_set['ec_number'], test_label=test_set['ec_number'], file_save= cfg.FILE_EC_LABEL_DICT, force_model_update=cfg.UPDATE_MODEL)\n",
    "    \n",
    "train_set['ec_label'] = train_set.ec_number.parallel_apply(lambda x: dict_ec_label.get(x))\n",
    "test_set['ec_label'] = test_set.ec_number.parallel_apply(lambda x: dict_ec_label.get(x))"
   ]
  },
  {
   "cell_type": "markdown",
   "metadata": {
    "tags": []
   },
   "source": [
    "## 4. Embedding Comparison"
   ]
  },
  {
   "cell_type": "markdown",
   "metadata": {},
   "source": [
    "### 4.5 ESM REP0 + ML"
   ]
  },
  {
   "cell_type": "code",
   "execution_count": 4,
   "metadata": {},
   "outputs": [],
   "source": [
    "trainset = train_set.copy()\n",
    "testset = test_set.copy()\n",
    "\n",
    "encode_dict = dict(zip(set(trainset.ec_label),range(len(set(trainset.ec_label)))))\n",
    "trainset['ec_label_ecd']=trainset.ec_label.apply(lambda x: 0 if encode_dict.get(x)==None else encode_dict.get(x))\n",
    "testset['ec_label_ecd']=testset.ec_label.apply(lambda x: 0 if encode_dict.get(x)==None else encode_dict.get(x))\n",
    "\n",
    "train_esm_0 = pd.read_feather(cfg.DATADIR + 'train_rep32.feather')\n",
    "test_esm_0 = pd.read_feather(cfg.DATADIR + 'test_rep32.feather')\n",
    "\n",
    "train_esm = trainset.merge(train_esm_0, on='id', how='left')\n",
    "test_esm = testset.merge(test_esm_0, on='id', how='left')"
   ]
  },
  {
   "cell_type": "code",
   "execution_count": null,
   "metadata": {},
   "outputs": [],
   "source": []
  },
  {
   "cell_type": "code",
   "execution_count": null,
   "metadata": {},
   "outputs": [
    {
     "name": "stdout",
     "output_type": "stream",
     "text": [
      " baslineName \t\t accuracy \t precision-macro \t recall-macro \t f1-macro\n",
      "         knn  \t\t0.440164  \t0.473911 \t\t0.667822 \t0.239496\n",
      "          xg  \t\t0.134426  \t0.811717 \t\t0.190549 \t0.039573\n"
     ]
    }
   ],
   "source": [
    "X_train = np.array(train_esm.iloc[:,5:])\n",
    "X_test = np.array(test_esm.iloc[:,5:])\n",
    "\n",
    "# Y_train = np.array(train_esm.ec_label.astype('int')).flatten()\n",
    "# Y_test = np.array(test_esm.ec_label.astype('int')).flatten()\n",
    "\n",
    "Y_train = np.array(trainset.ec_label_ecd.astype('int'))\n",
    "Y_test = np.array(testset.ec_label_ecd.astype('int'))\n",
    "\n",
    "# funclib.run_baseline(X_train, Y_train, X_test, Y_test, type='multi')\n",
    "funclib.run_baseline_2(X_train, Y_train, X_test, Y_test, type='multi')"
   ]
  }
 ],
 "metadata": {
  "kernelspec": {
   "display_name": "py38",
   "language": "python",
   "name": "py38"
  },
  "language_info": {
   "codemirror_mode": {
    "name": "ipython",
    "version": 3
   },
   "file_extension": ".py",
   "mimetype": "text/x-python",
   "name": "python",
   "nbconvert_exporter": "python",
   "pygments_lexer": "ipython3",
   "version": "3.7.10"
  },
  "widgets": {
   "application/vnd.jupyter.widget-state+json": {
    "state": {},
    "version_major": 2,
    "version_minor": 0
   }
  }
 },
 "nbformat": 4,
 "nbformat_minor": 4
}
