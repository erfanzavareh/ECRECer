{
 "cells": [
  {
   "cell_type": "markdown",
   "id": "11df1ead-93b7-43ad-8370-c0389f802500",
   "metadata": {},
   "source": [
    "# Task2. Enzyme Catalytic Function Quantity Annotation\n",
    "\n",
    "> author: Shizhenkun   \n",
    "> email: zhenkun.shi@tib.cas.cn   \n",
    "> date: 2021-09-28  \n",
    "\n",
    "\n"
   ]
  },
  {
   "cell_type": "markdown",
   "id": "9eace04d-074d-4d4f-a6d2-b91fffda9994",
   "metadata": {},
   "source": [
    "## 1. Import packages"
   ]
  },
  {
   "cell_type": "code",
   "execution_count": 1,
   "id": "c843b563-ffe0-442a-90d2-47b1705f0441",
   "metadata": {
    "tags": []
   },
   "outputs": [
    {
     "name": "stdout",
     "output_type": "stream",
     "text": [
      "INFO: Pandarallel will run on 80 workers.\n",
      "INFO: Pandarallel will use Memory file system to transfer data between the main process and workers.\n"
     ]
    }
   ],
   "source": [
    "import numpy as np\n",
    "import pandas as pd\n",
    "\n",
    "\n",
    "import sys\n",
    "import os\n",
    "from tqdm import tqdm\n",
    "from functools import reduce\n",
    "\n",
    "sys.path.append(\"../tools/\")\n",
    "import funclib\n",
    "\n",
    "sys.path.append(\"../\")\n",
    "import benchmark_common as bcommon\n",
    "import benchmark_train as btrain\n",
    "import benchmark_test as btest\n",
    "import config as cfg\n",
    "import benchmark_evaluation as eva\n",
    "import joblib\n",
    "\n",
    "from sklearn import metrics\n",
    "\n",
    "from pandarallel import pandarallel # 导入pandaralle\n",
    "pandarallel.initialize() # 初始化该这个b...并行库\n",
    "\n",
    "%load_ext autoreload\n",
    "%autoreload 2"
   ]
  },
  {
   "cell_type": "markdown",
   "id": "93a6a622-6c28-4083-998a-4e018886603e",
   "metadata": {},
   "source": [
    "## 2. Load data"
   ]
  },
  {
   "cell_type": "code",
   "execution_count": 2,
   "id": "04d393be-210b-450b-8e1a-b31991e23525",
   "metadata": {},
   "outputs": [
    {
     "name": "stdout",
     "output_type": "stream",
     "text": [
      "train size: 222567\n",
      "test size: 3304\n"
     ]
    }
   ],
   "source": [
    "#read train test data\n",
    "train = pd.read_feather(cfg.DATADIR+'task2/train.feather')\n",
    "test = pd.read_feather(cfg.DATADIR+'task2/test.feather')\n",
    "print('train size: {0}\\ntest size: {1}'.format(len(train), len(test)))"
   ]
  },
  {
   "cell_type": "markdown",
   "id": "2f4af692-2fb5-472e-8694-0b9203f40ed4",
   "metadata": {},
   "source": [
    "## 3. Gather features"
   ]
  },
  {
   "cell_type": "code",
   "execution_count": 3,
   "id": "7c6edc66-b92e-41d1-a55b-578cf51d3152",
   "metadata": {},
   "outputs": [],
   "source": [
    "trainf=pd.read_feather(cfg.DATADIR+'train_rep32.feather')\n",
    "testf=pd.read_feather(cfg.DATADIR+'test_rep32.feather')\n",
    "\n",
    "train = train.merge(trainf, on='id', how='left')\n",
    "test = test.merge(testf, on='id', how='left')"
   ]
  },
  {
   "cell_type": "markdown",
   "id": "9818e474-eac9-4c39-817f-ed60e653f72f",
   "metadata": {},
   "source": [
    "## 4. Prediction\n"
   ]
  },
  {
   "cell_type": "markdown",
   "id": "6ba91cd6-f598-4909-bd36-c6f1fbe286d9",
   "metadata": {},
   "source": [
    "### 4.1 singel-to-multi"
   ]
  },
  {
   "cell_type": "code",
   "execution_count": 5,
   "id": "0ec6d288-48f0-41a8-b77b-842219474d45",
   "metadata": {},
   "outputs": [],
   "source": [
    "train_s1=train.copy()\n",
    "test_s1=test.copy()\n",
    "\n",
    "train_s1['lb'] = train_s1.functionCounts.apply(lambda x : 0 if x==1 else 1)\n",
    "test_s1['lb'] = test_s1.functionCounts.apply(lambda x : 0 if x==1 else 1)\n",
    "\n",
    "X_train = np.array(train.iloc[:,np.r_[3:1283]])\n",
    "Y_train = np.array(train_s1.lb.astype('int')).flatten()\n",
    "\n",
    "X_test = np.array(test.iloc[:,np.r_[3:1283]])\n",
    "Y_test = np.array(test_s1.lb.astype('int')).flatten()"
   ]
  },
  {
   "cell_type": "code",
   "execution_count": 6,
   "id": "8df6a915-9c96-4575-a26c-9af097168acf",
   "metadata": {},
   "outputs": [
    {
     "name": "stdout",
     "output_type": "stream",
     "text": [
      "baslineName \t accuracy \t precision(PPV) \t NPV \t\t recall \t f1 \t\t \t\t confusion Matrix\n",
      "knn \t\t0.925545 \t0.517857 \t\t0.947385 \t0.345238 \t0.414286 \t tp: 87 fp: 81 fn: 165 tn: 2971\n",
      "lr \t\t0.919189 \t0.407407 \t\t0.932051 \t0.130952 \t0.198198 \t tp: 33 fp: 48 fn: 219 tn: 3004\n",
      "xg \t\t0.940375 \t0.802198 \t\t0.944289 \t0.289683 \t0.425656 \t tp: 73 fp: 18 fn: 179 tn: 3034\n",
      "dt \t\t0.886804 \t0.261719 \t\t0.939304 \t0.265873 \t0.263780 \t tp: 67 fp: 189 fn: 185 tn: 2863\n",
      "rf \t\t0.937651 \t0.883333 \t\t0.938656 \t0.210317 \t0.339744 \t tp: 53 fp: 7 fn: 199 tn: 3045\n",
      "gbdt \t\t0.928874 \t0.869565 \t\t0.929290 \t0.079365 \t0.145455 \t tp: 20 fp: 3 fn: 232 tn: 3049\n"
     ]
    }
   ],
   "source": [
    "funclib.run_baseline(X_train, Y_train, X_test, Y_test)"
   ]
  },
  {
   "cell_type": "code",
   "execution_count": 8,
   "id": "354f3f3a-d274-45df-abbb-551a300b5dc3",
   "metadata": {},
   "outputs": [
    {
     "data": {
      "text/plain": [
       "['/home/shizhenkun/codebase/DMLF/model/single_multi.model']"
      ]
     },
     "execution_count": 8,
     "metadata": {},
     "output_type": "execute_result"
    }
   ],
   "source": [
    "groundtruth, predict, predictprob, model = funclib.xgmain(X_train, Y_train, X_test, Y_test, type='binary')\n",
    "joblib.dump(model, cfg.MODELDIR+'/single_multi.model')"
   ]
  },
  {
   "cell_type": "markdown",
   "id": "8ffd0ece-36f1-4962-9547-c302b5bb6aa1",
   "metadata": {},
   "source": [
    "### 4.2 2-8 functions"
   ]
  },
  {
   "cell_type": "code",
   "execution_count": 10,
   "id": "75bb9b74-0de0-427d-8cfa-fd8dd2b972ea",
   "metadata": {},
   "outputs": [],
   "source": [
    "#gather >2 data\n",
    "train_s2=train.copy()\n",
    "test_s2=test.copy()\n",
    "\n",
    "train_s2=train_s2[train_s2.functionCounts>=2]\n",
    "test_s2=test_s2[test_s2.functionCounts>=2]\n",
    "\n",
    "train_s2.reset_index(drop=True, inplace=True)\n",
    "test_s2.reset_index(drop=True, inplace=True)\n",
    "\n",
    "#define X,Y\n",
    "X_train = np.array(train_s2.iloc[:,np.r_[3:1283]])\n",
    "Y_train = np.array(train_s2.functionCounts.astype('int')-2).flatten()\n",
    "\n",
    "X_test = np.array(test_s2.iloc[:,np.r_[3:1283]])\n",
    "Y_test = np.array(test_s2.functionCounts.astype('int')-2).flatten()"
   ]
  },
  {
   "cell_type": "code",
   "execution_count": 11,
   "id": "4a53913e-0311-4ace-9e89-bbd6e54afbc8",
   "metadata": {},
   "outputs": [
    {
     "name": "stdout",
     "output_type": "stream",
     "text": [
      " baslineName \t\t accuracy \t precision-macro \t recall-macro \t f1-macro\n",
      "         knn  \t\t0.833333  \t0.678550 \t\t0.623593 \t0.646456\n",
      "          lr  \t\t0.761905  \t0.707956 \t\t0.637942 \t0.521033\n",
      "          xg  \t\t0.849206  \t0.854167 \t\t0.630704 \t0.623925\n",
      "          dt  \t\t0.702381  \t0.479052 \t\t0.482337 \t0.479975\n",
      "          rf  \t\t0.853175  \t0.864239 \t\t0.546546 \t0.594133\n",
      "        gbdt  \t\t0.853175  \t0.856578 \t\t0.573413 \t0.602268\n"
     ]
    }
   ],
   "source": [
    "funclib.run_baseline(X_train, Y_train, X_test, Y_test, type='multi')"
   ]
  },
  {
   "cell_type": "code",
   "execution_count": 12,
   "id": "c511a781-e6ad-4c0c-877d-376dd823ad52",
   "metadata": {},
   "outputs": [
    {
     "data": {
      "text/plain": [
       "['/home/shizhenkun/codebase/DMLF/model/multi_many.model']"
      ]
     },
     "execution_count": 12,
     "metadata": {},
     "output_type": "execute_result"
    }
   ],
   "source": [
    "groundtruth, predict, predictprob, model = funclib.xgmain(X_train, Y_train, X_test, Y_test, type='multi')\n",
    "joblib.dump(model, cfg.MODELDIR+'/multi_many.model')"
   ]
  },
  {
   "cell_type": "markdown",
   "id": "c954c640-0582-4f06-8dc0-ddb145e9d5c5",
   "metadata": {},
   "source": [
    "## 5. Integration"
   ]
  },
  {
   "cell_type": "markdown",
   "id": "c6c77518-8e16-4577-9703-62408d90bec6",
   "metadata": {},
   "source": [
    "### 5.1 sequence aligment"
   ]
  },
  {
   "cell_type": "code",
   "execution_count": 6,
   "id": "eb75db2e-c859-4476-ac69-121ef7820113",
   "metadata": {
    "collapsed": true,
    "jupyter": {
     "outputs_hidden": true
    },
    "tags": []
   },
   "outputs": [
    {
     "name": "stdout",
     "output_type": "stream",
     "text": [
      "Write finished\n",
      "Write finished\n",
      "diamond makedb --in /tmp/train.fasta -d /tmp/train.dmnd\n"
     ]
    },
    {
     "name": "stderr",
     "output_type": "stream",
     "text": [
      "diamond v2.0.8.146 (C) Max Planck Society for the Advancement of Science\n",
      "Documentation, support and updates available at http://www.diamondsearch.org\n",
      "\n",
      "#CPU threads: 32\n",
      "Scoring parameters: (Matrix=BLOSUM62 Lambda=0.267 K=0.041 Penalties=11/1)\n",
      "Database input file: /tmp/train.fasta\n",
      "Opening the database file...  [0.004s]\n",
      "Loading sequences...  [0.376s]\n",
      "Masking sequences...  [0.282s]\n",
      "Writing sequences...  [0.097s]\n",
      "Hashing sequences...  [0.025s]\n",
      "Loading sequences...  [0s]\n",
      "Writing trailer...  [0.001s]\n",
      "Closing the input file...  [0.002s]\n",
      "Closing the database file...  [0.023s]\n",
      "Database hash = d455115f7ab276d8f0c450236f13a30a\n",
      "Processed 222567 sequences, 93551643 letters.\n",
      "Total time = 0.814s\n"
     ]
    },
    {
     "name": "stdout",
     "output_type": "stream",
     "text": [
      "diamond blastp -d /tmp/train.dmnd  -q  /tmp/test.fasta -o /tmp/test_fasta_results.tsv -b5 -c1 -k 1 --quiet\n"
     ]
    }
   ],
   "source": [
    "res_data=funclib.getblast(train,test)\n",
    "res_data = res_data[['id', 'sseqid']].merge(train, left_on='sseqid',right_on='id', how='left')[['id_x','sseqid','functionCounts']]\n",
    "res_data =res_data.rename(columns={'id_x':'id','sseqid':'id_ref', 'functionCounts':'functionCounts_pred'})\n",
    "res_data = res_data.merge(test, on='id', how='left')[['id','functionCounts_pred','functionCounts']]"
   ]
  },
  {
   "cell_type": "markdown",
   "id": "a98e139a-abe5-4ed4-9209-1e3066864006",
   "metadata": {},
   "source": [
    "### 5.2 Xgboost"
   ]
  },
  {
   "cell_type": "code",
   "execution_count": 22,
   "id": "29f2b2bc-11e8-4800-8ddd-d8410a1c5e9f",
   "metadata": {},
   "outputs": [],
   "source": [
    "X_test = np.array(test.iloc[:,3:])\n",
    "Y_test = np.array(test.functionCounts.astype('int')).flatten()\n",
    "\n",
    "model_s = joblib.load(cfg.MODELDIR+'/single_multi.model')\n",
    "model_m = joblib.load(cfg.MODELDIR+'/multi_many.model')"
   ]
  },
  {
   "cell_type": "code",
   "execution_count": 23,
   "id": "d41a84e0-8641-4c3e-96c1-7785ca2ac723",
   "metadata": {},
   "outputs": [],
   "source": [
    "pred_s=model_s.predict(X_test)\n",
    "pred_m=model_m.predict(X_test)"
   ]
  },
  {
   "cell_type": "markdown",
   "id": "c56327c5-8862-43a0-840b-90f41c352cef",
   "metadata": {},
   "source": [
    "### 5.3 Results integration"
   ]
  },
  {
   "cell_type": "code",
   "execution_count": 80,
   "id": "0ebc5ca0-7064-44e4-8760-4ef22102a2d5",
   "metadata": {},
   "outputs": [],
   "source": [
    "pred_final = test.iloc[:,np.r_[0,2]]\n",
    "pred_final = pred_final.merge(res_data, on='id', how='left')\n",
    "pred_final['pred_s']=1-pred_s\n",
    "pred_final['pred_m']=pred_m+2\n",
    "pred_final = pred_final.iloc[:,np.r_[0,1,2,4,5]]\n",
    "\n",
    "colnames=[  'id', 'functionCounts_groundtruth', 'functionCounts_blast', 'functionCounts_s', 'functionCounts_m' ]\n",
    "pred_final.columns = colnames\n",
    "\n",
    "def choose_functioncounts(blast, s,m):\n",
    "    if str(blast)!='nan':\n",
    "        return blast\n",
    "    if s ==1:\n",
    "        return 1\n",
    "    return m\n",
    "\n",
    "pred_final['functionCounts_dmlf'] = pred_final.apply(lambda x:choose_functioncounts(x.functionCounts_blast, x.functionCounts_s, x.functionCounts_m), axis=1)\n",
    "pred_final=pred_final.iloc[:,np.r_[0,1,5]]"
   ]
  },
  {
   "cell_type": "code",
   "execution_count": 81,
   "id": "fa9447c0-0b29-4c51-bcc5-833eab6d77f1",
   "metadata": {},
   "outputs": [
    {
     "name": "stdout",
     "output_type": "stream",
     "text": [
      "1\t2942/3052\n",
      "2\t48/183\n",
      "3\t31/53\n",
      "4\t2/6\n",
      "5\t0/2\n",
      "6\t5/7\n",
      "7\t1/1\n",
      "8\t0/0\n"
     ]
    }
   ],
   "source": [
    "for i in range(1,9):\n",
    "    right= len(pred_final[(pred_final.functionCounts_groundtruth==pred_final.functionCounts_dmlf) & (pred_final.functionCounts_groundtruth==i)])\n",
    "    total= len(pred_final[(pred_final.functionCounts_groundtruth==i)])\n",
    "    print(str(i)+'\\t'+str(right)+'/'+str(total))"
   ]
  },
  {
   "cell_type": "code",
   "execution_count": 55,
   "id": "0e88d9a8-a830-4e16-90bd-f3121ff6afbd",
   "metadata": {},
   "outputs": [],
   "source": []
  },
  {
   "cell_type": "code",
   "execution_count": null,
   "id": "d72d91cf-1c78-4755-9e5d-03cef07aac08",
   "metadata": {},
   "outputs": [],
   "source": []
  },
  {
   "cell_type": "code",
   "execution_count": null,
   "id": "959ec9f3-6fe3-47c5-844c-3f6f63c61dbb",
   "metadata": {},
   "outputs": [],
   "source": []
  },
  {
   "cell_type": "code",
   "execution_count": null,
   "id": "74a88f6c-e466-4aa1-ba10-2d6f32af6f8d",
   "metadata": {},
   "outputs": [],
   "source": []
  },
  {
   "cell_type": "code",
   "execution_count": 61,
   "id": "add6c8d4-b360-4cf3-a716-2dba149711a2",
   "metadata": {},
   "outputs": [],
   "source": []
  }
 ],
 "metadata": {
  "kernelspec": {
   "display_name": "py38",
   "language": "python",
   "name": "py38"
  },
  "language_info": {
   "codemirror_mode": {
    "name": "ipython",
    "version": 3
   },
   "file_extension": ".py",
   "mimetype": "text/x-python",
   "name": "python",
   "nbconvert_exporter": "python",
   "pygments_lexer": "ipython3",
   "version": "3.7.10"
  },
  "toc-autonumbering": false,
  "widgets": {
   "application/vnd.jupyter.widget-state+json": {
    "state": {},
    "version_major": 2,
    "version_minor": 0
   }
  }
 },
 "nbformat": 4,
 "nbformat_minor": 5
}
